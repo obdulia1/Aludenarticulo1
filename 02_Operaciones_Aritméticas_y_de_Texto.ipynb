{
  "nbformat": 4,
  "nbformat_minor": 0,
  "metadata": {
    "colab": {
      "name": "02 Operaciones Aritméticas y de Texto",
      "provenance": [],
      "include_colab_link": true
    },
    "kernelspec": {
      "name": "python3",
      "display_name": "Python 3"
    }
  },
  "cells": [
    {
      "cell_type": "markdown",
      "metadata": {
        "id": "view-in-github",
        "colab_type": "text"
      },
      "source": [
        "<a href=\"https://colab.research.google.com/github/obdulia1/Aludenarticulo1/blob/master/02_Operaciones_Aritm%C3%A9ticas_y_de_Texto.ipynb\" target=\"_parent\"><img src=\"https://colab.research.google.com/assets/colab-badge.svg\" alt=\"Open In Colab\"/></a>"
      ]
    },
    {
      "cell_type": "markdown",
      "metadata": {
        "id": "IC3xXq4XeNzT"
      },
      "source": [
        "<img src=\"https://solariabiodata.com.mx/images/solaria_banner.png\" width=\"400\">\r\n",
        "\r\n",
        "# Biodata Camp: Python\r\n",
        "Bienvenidos al material que hemos preparado para el Biodata Camp: Python 🐍"
      ]
    },
    {
      "cell_type": "markdown",
      "metadata": {
        "id": "DkKzvGEKePv0"
      },
      "source": [
        "# 02 Operaciones Aritméticas y de Texto\n"
      ]
    },
    {
      "cell_type": "markdown",
      "metadata": {
        "id": "qRUO87GIBH3n"
      },
      "source": [
        "En Python existe una interfaz que nos permite hacer operaciones de manera interactiva. Esta funcionalidad se asemeja a la que usamos en una calculadora."
      ]
    },
    {
      "cell_type": "code",
      "metadata": {
        "id": "Ol4Ln14Xd6ow",
        "colab": {
          "base_uri": "https://localhost:8080/",
          "height": 35
        },
        "outputId": "2c8c59dc-6e88-4ec3-ada9-fec00a10a329"
      },
      "source": [
        "\"Hola mundo\""
      ],
      "execution_count": null,
      "outputs": [
        {
          "output_type": "execute_result",
          "data": {
            "application/vnd.google.colaboratory.intrinsic+json": {
              "type": "string"
            },
            "text/plain": [
              "'Hola mundo'"
            ]
          },
          "metadata": {
            "tags": []
          },
          "execution_count": 3
        }
      ]
    },
    {
      "cell_type": "markdown",
      "metadata": {
        "id": "zZVle67L5vPp"
      },
      "source": [
        "![](https://i.kym-cdn.com/photos/images/original/000/462/037/349.jpg)"
      ]
    },
    {
      "cell_type": "markdown",
      "metadata": {
        "id": "Q3wFUQ_fJPu0"
      },
      "source": [
        "### Operadores aritméticos\n",
        "\n",
        "Como es usual en lenguajes de programación, en Python, existen implementaciones generales de las operaciones aritméticas más relevantes. Cuando queremos indicarle una operación a Python lo hacemos a través de expresiones que indican a la computadora procesar valores a través de un operador:"
      ]
    },
    {
      "cell_type": "code",
      "metadata": {
        "id": "McwbP4nzJOg1",
        "colab": {
          "base_uri": "https://localhost:8080/"
        },
        "outputId": "ad51f43e-4930-40e5-bd16-25c4e77757b2"
      },
      "source": [
        "7+5"
      ],
      "execution_count": null,
      "outputs": [
        {
          "output_type": "execute_result",
          "data": {
            "text/plain": [
              "12"
            ]
          },
          "metadata": {
            "tags": []
          },
          "execution_count": 4
        }
      ]
    },
    {
      "cell_type": "markdown",
      "metadata": {
        "id": "n_8aAw6QLnA-"
      },
      "source": [
        "A continuación se describen los operadores que se pueden utilizar\n",
        "\n",
        "| Operador | Significado |\n",
        "|----------|-------------|\n",
        "| `(` `)` | Paréntesis |\n",
        "|  `**` | Potencia |\n",
        "| `*` | Multiplicación |\n",
        "| `/` | División |\n",
        "| `//` | División entera |\n",
        "| `%` | Módulo |\n",
        "| `+` | Adición |\n",
        "| `-` | Sustracción |\n",
        "\n",
        "\n",
        "\n"
      ]
    },
    {
      "cell_type": "markdown",
      "metadata": {
        "id": "vIWD8QC-UGzu"
      },
      "source": [
        "Vamos a practicar los operadores"
      ]
    },
    {
      "cell_type": "code",
      "metadata": {
        "colab": {
          "base_uri": "https://localhost:8080/"
        },
        "id": "6NmyrDGGQ-F8",
        "outputId": "18929c99-802b-4ad7-90ae-1fc9fabb7b36"
      },
      "source": [
        "9*3"
      ],
      "execution_count": null,
      "outputs": [
        {
          "output_type": "execute_result",
          "data": {
            "text/plain": [
              "27"
            ]
          },
          "metadata": {
            "tags": []
          },
          "execution_count": 10
        }
      ]
    },
    {
      "cell_type": "markdown",
      "metadata": {
        "id": "N5ZPt-oNUOZT"
      },
      "source": [
        "### Operadores binarios\n",
        "\n",
        "Para la computadora los valores que nosotros percibimos como números (o caractéres) son definidos de forma binaria. En nuestro caso usamos el sitema de representación decimal, lo cual significa que tenemos 10 símbolos (`0`,`1`,`2`,`3`,`4`,`5`,`6`,`7`,`8`,`9`) para representar cualquier número, en el sistema binario solo existen el `0` y el `1`. Así, existe una representación binaria para todos los números. \n",
        "\n",
        "Una herramienta muy util es la conversión entre nuestro sistema de representación decimal al sistema de representación binaria. En teoría podriamos convertir cualquier tipo de representación a cualquier otra #cofcof**SistemaHexadecimal**#cofcof. Para ello nocesitaremos una operación mental:\n",
        "\n",
        "- Primero necesitamos hacer una división de nuestro número decimal $D$ (*dividendo*) entre la base de nuestro sistema deseado (el *divisor* es $2$ porque vamos a convertir a binario):  $X=\\frac{D}{2}$\n",
        "- A continuación recolectamos el *residuo* $r$ y lo guardamos con la posición $i=1$, sabemos que el residuo solo puede ser `1` o `0` porque usamos $2$ como *divisor*\n",
        "- Usaremos el resultado de la operación anterior $X$ para repetir nuevamente la operación, para fines prácticos cambiaremos $X$ por otra represantación: $D_{i+1}=\\frac{D_{i}}{2}$ y repetiremos este procedimiento hasta mientras nuestro número $D$ sea mayor a $0$. $i$ representa la iteración del ciclo de operaciones, es decir, cada vez que completemos el ciclo aumentara en $1$ su valor, lo cual irá generando un orden en los residuos.\n",
        "- Finalmente, uniremos todos los residuos $r_{i}$ pero en sentido inverso. Esa concatenación es la representación binaria de nuestro número original.\n",
        "\n",
        "\n"
      ]
    },
    {
      "cell_type": "markdown",
      "metadata": {
        "id": "Fz2mRK0rd2Vm"
      },
      "source": [
        " #### Ejemplo conversión decimal a binario\n",
        "Por ejemplo, hagamos la representación binaria del número `415`\n"
      ]
    },
    {
      "cell_type": "code",
      "metadata": {
        "colab": {
          "base_uri": "https://localhost:8080/"
        },
        "id": "1ru1q8_5eQ4u",
        "outputId": "21eaac4a-51a4-4afb-b875-ada2f9ee8586"
      },
      "source": [
        "415//2"
      ],
      "execution_count": null,
      "outputs": [
        {
          "output_type": "execute_result",
          "data": {
            "text/plain": [
              "207"
            ]
          },
          "metadata": {
            "tags": []
          },
          "execution_count": 11
        }
      ]
    },
    {
      "cell_type": "code",
      "metadata": {
        "colab": {
          "base_uri": "https://localhost:8080/"
        },
        "id": "gd2NOc6jefV2",
        "outputId": "9060a75d-e613-4a9c-9504-4a5d3fe75645"
      },
      "source": [
        "415%2"
      ],
      "execution_count": null,
      "outputs": [
        {
          "output_type": "execute_result",
          "data": {
            "text/plain": [
              "1"
            ]
          },
          "metadata": {
            "tags": []
          },
          "execution_count": 12
        }
      ]
    },
    {
      "cell_type": "markdown",
      "metadata": {
        "id": "2Hjm5sSfeV4J"
      },
      "source": [
        "El primer residuo es `1`, y el nuevo número *dividendo* es `207`, así que continuamos:\n",
        "\n"
      ]
    },
    {
      "cell_type": "code",
      "metadata": {
        "colab": {
          "base_uri": "https://localhost:8080/"
        },
        "id": "X7xnDRJ8eymz",
        "outputId": "dbd0b74a-971f-40de-bfa6-0deca4477980"
      },
      "source": [
        "207//2"
      ],
      "execution_count": null,
      "outputs": [
        {
          "output_type": "execute_result",
          "data": {
            "text/plain": [
              "103"
            ]
          },
          "metadata": {
            "tags": []
          },
          "execution_count": 13
        }
      ]
    },
    {
      "cell_type": "code",
      "metadata": {
        "colab": {
          "base_uri": "https://localhost:8080/"
        },
        "id": "smrkecL-e17p",
        "outputId": "7ae7d49a-b503-46dd-c073-9c03bcb887bf"
      },
      "source": [
        "207%2"
      ],
      "execution_count": null,
      "outputs": [
        {
          "output_type": "execute_result",
          "data": {
            "text/plain": [
              "1"
            ]
          },
          "metadata": {
            "tags": []
          },
          "execution_count": 14
        }
      ]
    },
    {
      "cell_type": "markdown",
      "metadata": {
        "id": "iiTvSjJPfAVS"
      },
      "source": [
        "Ahora el residuo es `1` y el nuevo *dividendo* es `103`, por lo que nuestra serie de residuos es `1` `1`.\n",
        "\n",
        "Y continuamos:"
      ]
    },
    {
      "cell_type": "code",
      "metadata": {
        "colab": {
          "base_uri": "https://localhost:8080/"
        },
        "id": "mrgpKL69e9kC",
        "outputId": "cdad5d37-b20b-4abd-b58a-ca7ec4a06ed6"
      },
      "source": [
        "103//2"
      ],
      "execution_count": null,
      "outputs": [
        {
          "output_type": "execute_result",
          "data": {
            "text/plain": [
              "51"
            ]
          },
          "metadata": {
            "tags": []
          },
          "execution_count": 15
        }
      ]
    },
    {
      "cell_type": "code",
      "metadata": {
        "colab": {
          "base_uri": "https://localhost:8080/"
        },
        "id": "-eGtBjVjfo4U",
        "outputId": "58d2ed60-9bb1-442c-dbf8-f918235b6c1b"
      },
      "source": [
        "103%2"
      ],
      "execution_count": null,
      "outputs": [
        {
          "output_type": "execute_result",
          "data": {
            "text/plain": [
              "1"
            ]
          },
          "metadata": {
            "tags": []
          },
          "execution_count": 16
        }
      ]
    },
    {
      "cell_type": "markdown",
      "metadata": {
        "id": "s2Glta9ffz1F"
      },
      "source": [
        "*dividendo* : `51`\n",
        "serie de residuos :  `1` `1` `1`"
      ]
    },
    {
      "cell_type": "code",
      "metadata": {
        "colab": {
          "base_uri": "https://localhost:8080/"
        },
        "id": "gh6B1hFpgOik",
        "outputId": "56600a4a-2e15-4d8f-9f37-d67cd42e0541"
      },
      "source": [
        "51//2"
      ],
      "execution_count": null,
      "outputs": [
        {
          "output_type": "execute_result",
          "data": {
            "text/plain": [
              "25"
            ]
          },
          "metadata": {
            "tags": []
          },
          "execution_count": 17
        }
      ]
    },
    {
      "cell_type": "code",
      "metadata": {
        "colab": {
          "base_uri": "https://localhost:8080/"
        },
        "id": "5n48NR-lgOFg",
        "outputId": "325a4133-6025-42f9-bdf5-6a7a4e1fb790"
      },
      "source": [
        "51%2"
      ],
      "execution_count": null,
      "outputs": [
        {
          "output_type": "execute_result",
          "data": {
            "text/plain": [
              "1"
            ]
          },
          "metadata": {
            "tags": []
          },
          "execution_count": 18
        }
      ]
    },
    {
      "cell_type": "markdown",
      "metadata": {
        "id": "mhEWqSFqgTJq"
      },
      "source": [
        "*dividendo* : `25`\n",
        "serie de residuos :  `1` `1` `1` `1`"
      ]
    },
    {
      "cell_type": "code",
      "metadata": {
        "colab": {
          "base_uri": "https://localhost:8080/"
        },
        "id": "_u3vlInkgf-b",
        "outputId": "7db85086-4041-4f84-87b7-b7dc4c6a6390"
      },
      "source": [
        "25//2"
      ],
      "execution_count": null,
      "outputs": [
        {
          "output_type": "execute_result",
          "data": {
            "text/plain": [
              "12"
            ]
          },
          "metadata": {
            "tags": []
          },
          "execution_count": 19
        }
      ]
    },
    {
      "cell_type": "code",
      "metadata": {
        "colab": {
          "base_uri": "https://localhost:8080/"
        },
        "id": "Sy7KU9cXgkTk",
        "outputId": "56527aff-b836-4f7d-ae6b-001a88e06d8a"
      },
      "source": [
        "25%2"
      ],
      "execution_count": null,
      "outputs": [
        {
          "output_type": "execute_result",
          "data": {
            "text/plain": [
              "1"
            ]
          },
          "metadata": {
            "tags": []
          },
          "execution_count": 20
        }
      ]
    },
    {
      "cell_type": "markdown",
      "metadata": {
        "id": "VRG09_zzgnMf"
      },
      "source": [
        "*dividendo* : `12`\n",
        "serie de residuos :  `1` `1` `1` `1`"
      ]
    },
    {
      "cell_type": "code",
      "metadata": {
        "colab": {
          "base_uri": "https://localhost:8080/"
        },
        "id": "tJVk8L-ogsv_",
        "outputId": "d30801b2-a4b2-4238-b893-bf15c1d1d9cb"
      },
      "source": [
        "12//2"
      ],
      "execution_count": null,
      "outputs": [
        {
          "output_type": "execute_result",
          "data": {
            "text/plain": [
              "6"
            ]
          },
          "metadata": {
            "tags": []
          },
          "execution_count": 21
        }
      ]
    },
    {
      "cell_type": "code",
      "metadata": {
        "colab": {
          "base_uri": "https://localhost:8080/"
        },
        "id": "38bs97MqgvS8",
        "outputId": "06ad283b-6c41-4320-dc7a-a73c6a932b33"
      },
      "source": [
        "12%2"
      ],
      "execution_count": null,
      "outputs": [
        {
          "output_type": "execute_result",
          "data": {
            "text/plain": [
              "0"
            ]
          },
          "metadata": {
            "tags": []
          },
          "execution_count": 22
        }
      ]
    },
    {
      "cell_type": "markdown",
      "metadata": {
        "id": "7bwd0ZGqgyiW"
      },
      "source": [
        "*dividendo* : `6`\n",
        "serie de residuos :  `1` `1` `1` `1` `0`"
      ]
    },
    {
      "cell_type": "code",
      "metadata": {
        "colab": {
          "base_uri": "https://localhost:8080/"
        },
        "id": "9h9MB8cRg5bK",
        "outputId": "34f71fe2-8bbf-41ad-9819-eab49eb3c6c7"
      },
      "source": [
        "6//2"
      ],
      "execution_count": null,
      "outputs": [
        {
          "output_type": "execute_result",
          "data": {
            "text/plain": [
              "3"
            ]
          },
          "metadata": {
            "tags": []
          },
          "execution_count": 23
        }
      ]
    },
    {
      "cell_type": "code",
      "metadata": {
        "colab": {
          "base_uri": "https://localhost:8080/"
        },
        "id": "QVI89FlPg824",
        "outputId": "897889c2-c9db-4fbd-ebaf-94ed7ab3cc7a"
      },
      "source": [
        "6%2"
      ],
      "execution_count": null,
      "outputs": [
        {
          "output_type": "execute_result",
          "data": {
            "text/plain": [
              "0"
            ]
          },
          "metadata": {
            "tags": []
          },
          "execution_count": 24
        }
      ]
    },
    {
      "cell_type": "markdown",
      "metadata": {
        "id": "cjiSsQQ6hEVa"
      },
      "source": [
        "*dividendo* : `3`\n",
        "serie de residuos :  `1` `1` `1` `1` `0` `0`"
      ]
    },
    {
      "cell_type": "code",
      "metadata": {
        "colab": {
          "base_uri": "https://localhost:8080/"
        },
        "id": "_sWMdzashKb4",
        "outputId": "db8889bd-3af6-4cff-ee25-bb0496248b6c"
      },
      "source": [
        "3//2"
      ],
      "execution_count": null,
      "outputs": [
        {
          "output_type": "execute_result",
          "data": {
            "text/plain": [
              "1"
            ]
          },
          "metadata": {
            "tags": []
          },
          "execution_count": 25
        }
      ]
    },
    {
      "cell_type": "code",
      "metadata": {
        "colab": {
          "base_uri": "https://localhost:8080/"
        },
        "id": "OXH_rWCxhODa",
        "outputId": "a586404b-1ed2-4485-89f2-fbf027aae53b"
      },
      "source": [
        "3%2"
      ],
      "execution_count": null,
      "outputs": [
        {
          "output_type": "execute_result",
          "data": {
            "text/plain": [
              "1"
            ]
          },
          "metadata": {
            "tags": []
          },
          "execution_count": 26
        }
      ]
    },
    {
      "cell_type": "markdown",
      "metadata": {
        "id": "D5tZH2JDhR_I"
      },
      "source": [
        "*dividendo* : `1`\n",
        "serie de residuos :  `1` `1` `1` `1` `0` `0` `1`"
      ]
    },
    {
      "cell_type": "code",
      "metadata": {
        "colab": {
          "base_uri": "https://localhost:8080/"
        },
        "id": "Miox_TrjhYyz",
        "outputId": "ff06b47f-3d94-4ec7-f589-d73982bc14aa"
      },
      "source": [
        "1//2"
      ],
      "execution_count": null,
      "outputs": [
        {
          "output_type": "execute_result",
          "data": {
            "text/plain": [
              "0"
            ]
          },
          "metadata": {
            "tags": []
          },
          "execution_count": 27
        }
      ]
    },
    {
      "cell_type": "code",
      "metadata": {
        "colab": {
          "base_uri": "https://localhost:8080/"
        },
        "id": "kJJVsgWLhaDa",
        "outputId": "02e9ecd6-344b-495d-b65e-36098f8afa27"
      },
      "source": [
        "1%2"
      ],
      "execution_count": null,
      "outputs": [
        {
          "output_type": "execute_result",
          "data": {
            "text/plain": [
              "1"
            ]
          },
          "metadata": {
            "tags": []
          },
          "execution_count": 28
        }
      ]
    },
    {
      "cell_type": "markdown",
      "metadata": {
        "id": "Z-TZ3TI5hmGr"
      },
      "source": [
        "*dividendo* : `0`\n",
        "serie de residuos :  `1` `1` `1` `1` `0` `0` `1` `1`\n",
        "\n",
        "En este punto ya tenemos al 0 como dividendo, por lo que terminamos el proceso invirtiendo el arreglo de residuos:\n",
        "\n",
        "`1` `1` `0` `0` `1` `1` `1` `1`\n",
        "\n",
        "Por lo que el número decimal `415` es representado en binario como `11001111`"
      ]
    },
    {
      "cell_type": "markdown",
      "metadata": {
        "id": "B-aPlDiliihh"
      },
      "source": [
        " #### Operadores\n",
        "\n",
        "Existen operaciones especiales que se pueden ejecutar usando operaciones a nivel binario. Cabe destacar que las operaciones binarias se ejecutan **mucho más rápido** que otras operaciones matemáticas, por lo que se pueden aprovechar su uso al analizar cantidades masivas de datos. Esto se debe a que se interpretan a nivel de procesador directamente.\n",
        "\n",
        "A continuación una tabla con las operaciones binarias que pueden realizarse:\n",
        "\n",
        "| Operador | Significado |\n",
        "|----------|-------------|\n",
        "| `>>` | Corrimiento binario a la derecha |\n",
        "| `<<` | Corrimiento binario a la izquierda |\n",
        "| `&` | AND |\n",
        "| `\\|` | OR |\n",
        "| `^` | XOR |\n",
        "\n",
        "Veamos como funcionan:"
      ]
    },
    {
      "cell_type": "code",
      "metadata": {
        "colab": {
          "base_uri": "https://localhost:8080/"
        },
        "id": "PiGqSB6djZr-",
        "outputId": "0fe10336-ad53-4ceb-c518-ddb4b85e1df1"
      },
      "source": [
        "3005//8"
      ],
      "execution_count": null,
      "outputs": [
        {
          "output_type": "execute_result",
          "data": {
            "text/plain": [
              "375"
            ]
          },
          "metadata": {
            "tags": []
          },
          "execution_count": 33
        }
      ]
    },
    {
      "cell_type": "markdown",
      "metadata": {
        "id": "eSzeYlmZnM0A"
      },
      "source": [
        "Los corrimientos basicamente funcionan como un atajo para multiplicar un número por $2^n$, los corrimientos a la izquierda utilizan $n$ positivos, los corrimientos a la derecha utilizann $n$ negativos. En otras palabras, corrimientos a la izquierda doblan los números, en cambio corrimientos a la derecha los parten por mitades."
      ]
    },
    {
      "cell_type": "markdown",
      "metadata": {
        "id": "tVKT_IRcntA0"
      },
      "source": [
        "Los operadores `AND`, `OR` y `XOR`  son compuertas lógicas que proceden del álgebra booleana. En este caso los `1` son interpretados como `verdadero` y los `0` como `falso`.\n",
        "\n",
        "**`AND`**\n",
        "\n",
        "| 6 | 5 || `6&5` = `4` |\n",
        "|--|--||--|\n",
        "| 1 | 1 || **1** |\n",
        "| 1 | 0 || **0** |\n",
        "| 0 | 1 || **0** |\n",
        "\n",
        "**`OR`**\n",
        "\n",
        "| 6 | 5 || `6\\|5` = `7` |\n",
        "|--|--||--|\n",
        "| 1 | 1 || **1** |\n",
        "| 1 | 0 || **1** |\n",
        "| 0 | 1 || **1** |\n",
        "\n",
        "**`XOR`**\n",
        "\n",
        "| 6 | 5 || `6^5` = `3` |\n",
        "|--|--||--|\n",
        "| 1 | 1 || **0** |\n",
        "| 1 | 0 || **1** |\n",
        "| 0 | 1 || **1** |\n"
      ]
    },
    {
      "cell_type": "code",
      "metadata": {
        "colab": {
          "base_uri": "https://localhost:8080/"
        },
        "id": "I7sCALpCsupT",
        "outputId": "c28d4f84-8591-4874-ee0d-224bbb19b4bf"
      },
      "source": [
        "0^2"
      ],
      "execution_count": null,
      "outputs": [
        {
          "output_type": "execute_result",
          "data": {
            "text/plain": [
              "2"
            ]
          },
          "metadata": {
            "tags": []
          },
          "execution_count": 41
        }
      ]
    },
    {
      "cell_type": "markdown",
      "metadata": {
        "id": "OR4kK8S1mYZQ"
      },
      "source": [
        "## Operadores de comparación\n",
        "\n",
        "En computación siempre es útil hacer evaluaciones para comparar valores. A continuación se presentan operadores de comparación:\n",
        "\n",
        "| Operador | Significado |\n",
        "|----------|-------------|\n",
        "| `==` | Igual que |\n",
        "| `!=` | Diferente que |\n",
        "| `>` | Mayor que |\n",
        "| `>=` | Mayor o igual que |\n",
        "| `<` | Menor que |\n",
        "| `<=` | Menor o igual que |\n",
        "\n",
        "Es importante destacar que estas comparaciones generan resultados del tipo lógico, es decir valores para un resultado verdadero que en pyhton se asiga **`True`** y falso representado como **`False`**.\n"
      ]
    },
    {
      "cell_type": "code",
      "metadata": {
        "colab": {
          "base_uri": "https://localhost:8080/"
        },
        "id": "iuUaujEAwPRD",
        "outputId": "c1d14b85-a75d-42b8-ceb3-7f9a94bc1c09"
      },
      "source": [
        "4==4"
      ],
      "execution_count": null,
      "outputs": [
        {
          "output_type": "execute_result",
          "data": {
            "text/plain": [
              "True"
            ]
          },
          "metadata": {
            "tags": []
          },
          "execution_count": 43
        }
      ]
    },
    {
      "cell_type": "markdown",
      "metadata": {
        "id": "lWSY7qrBJ5T8"
      },
      "source": [
        "##Precedencia de operadores\n",
        "\n",
        "Es importantísimo asignar un orden de ejecución cuando se combinan operadores aritméticos en computación.\n",
        "\n",
        "\n",
        "| Prioridad | Operador | Significado |\n",
        "|-----------|----------|-------------|\n",
        "| 1 | `(` `)` | Paréntesis |\n",
        "| 2 |  `**` | Potencia |\n",
        "| 3* | `+x`, `-x`, `~x` | Adición unitaria, sustracción unitaria, NOT binario |\n",
        "| 4 |  `*`, `/`, `//`, `%` | Multiplicación, división, división entera y módulo |\n",
        "| 5 | `+`, `-` | Adición, sustracción |\n",
        "| 6 | `>>`, `<<` | Corrimientos binarios |\n",
        "| 7 | `&` | AND binario |\n",
        "| 8 | `\\|` | OR binario |\n",
        "| 9 | `^` | XOR binario |\n",
        "| 10 | `==`, `!=`, `>`, `>=`, `<`, `<=`, `is`, `is not`, `in`, `not in` | Comparaciones y operadores de pertenencia |\n",
        "| 11 | `not` | NOT lógico |\n",
        "| 12 | `and`| AND lógico |\n",
        "| 13 | `or` | OR lógico |\n",
        "\n",
        "A continuación vamos a visualizar este comportamiento:"
      ]
    },
    {
      "cell_type": "code",
      "metadata": {
        "colab": {
          "base_uri": "https://localhost:8080/"
        },
        "id": "Fh2-aCRKxWwD",
        "outputId": "47931ba9-88a0-45a8-8a2f-98e4becc50f4"
      },
      "source": [
        "(2+4)*3**2"
      ],
      "execution_count": null,
      "outputs": [
        {
          "output_type": "execute_result",
          "data": {
            "text/plain": [
              "54"
            ]
          },
          "metadata": {
            "tags": []
          },
          "execution_count": 45
        }
      ]
    },
    {
      "cell_type": "markdown",
      "metadata": {
        "id": "cUVuxI_hxVg1"
      },
      "source": [
        "##Operadores de texto\n",
        "\n",
        "Así como se pueden procesar valores númericos y lógicos, en Python también se pueden procesar valores de texto que contienen caracteres.\n",
        "\n",
        "A continuación se presenta una tabla de los operadores de texto\n",
        "\n",
        "| Operador | Significado |\n",
        "|--|--|\n",
        "| `+` | Concatenación |\n",
        "| `*` | Repetición |\n",
        "| `[]` | Selección de caracter |\n",
        "| `[:]` | Selección de rango de caracteres |\n",
        "| `in` | Está contenido en |\n",
        "| `not in` | No está contenido en |\n",
        "| `%` | Realizar formateo especial* |\n",
        "\n",
        "**Formateo especial (`%`)**\n",
        "\n",
        "| Caracter | Descripción |\n",
        "|--|--|\n",
        "| `%c` | Caracter |\n",
        "| `%s` | Conversión por cadena |\n",
        "| `%i` | Conversión por entero |\n",
        "| `%o` | Conversión por octal |\n",
        "| `%x` | Conversión por hexadecimal |\n",
        "| `%e` | Formato con notación exponencial |\n",
        "| `%f` | Formato con punto decimal |\n",
        "\n",
        "\n",
        "\n",
        "\n",
        "Por ejemplo:"
      ]
    },
    {
      "cell_type": "code",
      "metadata": {
        "colab": {
          "base_uri": "https://localhost:8080/",
          "height": 35
        },
        "id": "WvvsnGdoyY2W",
        "outputId": "7bd4f3c1-cdc3-4110-b744-a9925d816860"
      },
      "source": [
        "\"Hola %f, que tal\"%(12-57)"
      ],
      "execution_count": null,
      "outputs": [
        {
          "output_type": "execute_result",
          "data": {
            "application/vnd.google.colaboratory.intrinsic+json": {
              "type": "string"
            },
            "text/plain": [
              "'Hola -45.000000, que tal'"
            ]
          },
          "metadata": {
            "tags": []
          },
          "execution_count": 64
        }
      ]
    },
    {
      "cell_type": "markdown",
      "metadata": {
        "id": "CeINlCVAyd79"
      },
      "source": [
        "![](https://media1.tenor.com/images/7105b08d72125255d179989d7ce8bf22/tenor.gif)"
      ]
    }
  ]
}