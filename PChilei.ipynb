{
  "cells": [
    {
      "cell_type": "markdown",
      "metadata": {
        "id": "view-in-github",
        "colab_type": "text"
      },
      "source": [
        "<a href=\"https://colab.research.google.com/github/obdulia1/Aludenarticulo1/blob/master/PChilei.ipynb\" target=\"_parent\"><img src=\"https://colab.research.google.com/assets/colab-badge.svg\" alt=\"Open In Colab\"/></a>"
      ]
    },
    {
      "cell_type": "markdown",
      "metadata": {
        "id": "NLpdAZd8xiXR"
      },
      "source": [
        "![fitosanidad.png](data:image/png;base64,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)"
      ]
    },
    {
      "cell_type": "code",
      "source": [],
      "metadata": {
        "id": "UVhHe2lt9Wi4"
      },
      "execution_count": null,
      "outputs": []
    },
    {
      "cell_type": "markdown",
      "source": [
        "# Nueva sección"
      ],
      "metadata": {
        "id": "QFIns0ak9p4l"
      }
    },
    {
      "cell_type": "markdown",
      "source": [
        "# Nueva sección"
      ],
      "metadata": {
        "id": "J4d3H7q49p7Q"
      }
    },
    {
      "cell_type": "markdown",
      "metadata": {
        "id": "YJ1RIGtzZgNU"
      },
      "source": [
        "# EVOLUCION MOLECULAR  ENT-611-2025\n",
        "\n",
        "## Autor: Obdulia Segura León\n",
        "### Colegio de Postgradaudos\n",
        "\n",
        "## 1.-Lectura de calidad de secuencias Fastqc\n",
        "## 2.-Instalar programas"
      ]
    },
    {
      "cell_type": "markdown",
      "source": [
        "1. Calidad de secuencias\n",
        "2. Limpieza de secuencias\n",
        "3. Mapeo de secuencias a un genoma de referencia\n",
        "4. Visualizacion de variantes"
      ],
      "metadata": {
        "id": "5bW0ukY-tA_z"
      }
    },
    {
      "cell_type": "code",
      "execution_count": 1,
      "metadata": {
        "colab": {
          "base_uri": "https://localhost:8080/"
        },
        "id": "Uhvx0HvRWUUa",
        "outputId": "3085a315-1c40-4272-8839-bab5edf2eeb2"
      },
      "outputs": [
        {
          "output_type": "stream",
          "name": "stdout",
          "text": [
            "Collecting biopython\n",
            "  Downloading biopython-1.85-cp311-cp311-manylinux_2_17_x86_64.manylinux2014_x86_64.whl.metadata (13 kB)\n",
            "Requirement already satisfied: numpy in /usr/local/lib/python3.11/dist-packages (from biopython) (2.0.2)\n",
            "Downloading biopython-1.85-cp311-cp311-manylinux_2_17_x86_64.manylinux2014_x86_64.whl (3.3 MB)\n",
            "\u001b[2K   \u001b[90m━━━━━━━━━━━━━━━━━━━━━━━━━━━━━━━━━━━━━━━━\u001b[0m \u001b[32m3.3/3.3 MB\u001b[0m \u001b[31m23.5 MB/s\u001b[0m eta \u001b[36m0:00:00\u001b[0m\n",
            "\u001b[?25hInstalling collected packages: biopython\n",
            "Successfully installed biopython-1.85\n"
          ]
        }
      ],
      "source": [
        "# INSTALAR BIOPYTHON\n",
        "# INSTALAR ANACONDA\n",
        "#! para intalar en google colab, en linux esto no se utiliza\n",
        "\n",
        "! pip install biopython\n",
        "! pip install -q condacolab\n"
      ]
    },
    {
      "cell_type": "code",
      "execution_count": 2,
      "metadata": {
        "colab": {
          "base_uri": "https://localhost:8080/"
        },
        "id": "SY7zyocTaLI2",
        "outputId": "f56452a8-a434-4ec3-aff4-e550b9e98c99"
      },
      "outputs": [
        {
          "output_type": "stream",
          "name": "stdout",
          "text": [
            "⏬ Downloading https://github.com/jaimergp/miniforge/releases/download/24.11.2-1_colab/Miniforge3-colab-24.11.2-1_colab-Linux-x86_64.sh...\n",
            "📦 Installing...\n",
            "📌 Adjusting configuration...\n",
            "🩹 Patching environment...\n",
            "⏲ Done in 0:00:12\n",
            "🔁 Restarting kernel...\n"
          ]
        }
      ],
      "source": [
        "import condacolab\n",
        "condacolab.install()\n"
      ]
    },
    {
      "cell_type": "code",
      "execution_count": 2,
      "metadata": {
        "colab": {
          "base_uri": "https://localhost:8080/"
        },
        "id": "Nz6GQRo-al4x",
        "outputId": "ae6b85ae-ea24-40d6-a5de-1d74977bfd63"
      },
      "outputs": [
        {
          "output_type": "stream",
          "name": "stdout",
          "text": [
            "Channels:\n",
            " - bioconda\n",
            " - conda-forge\n",
            "Platform: linux-64\n",
            "Collecting package metadata (repodata.json): - \b\b\\ \b\b| \b\b/ \b\b- \b\b\\ \b\b| \b\b/ \b\b- \b\b\\ \b\b| \b\b/ \b\bdone\n",
            "Solving environment: \\ \b\b| \b\b/ \b\b- \b\bdone\n",
            "\n",
            "\n",
            "==> WARNING: A newer version of conda exists. <==\n",
            "    current version: 24.11.3\n",
            "    latest version: 25.5.1\n",
            "\n",
            "Please update conda by running\n",
            "\n",
            "    $ conda update -n base -c conda-forge conda\n",
            "\n",
            "\n",
            "\n",
            "# All requested packages already installed.\n",
            "\n"
          ]
        }
      ],
      "source": [
        "# Instalación de los paquetes a utilizar\n",
        "# bioconda, fastqc, fastp, trimmomatic, bwa, Bowtie2, samtools, bcftools, prokka\n",
        "# -c de los canales mas recientes\n",
        "! conda install -c bioconda fastqc fastp trimmomatic Bowtie2 bwa samtools bcftools prokka\n",
        "\n"
      ]
    },
    {
      "cell_type": "markdown",
      "metadata": {
        "id": "8xpMRQaF89wk"
      },
      "source": [
        "# 1.-ESTABLECER EL DIRECTORIO DE TRABAJO\n",
        "## Cargar archivos\n",
        "### Descargar archivo o subir desde el Drive\n",
        "#!wget https://s3.amazonaws.com/public.ged.msu.edu/ecoli_ref-5m.fastq.gz\n",
        "###Desde mi computadora\n",
        "#from google.colab import files\n",
        "#uploaded = files.upload()\n",
        "\n",
        "\n",
        "### Desde google.colab import drive\n",
        "drive.mount('/content/drive/MyDrive')\n",
        "###\n",
        "Cambio de directorio\n",
        "import os\n",
        "os.chdir('/content/drive/MyDrive/Data17_Pchile')\n"
      ]
    },
    {
      "cell_type": "code",
      "execution_count": 3,
      "metadata": {
        "id": "LUfwi3HWESO8"
      },
      "outputs": [],
      "source": [
        "    from google.colab import drive"
      ]
    },
    {
      "cell_type": "code",
      "execution_count": 5,
      "metadata": {
        "colab": {
          "base_uri": "https://localhost:8080/"
        },
        "id": "TcwmxcViEcFW",
        "outputId": "d992b282-1839-4668-f268-ccb9879d1a32"
      },
      "outputs": [
        {
          "output_type": "stream",
          "name": "stdout",
          "text": [
            "Mounted at /content/drive\n"
          ]
        }
      ],
      "source": [
        "    drive.mount('/content/drive')"
      ]
    },
    {
      "cell_type": "code",
      "source": [
        "#Crear un directorio de trabajo si no lo tiene\n",
        "!mkdir /content/drive/MyDrive/Pchile"
      ],
      "metadata": {
        "id": "8FxdxlbG36Jz"
      },
      "execution_count": 7,
      "outputs": []
    },
    {
      "cell_type": "code",
      "source": [
        "!pwd"
      ],
      "metadata": {
        "colab": {
          "base_uri": "https://localhost:8080/"
        },
        "id": "mgv37JkI0Vkw",
        "outputId": "79ca066c-8081-4a9d-d350-a27ace22b093"
      },
      "execution_count": 9,
      "outputs": [
        {
          "output_type": "stream",
          "name": "stdout",
          "text": [
            "/content/drive/MyDrive/EcoliM\n"
          ]
        }
      ]
    },
    {
      "cell_type": "code",
      "execution_count": 11,
      "metadata": {
        "id": "bUO3C8G5K0Om"
      },
      "outputs": [],
      "source": [
        "#cambiar el directorio de trabajo\n",
        "import os\n",
        "os.chdir('/content/drive/MyDrive/Data17_Pchile')"
      ]
    },
    {
      "cell_type": "code",
      "execution_count": 12,
      "metadata": {
        "colab": {
          "base_uri": "https://localhost:8080/",
          "height": 35
        },
        "id": "q4V-Iv9iLAN5",
        "outputId": "f7a018f9-29da-405a-f72f-9175cbc1be69"
      },
      "outputs": [
        {
          "output_type": "execute_result",
          "data": {
            "text/plain": [
              "'/content/drive/MyDrive/Data17_Pchile'"
            ],
            "application/vnd.google.colaboratory.intrinsic+json": {
              "type": "string"
            }
          },
          "metadata": {},
          "execution_count": 12
        }
      ],
      "source": [
        "#corroborar que estamos dentro del directorio en donde estan los\n",
        "os.getcwd()"
      ]
    },
    {
      "cell_type": "code",
      "source": [
        "!ls\n"
      ],
      "metadata": {
        "id": "5BxxoB3W4X-V",
        "colab": {
          "base_uri": "https://localhost:8080/"
        },
        "outputId": "1432472e-f691-4621-f8c9-f46a05683f73"
      },
      "execution_count": 13,
      "outputs": [
        {
          "output_type": "stream",
          "name": "stdout",
          "text": [
            "17EX01-06_S6_L001_R1_001.fastq.gz  17EX01-06_S6_L001_R2_001.fastq.gz\n"
          ]
        }
      ]
    },
    {
      "cell_type": "markdown",
      "metadata": {
        "id": "CVUL_6JIIaay"
      },
      "source": [
        "# 2.- LIMPIEZA DE SECUENCIAS\n",
        "FastP"
      ]
    },
    {
      "cell_type": "markdown",
      "metadata": {
        "id": "vjt-hDAAhpFS"
      },
      "source": [
        "## lIMPIEZA DE SECUENCIAS o TRIMADO DE SECUENCIAS\n",
        "http://www.usadellab.org/cms/?page=trimmomatic\n",
        "\n",
        "Trimmomatic realiza una variedad de tareas de recorte tanto para datos de un solo extremo y de pares de Illumina. La selección de los pasos de recorte y sus parámetros asociados se proporcionan en la línea de comando.\n",
        "\n",
        "Los pasos de recorte actuales son:\n",
        "\n",
        "ILLUMINACLIP: Corta el adaptador y otras secuencias específicas de Illumina de la lectura.\n",
        "\n",
        "SLIDINGWINDOW: Realiza un recorte de ventana corrediza, cortando una vez que la calidad promedio dentro de la ventana cae por debajo de un umbral.\n",
        "\n",
        "LEADING: Cortar las bases al inicio de una lectura, si está por debajo de un umbral de calidad\n",
        "\n",
        "TRAILING: Cortar las bases al final de una lectura, si está por debajo de un umbral de calidad\n",
        "\n",
        "CROP: Cortar la lectura a una longitud específica\n",
        "\n",
        "HEADCROP: Corta la cantidad especificada de bases desde el inicio de la lectura\n",
        "\n",
        "MINLEN: Descartar la lectura si está por debajo de una longitud especificada\n",
        "\n",
        "TOPHRED33: Convertir puntuaciones de calidad a Phred-33\n",
        "\n",
        "TOPHRED64: Convertir puntuaciones de calidad a Phred-64\n",
        "\n",
        "[Faxtp](https://github.com/OpenGene/fastp)\n",
        "\n",
        "fastp -i R1 -o R1_trim -I R2 -O R2_trim -j -h"
      ]
    },
    {
      "cell_type": "code",
      "execution_count": null,
      "metadata": {
        "colab": {
          "base_uri": "https://localhost:8080/"
        },
        "id": "MR2u0coYutrq",
        "outputId": "56367ab2-e1de-4b05-bdc3-65326f017ff0"
      },
      "outputs": [
        {
          "output_type": "stream",
          "name": "stdout",
          "text": [
            "usage: fastp [options] ... \n",
            "options:\n",
            "  -i, --in1                            read1 input file name (string [=])\n",
            "  -o, --out1                           read1 output file name (string [=])\n",
            "  -I, --in2                            read2 input file name (string [=])\n",
            "  -O, --out2                           read2 output file name (string [=])\n",
            "      --unpaired1                      for PE input, if read1 passed QC but read2 not, it will be written to unpaired1. Default is to discard it. (string [=])\n",
            "      --unpaired2                      for PE input, if read2 passed QC but read1 not, it will be written to unpaired2. If --unpaired2 is same as --unpaired1 (default mode), both unpaired reads will be written to this same file. (string [=])\n",
            "      --overlapped_out                 for each read pair, output the overlapped region if it has no any mismatched base. (string [=])\n",
            "      --failed_out                     specify the file to store reads that cannot pass the filters. (string [=])\n",
            "  -m, --merge                          for paired-end input, merge each pair of reads into a single read if they are overlapped. The merged reads will be written to the file given by --merged_out, the unmerged reads will be written to the files specified by --out1 and --out2. The merging mode is disabled by default.\n",
            "      --merged_out                     in the merging mode, specify the file name to store merged output, or specify --stdout to stream the merged output (string [=])\n",
            "      --include_unmerged               in the merging mode, write the unmerged or unpaired reads to the file specified by --merge. Disabled by default.\n",
            "  -6, --phred64                        indicate the input is using phred64 scoring (it'll be converted to phred33, so the output will still be phred33)\n",
            "  -z, --compression                    compression level for gzip output (1 ~ 9). 1 is fastest, 9 is smallest, default is 4. (int [=4])\n",
            "      --stdin                          input from STDIN. If the STDIN is interleaved paired-end FASTQ, please also add --interleaved_in.\n",
            "      --stdout                         stream passing-filters reads to STDOUT. This option will result in interleaved FASTQ output for paired-end output. Disabled by default.\n",
            "      --interleaved_in                 indicate that <in1> is an interleaved FASTQ which contains both read1 and read2. Disabled by default.\n",
            "      --reads_to_process               specify how many reads/pairs to be processed. Default 0 means process all reads. (int [=0])\n",
            "      --dont_overwrite                 don't overwrite existing files. Overwritting is allowed by default.\n",
            "      --fix_mgi_id                     the MGI FASTQ ID format is not compatible with many BAM operation tools, enable this option to fix it.\n",
            "  -V, --verbose                        output verbose log information (i.e. when every 1M reads are processed).\n",
            "  -A, --disable_adapter_trimming       adapter trimming is enabled by default. If this option is specified, adapter trimming is disabled\n",
            "  -a, --adapter_sequence               the adapter for read1. For SE data, if not specified, the adapter will be auto-detected. For PE data, this is used if R1/R2 are found not overlapped. (string [=auto])\n",
            "      --adapter_sequence_r2            the adapter for read2 (PE data only). This is used if R1/R2 are found not overlapped. If not specified, it will be the same as <adapter_sequence> (string [=auto])\n",
            "      --adapter_fasta                  specify a FASTA file to trim both read1 and read2 (if PE) by all the sequences in this FASTA file (string [=])\n",
            "  -2, --detect_adapter_for_pe          enable adapter detection for PE data to get ultra-clean data. It takes more time to find just a little bit more adapters.\n",
            "      --allow_gap_overlap_trimming     allow up to one gap when trim adapters by overlap analysis for PE data. By default no gap is allowed.\n",
            "  -f, --trim_front1                    trimming how many bases in front for read1, default is 0 (int [=0])\n",
            "  -t, --trim_tail1                     trimming how many bases in tail for read1, default is 0 (int [=0])\n",
            "  -b, --max_len1                       if read1 is longer than max_len1, then trim read1 at its tail to make it as long as max_len1. Default 0 means no limitation (int [=0])\n",
            "  -F, --trim_front2                    trimming how many bases in front for read2. If it's not specified, it will follow read1's settings (int [=0])\n",
            "  -T, --trim_tail2                     trimming how many bases in tail for read2. If it's not specified, it will follow read1's settings (int [=0])\n",
            "  -B, --max_len2                       if read2 is longer than max_len2, then trim read2 at its tail to make it as long as max_len2. Default 0 means no limitation. If it's not specified, it will follow read1's settings (int [=0])\n",
            "  -D, --dedup                          enable deduplication to drop the duplicated reads/pairs\n",
            "      --dup_calc_accuracy              accuracy level to calculate duplication (1~6), higher level uses more memory (1G, 2G, 4G, 8G, 16G, 24G). Default 1 for no-dedup mode, and 3 for dedup mode. (int [=0])\n",
            "      --dont_eval_duplication          don't evaluate duplication rate to save time and use less memory.\n",
            "  -g, --trim_poly_g                    force polyG tail trimming, by default trimming is automatically enabled for Illumina NextSeq/NovaSeq data\n",
            "      --poly_g_min_len                 the minimum length to detect polyG in the read tail. 10 by default. (int [=10])\n",
            "  -G, --disable_trim_poly_g            disable polyG tail trimming, by default trimming is automatically enabled for Illumina NextSeq/NovaSeq data\n",
            "  -x, --trim_poly_x                    enable polyX trimming in 3' ends.\n",
            "      --poly_x_min_len                 the minimum length to detect polyX in the read tail. 10 by default. (int [=10])\n",
            "  -5, --cut_front                      move a sliding window from front (5') to tail, drop the bases in the window if its mean quality < threshold, stop otherwise.\n",
            "  -3, --cut_tail                       move a sliding window from tail (3') to front, drop the bases in the window if its mean quality < threshold, stop otherwise.\n",
            "  -r, --cut_right                      move a sliding window from front to tail, if meet one window with mean quality < threshold, drop the bases in the window and the right part, and then stop.\n",
            "  -W, --cut_window_size                the window size option shared by cut_front, cut_tail or cut_sliding. Range: 1~1000, default: 4 (int [=4])\n",
            "  -M, --cut_mean_quality               the mean quality requirement option shared by cut_front, cut_tail or cut_sliding. Range: 1~36 default: 20 (Q20) (int [=20])\n",
            "      --cut_front_window_size          the window size option of cut_front, default to cut_window_size if not specified (int [=4])\n",
            "      --cut_front_mean_quality         the mean quality requirement option for cut_front, default to cut_mean_quality if not specified (int [=20])\n",
            "      --cut_tail_window_size           the window size option of cut_tail, default to cut_window_size if not specified (int [=4])\n",
            "      --cut_tail_mean_quality          the mean quality requirement option for cut_tail, default to cut_mean_quality if not specified (int [=20])\n",
            "      --cut_right_window_size          the window size option of cut_right, default to cut_window_size if not specified (int [=4])\n",
            "      --cut_right_mean_quality         the mean quality requirement option for cut_right, default to cut_mean_quality if not specified (int [=20])\n",
            "  -Q, --disable_quality_filtering      quality filtering is enabled by default. If this option is specified, quality filtering is disabled\n",
            "  -q, --qualified_quality_phred        the quality value that a base is qualified. Default 15 means phred quality >=Q15 is qualified. (int [=15])\n",
            "  -u, --unqualified_percent_limit      how many percents of bases are allowed to be unqualified (0~100). Default 40 means 40% (int [=40])\n",
            "  -n, --n_base_limit                   if one read's number of N base is >n_base_limit, then this read/pair is discarded. Default is 5 (int [=5])\n",
            "  -e, --average_qual                   if one read's average quality score <avg_qual, then this read/pair is discarded. Default 0 means no requirement (int [=0])\n",
            "  -L, --disable_length_filtering       length filtering is enabled by default. If this option is specified, length filtering is disabled\n",
            "  -l, --length_required                reads shorter than length_required will be discarded, default is 15. (int [=15])\n",
            "      --length_limit                   reads longer than length_limit will be discarded, default 0 means no limitation. (int [=0])\n",
            "  -y, --low_complexity_filter          enable low complexity filter. The complexity is defined as the percentage of base that is different from its next base (base[i] != base[i+1]).\n",
            "  -Y, --complexity_threshold           the threshold for low complexity filter (0~100). Default is 30, which means 30% complexity is required. (int [=30])\n",
            "      --filter_by_index1               specify a file contains a list of barcodes of index1 to be filtered out, one barcode per line (string [=])\n",
            "      --filter_by_index2               specify a file contains a list of barcodes of index2 to be filtered out, one barcode per line (string [=])\n",
            "      --filter_by_index_threshold      the allowed difference of index barcode for index filtering, default 0 means completely identical. (int [=0])\n",
            "  -c, --correction                     enable base correction in overlapped regions (only for PE data), default is disabled\n",
            "      --overlap_len_require            the minimum length to detect overlapped region of PE reads. This will affect overlap analysis based PE merge, adapter trimming and correction. 30 by default. (int [=30])\n",
            "      --overlap_diff_limit             the maximum number of mismatched bases to detect overlapped region of PE reads. This will affect overlap analysis based PE merge, adapter trimming and correction. 5 by default. (int [=5])\n",
            "      --overlap_diff_percent_limit     the maximum percentage of mismatched bases to detect overlapped region of PE reads. This will affect overlap analysis based PE merge, adapter trimming and correction. Default 20 means 20%. (int [=20])\n",
            "  -U, --umi                            enable unique molecular identifier (UMI) preprocessing\n",
            "      --umi_loc                        specify the location of UMI, can be (index1/index2/read1/read2/per_index/per_read, default is none (string [=])\n",
            "      --umi_len                        if the UMI is in read1/read2, its length should be provided (int [=0])\n",
            "      --umi_prefix                     if specified, an underline will be used to connect prefix and UMI (i.e. prefix=UMI, UMI=AATTCG, final=UMI_AATTCG). No prefix by default (string [=])\n",
            "      --umi_skip                       if the UMI is in read1/read2, fastp can skip several bases following UMI, default is 0 (int [=0])\n",
            "      --umi_delim                      delimiter to use between the read name and the UMI, default is : (string [=:])\n",
            "  -p, --overrepresentation_analysis    enable overrepresented sequence analysis.\n",
            "  -P, --overrepresentation_sampling    one in (--overrepresentation_sampling) reads will be computed for overrepresentation analysis (1~10000), smaller is slower, default is 20. (int [=20])\n",
            "  -j, --json                           the json format report file name (string [=fastp.json])\n",
            "  -h, --html                           the html format report file name (string [=fastp.html])\n",
            "  -R, --report_title                   should be quoted with ' or \", default is \"fastp report\" (string [=fastp report])\n",
            "  -w, --thread                         worker thread number, default is 3 (int [=3])\n",
            "  -s, --split                          split output by limiting total split file number with this option (2~999), a sequential number prefix will be added to output name ( 0001.out.fq, 0002.out.fq...), disabled by default (int [=0])\n",
            "  -S, --split_by_lines                 split output by limiting lines of each file with this option(>=1000), a sequential number prefix will be added to output name ( 0001.out.fq, 0002.out.fq...), disabled by default (long [=0])\n",
            "  -d, --split_prefix_digits            the digits for the sequential number padding (1~10), default is 4, so the filename will be padded as 0001.xxx, 0 to disable padding (int [=4])\n",
            "      --cut_by_quality5                DEPRECATED, use --cut_front instead.\n",
            "      --cut_by_quality3                DEPRECATED, use --cut_tail instead.\n",
            "      --cut_by_quality_aggressive      DEPRECATED, use --cut_right instead.\n",
            "      --discard_unmerged               DEPRECATED, no effect now, see the introduction for merging.\n",
            "  -?, --help                           print this message\n"
          ]
        }
      ],
      "source": [
        "#Fastp ayuda\n",
        "!fastp --help"
      ]
    },
    {
      "cell_type": "code",
      "source": [
        "!pwd"
      ],
      "metadata": {
        "colab": {
          "base_uri": "https://localhost:8080/"
        },
        "id": "4cCNzpmP7VJN",
        "outputId": "7dc48e8c-c6d4-41f1-86ae-72c70e0f9819"
      },
      "execution_count": null,
      "outputs": [
        {
          "output_type": "stream",
          "name": "stdout",
          "text": [
            "/content/drive/MyDrive/EcoliM\n"
          ]
        }
      ]
    },
    {
      "cell_type": "code",
      "execution_count": null,
      "metadata": {
        "id": "KXn8Vw4BFVem"
      },
      "outputs": [],
      "source": [
        "from os import mkdir\n",
        "!mkdir ref"
      ]
    },
    {
      "cell_type": "code",
      "execution_count": 15,
      "metadata": {
        "id": "n8Ructl4vany"
      },
      "outputs": [],
      "source": [
        "!mkdir trim_r"
      ]
    },
    {
      "cell_type": "code",
      "source": [],
      "metadata": {
        "id": "RU6u-1qow50Y"
      },
      "execution_count": null,
      "outputs": []
    },
    {
      "cell_type": "code",
      "execution_count": 16,
      "metadata": {
        "colab": {
          "base_uri": "https://localhost:8080/"
        },
        "id": "bKfzIg78weZw",
        "outputId": "34b1b93a-b03f-4d89-8667-1a44fa8688e6"
      },
      "outputs": [
        {
          "output_type": "stream",
          "name": "stdout",
          "text": [
            "Read1 before filtering:\n",
            "total reads: 3232525\n",
            "total bases: 243342371\n",
            "Q20 bases: 234933952(96.5446%)\n",
            "Q30 bases: 220102172(90.4496%)\n",
            "Q40 bases: 0(0%)\n",
            "\n",
            "Read2 before filtering:\n",
            "total reads: 3232525\n",
            "total bases: 243844605\n",
            "Q20 bases: 213129187(87.4037%)\n",
            "Q30 bases: 181507494(74.4357%)\n",
            "Q40 bases: 0(0%)\n",
            "\n",
            "Read1 after filtering:\n",
            "total reads: 3134438\n",
            "total bases: 235943044\n",
            "Q20 bases: 228480178(96.837%)\n",
            "Q30 bases: 214849167(91.0598%)\n",
            "Q40 bases: 0(0%)\n",
            "\n",
            "Read2 after filtering:\n",
            "total reads: 3134438\n",
            "total bases: 236407118\n",
            "Q20 bases: 209312171(88.5389%)\n",
            "Q30 bases: 179749036(76.0337%)\n",
            "Q40 bases: 0(0%)\n",
            "\n",
            "Filtering result:\n",
            "reads passed filter: 6268876\n",
            "reads failed due to low quality: 196086\n",
            "reads failed due to too many N: 88\n",
            "reads failed due to too short: 0\n",
            "reads with adapter trimmed: 3594\n",
            "bases trimmed due to adapters: 65297\n",
            "\n",
            "Duplication rate: 20.3496%\n",
            "\n",
            "Insert size peak (evaluated by paired-end reads): 112\n",
            "\n",
            "JSON report: -h\n",
            "HTML report: fastp.html\n",
            "\n",
            "fastp -i 17EX01-06_S6_L001_R1_001.fastq.gz -I 17EX01-06_S6_L001_R2_001.fastq.gz -o trim_r/17EX01_R1.fastq.trim.gz -O trim_r/17EX01-R2.fastq.trim.gz -j -h \n",
            "fastp v1.0.1, time used: 66 seconds\n"
          ]
        }
      ],
      "source": [
        "#fastp -i in.R1.fq.gz -I in.R2.fq.gz -o out.R1.fq.gz -O out.R2.fq.gz\n",
        "# resultados en formatos J y h para HTML\n",
        "!fastp -i 17EX01-06_S6_L001_R1_001.fastq.gz -I 17EX01-06_S6_L001_R2_001.fastq.gz -o trim_r/17EX01_R1.fastq.trim.gz -O trim_r/17EX01-R2.fastq.trim.gz trim_r/-j -h"
      ]
    },
    {
      "cell_type": "code",
      "source": [
        "!mv *trim.gz trim_r"
      ],
      "metadata": {
        "id": "68zmO_gqARN6"
      },
      "execution_count": null,
      "outputs": []
    },
    {
      "cell_type": "code",
      "source": [
        "!mv fastp.html trim_r/"
      ],
      "metadata": {
        "id": "UcvNnttJAppM"
      },
      "execution_count": 17,
      "outputs": []
    },
    {
      "cell_type": "code",
      "source": [
        "!mv -h trim_r/"
      ],
      "metadata": {
        "id": "cZ0UTtHB-4Zd",
        "colab": {
          "base_uri": "https://localhost:8080/"
        },
        "outputId": "f3d3c641-0248-41e7-f0fd-1ab664d576c7"
      },
      "execution_count": 18,
      "outputs": [
        {
          "output_type": "stream",
          "name": "stdout",
          "text": [
            "mv: invalid option -- 'h'\n",
            "Try 'mv --help' for more information.\n"
          ]
        }
      ]
    },
    {
      "cell_type": "markdown",
      "metadata": {
        "id": "OWDN5Zvpqazu"
      },
      "source": [
        "# 3.- OBTENER GENOMAS O TRANSCRIPTOMA DE REFERENCIA\n",
        "1.-Desde NCBI genomas el formato ftp y copiar la liga de archivo **.fna.gz**\\\n",
        "2. Desde [GenARK](https://genome.ucsc.edu/cgi-bin/hgGateway)\\\n",
        "  A.- Realizar la busqueda de la especie\\\n",
        "  B.-copiar la direccion : **Assembly FTP location**\n",
        "\n",
        "Clawson, H., Lee, B.T., Raney, B.J. et al. \"GenArk: towards a million UCSC genome browsers.\n",
        "Genome Biol 24, 217 (2023). https://doi.org/10.1186/s13059-023-03057-x\n"
      ]
    },
    {
      "cell_type": "code",
      "source": [
        "#Genoma de Referencia\n",
        "!wget https://ftp.ncbi.nlm.nih.gov/genomes/all/GCF/022/605/725/GCF_022605725.1_icAntGran1.3/GCF_022605725.1_icAntGran1.3_rna.fna.gz"
      ],
      "metadata": {
        "colab": {
          "base_uri": "https://localhost:8080/"
        },
        "id": "Ji2DvKxq5FYq",
        "outputId": "3915bad2-2237-4f90-b262-fb8882822aef"
      },
      "execution_count": 19,
      "outputs": [
        {
          "output_type": "stream",
          "name": "stdout",
          "text": [
            "--2025-06-30 03:32:49--  https://ftp.ncbi.nlm.nih.gov/genomes/all/GCF/022/605/725/GCF_022605725.1_icAntGran1.3/GCF_022605725.1_icAntGran1.3_rna.fna.gz\n",
            "Resolving ftp.ncbi.nlm.nih.gov (ftp.ncbi.nlm.nih.gov)... 130.14.250.7, 130.14.250.10, 130.14.250.12, ...\n",
            "Connecting to ftp.ncbi.nlm.nih.gov (ftp.ncbi.nlm.nih.gov)|130.14.250.7|:443... connected.\n",
            "HTTP request sent, awaiting response... 200 OK\n",
            "Length: 17160513 (16M) [application/x-gzip]\n",
            "Saving to: ‘GCF_022605725.1_icAntGran1.3_rna.fna.gz’\n",
            "\n",
            "GCF_022605725.1_icA 100%[===================>]  16.37M  28.7MB/s    in 0.6s    \n",
            "\n",
            "2025-06-30 03:32:50 (28.7 MB/s) - ‘GCF_022605725.1_icAntGran1.3_rna.fna.gz’ saved [17160513/17160513]\n",
            "\n"
          ]
        }
      ]
    },
    {
      "cell_type": "code",
      "source": [
        "!mkdir Ref"
      ],
      "metadata": {
        "id": "epySuvE15sT0"
      },
      "execution_count": 21,
      "outputs": []
    },
    {
      "cell_type": "code",
      "source": [
        "!mv GCF_022605725.1_icAntGran1.3_rna.fna.gz Ref/"
      ],
      "metadata": {
        "id": "Tx6YnZoG51R0"
      },
      "execution_count": 23,
      "outputs": []
    },
    {
      "cell_type": "code",
      "source": [
        "!gunzip Ref/GCF_022605725.1_icAntGran1.3_rna.fna.gz"
      ],
      "metadata": {
        "id": "Yck6c7FK6WRq"
      },
      "execution_count": 24,
      "outputs": []
    },
    {
      "cell_type": "markdown",
      "metadata": {
        "id": "1PzHuqbXxsWt"
      },
      "source": [
        "# 4.-ENSAMBLE DE UN GENOMA CON UN GENOMA DE REFERENCIA\n",
        "Realizar el mapeo de las secuencias problema a un genoma de referencia\n",
        "BOWTIE2 es un software para el mapeo de secuencias a un genoma de referencia\n",
        "https://rnnh.github.io/bioinfo-notebook/docs/bowtie2.html\n",
        "### [BOWTIE2](https://bowtie-bio.sourceforge.net/bowtie2/index.shtml)\n",
        "1.-Bowtie2 crear un índice del genoma de referencia a partir del formato fasta.\n",
        "\n",
        "    $ bowtie2-build input_reference.fasta index_prefix\\\n",
        "2.-Realizar el mapeo\n",
        "\n",
        "    $ bowtie2 -x index/Ecoli_ind -1 SRR030257_1.fastq.gz 2 SRR030257_2.fastq.gz -S mapped/Ecoli.sam\n",
        "opciones de salida\\\n",
        "--no-unal las lecturas que no sean alineadas al genoma de referencia no se escriban en el archivo de salida **sam** \\\n",
        "\n",
        "-un write unpaired reads that didn't align to <path> \\\n",
        "-un unaligned.gz\\\n",
        "-p is el numero (n) de processors/threads used\\\n",
        "-x is el genome index\\\n",
        "-1 is el file(s) R1_trim_reads\\\n",
        "-2 is el file(s) R2_trim_reads\\\n",
        "-S is el alineamiento de salida en formato sam\\\n",
        "más opciones en bowtie2 -help\\\n",
        "o\\\n",
        "[github Bowtie2](https://github.com/BenLangmead/bowtie2)\n",
        "\n",
        "## Otros MAPEADORES\n",
        "[BWA](https://bio-bwa.sourceforge.net/bwa.shtml)\n",
        "\n",
        "El algoritmo de *bwa mem* es uno de los tres algoritmos que tiene BWA. Este realiza alineamintos locales y resulta en alineamientos en diferentes partes de la secuencia de busqueda.\\\n",
        "[segemehl](http://legacy.bioinf.uni-leipzig.de/Software/segemehl/#installation)\n",
        "Es un software para alinear lecturas cortas a un genoma, transcriptoma de referencia en donde se implementa la estrategia de enhanced suffix arrays (ESA)"
      ]
    },
    {
      "cell_type": "markdown",
      "source": [
        "### 1. Generar un indice de referencia del genoma"
      ],
      "metadata": {
        "id": "X9qiYY0mDm5t"
      }
    },
    {
      "cell_type": "code",
      "source": [
        "!mkdir index"
      ],
      "metadata": {
        "id": "OM4IbzMnEp36"
      },
      "execution_count": 25,
      "outputs": []
    },
    {
      "cell_type": "code",
      "source": [
        "!bowtie2 -help"
      ],
      "metadata": {
        "id": "Q8ACt3cVJLlJ"
      },
      "execution_count": null,
      "outputs": []
    },
    {
      "cell_type": "code",
      "source": [
        "#descoprimir archivo\n",
        "#o bajar desde NCBI-Nucleotide en Formato fasta\n",
        "!gunzip ref/Ecoli_genomic.fna.gz"
      ],
      "metadata": {
        "id": "dgniB3UlSO6j"
      },
      "execution_count": null,
      "outputs": []
    },
    {
      "cell_type": "code",
      "source": [
        "#el archivo de genoma de referencia debe de estar en formato *fasta\n",
        "#se generan archivos *.bt2\n",
        "!bowtie2-build Ref/GCF_022605725.1_icAntGran1.3_rna.fna index/AntG_ind\n"
      ],
      "metadata": {
        "colab": {
          "base_uri": "https://localhost:8080/"
        },
        "id": "u_y7BTxJDHJQ",
        "outputId": "2e959353-b973-49d9-cc21-c6e02b49fd1e"
      },
      "execution_count": 29,
      "outputs": [
        {
          "output_type": "stream",
          "name": "stdout",
          "text": [
            "Settings:\n",
            "  Output files: \"index/AntG_ind.*.bt2\"\n",
            "  Line rate: 6 (line is 64 bytes)\n",
            "  Lines per side: 1 (side is 64 bytes)\n",
            "  Offset rate: 4 (one in 16)\n",
            "  FTable chars: 10\n",
            "  Strings: unpacked\n",
            "  Max bucket size: default\n",
            "  Max bucket size, sqrt multiplier: default\n",
            "  Max bucket size, len divisor: 4\n",
            "  Difference-cover sample period: 1024\n",
            "  Endianness: little\n",
            "  Actual local endianness: little\n",
            "  Sanity checking: disabled\n",
            "  Assertions: disabled\n",
            "  Random seed: 0\n",
            "  Sizeofs: void*:8, int:4, long:8, size_t:8\n",
            "Input files DNA, FASTA:\n",
            "  Ref/GCF_022605725.1_icAntGran1.3_rna.fna\n",
            "Building a SMALL index\n",
            "Reading reference sizes\n",
            "  Time reading reference sizes: 00:00:01\n",
            "Calculating joined length\n",
            "Writing header\n",
            "Reserving space for joined string\n",
            "Joining reference sequences\n",
            "  Time to join reference sequences: 00:00:01\n",
            "bmax according to bmaxDivN setting: 23513175\n",
            "Using parameters --bmax 17634882 --dcv 1024\n",
            "  Doing ahead-of-time memory usage test\n",
            "  Passed!  Constructing with these parameters: --bmax 17634882 --dcv 1024\n",
            "Constructing suffix-array element generator\n",
            "Building DifferenceCoverSample\n",
            "  Building sPrime\n",
            "  Building sPrimeOrder\n",
            "  V-Sorting samples\n",
            "  V-Sorting samples time: 00:00:13\n",
            "  Allocating rank array\n",
            "  Ranking v-sort output\n",
            "  Ranking v-sort output time: 00:00:02\n",
            "  Invoking Larsson-Sadakane on ranks\n",
            "  Invoking Larsson-Sadakane on ranks time: 00:00:03\n",
            "  Sanity-checking and returning\n",
            "Building samples\n",
            "Reserving space for 12 sample suffixes\n",
            "Generating random suffixes\n",
            "QSorting 12 sample offsets, eliminating duplicates\n",
            "QSorting sample offsets, eliminating duplicates time: 00:00:00\n",
            "Multikey QSorting 12 samples\n",
            "  (Using difference cover)\n",
            "  Multikey QSorting samples time: 00:00:00\n",
            "Calculating bucket sizes\n",
            "Splitting and merging\n",
            "  Splitting and merging time: 00:00:00\n",
            "Split 1, merged 7; iterating...\n",
            "Splitting and merging\n",
            "  Splitting and merging time: 00:00:00\n",
            "Split 1, merged 1; iterating...\n",
            "Splitting and merging\n",
            "  Splitting and merging time: 00:00:00\n",
            "Avg bucket size: 1.34361e+07 (target: 17634881)\n",
            "Converting suffix-array elements to index image\n",
            "Allocating ftab, absorbFtab\n",
            "Entering Ebwt loop\n",
            "Getting block 1 of 7\n",
            "  Reserving size (17634882) for bucket 1\n",
            "  Calculating Z arrays for bucket 1\n",
            "  Entering block accumulator loop for bucket 1:\n",
            "  bucket 1: 10%\n",
            "  bucket 1: 20%\n",
            "  bucket 1: 30%\n",
            "  bucket 1: 40%\n",
            "  bucket 1: 50%\n",
            "  bucket 1: 60%\n",
            "  bucket 1: 70%\n",
            "  bucket 1: 80%\n",
            "  bucket 1: 90%\n",
            "  bucket 1: 100%\n",
            "  Sorting block of length 14772574 for bucket 1\n",
            "  (Using difference cover)\n",
            "  Sorting block time: 00:01:06\n",
            "Returning block of 14772575 for bucket 1\n",
            "Getting block 2 of 7\n",
            "  Reserving size (17634882) for bucket 2\n",
            "  Calculating Z arrays for bucket 2\n",
            "  Entering block accumulator loop for bucket 2:\n",
            "  bucket 2: 10%\n",
            "  bucket 2: 20%\n",
            "  bucket 2: 30%\n",
            "  bucket 2: 40%\n",
            "  bucket 2: 50%\n",
            "  bucket 2: 60%\n",
            "  bucket 2: 70%\n",
            "  bucket 2: 80%\n",
            "  bucket 2: 90%\n",
            "  bucket 2: 100%\n",
            "  Sorting block of length 10243004 for bucket 2\n",
            "  (Using difference cover)\n",
            "  Sorting block time: 00:00:46\n",
            "Returning block of 10243005 for bucket 2\n",
            "Getting block 3 of 7\n",
            "  Reserving size (17634882) for bucket 3\n",
            "  Calculating Z arrays for bucket 3\n",
            "  Entering block accumulator loop for bucket 3:\n",
            "  bucket 3: 10%\n",
            "  bucket 3: 20%\n",
            "  bucket 3: 30%\n",
            "  bucket 3: 40%\n",
            "  bucket 3: 50%\n",
            "  bucket 3: 60%\n",
            "  bucket 3: 70%\n",
            "  bucket 3: 80%\n",
            "  bucket 3: 90%\n",
            "  bucket 3: 100%\n",
            "  Sorting block of length 16420283 for bucket 3\n",
            "  (Using difference cover)\n",
            "  Sorting block time: 00:01:14\n",
            "Returning block of 16420284 for bucket 3\n",
            "Getting block 4 of 7\n",
            "  Reserving size (17634882) for bucket 4\n",
            "  Calculating Z arrays for bucket 4\n",
            "  Entering block accumulator loop for bucket 4:\n",
            "  bucket 4: 10%\n",
            "  bucket 4: 20%\n",
            "  bucket 4: 30%\n",
            "  bucket 4: 40%\n",
            "  bucket 4: 50%\n",
            "  bucket 4: 60%\n",
            "  bucket 4: 70%\n",
            "  bucket 4: 80%\n",
            "  bucket 4: 90%\n",
            "  bucket 4: 100%\n",
            "  Sorting block of length 14982342 for bucket 4\n",
            "  (Using difference cover)\n",
            "  Sorting block time: 00:01:09\n",
            "Returning block of 14982343 for bucket 4\n",
            "Getting block 5 of 7\n",
            "  Reserving size (17634882) for bucket 5\n",
            "  Calculating Z arrays for bucket 5\n",
            "  Entering block accumulator loop for bucket 5:\n",
            "  bucket 5: 10%\n",
            "  bucket 5: 20%\n",
            "  bucket 5: 30%\n",
            "  bucket 5: 40%\n",
            "  bucket 5: 50%\n",
            "  bucket 5: 60%\n",
            "  bucket 5: 70%\n",
            "  bucket 5: 80%\n",
            "  bucket 5: 90%\n",
            "  bucket 5: 100%\n",
            "  Sorting block of length 14219605 for bucket 5\n",
            "  (Using difference cover)\n",
            "  Sorting block time: 00:01:04\n",
            "Returning block of 14219606 for bucket 5\n",
            "Getting block 6 of 7\n",
            "  Reserving size (17634882) for bucket 6\n",
            "  Calculating Z arrays for bucket 6\n",
            "  Entering block accumulator loop for bucket 6:\n",
            "  bucket 6: 10%\n",
            "  bucket 6: 20%\n",
            "  bucket 6: 30%\n",
            "  bucket 6: 40%\n",
            "  bucket 6: 50%\n",
            "  bucket 6: 60%\n",
            "  bucket 6: 70%\n",
            "  bucket 6: 80%\n",
            "  bucket 6: 90%\n",
            "  bucket 6: 100%\n",
            "  Sorting block of length 9271816 for bucket 6\n",
            "  (Using difference cover)\n",
            "  Sorting block time: 00:00:41\n",
            "Returning block of 9271817 for bucket 6\n",
            "Getting block 7 of 7\n",
            "  Reserving size (17634882) for bucket 7\n",
            "  Calculating Z arrays for bucket 7\n",
            "  Entering block accumulator loop for bucket 7:\n",
            "  bucket 7: 10%\n",
            "  bucket 7: 20%\n",
            "  bucket 7: 30%\n",
            "  bucket 7: 40%\n",
            "  bucket 7: 50%\n",
            "  bucket 7: 60%\n",
            "  bucket 7: 70%\n",
            "  bucket 7: 80%\n",
            "  bucket 7: 90%\n",
            "  bucket 7: 100%\n",
            "  Sorting block of length 14143071 for bucket 7\n",
            "  (Using difference cover)\n",
            "  Sorting block time: 00:01:01\n",
            "Returning block of 14143072 for bucket 7\n",
            "Exited Ebwt loop\n",
            "fchr[A]: 0\n",
            "fchr[C]: 30457402\n",
            "fchr[G]: 48008566\n",
            "fchr[T]: 66709773\n",
            "fchr[$]: 94052701\n",
            "Exiting Ebwt::buildToDisk()\n",
            "Returning from initFromVector\n",
            "Wrote 39638189 bytes to primary EBWT file: index/AntG_ind.1.bt2.tmp\n",
            "Wrote 23513180 bytes to secondary EBWT file: index/AntG_ind.2.bt2.tmp\n",
            "Re-opening _in1 and _in2 as input streams\n",
            "Returning from Ebwt constructor\n",
            "Headers:\n",
            "    len: 94052701\n",
            "    bwtLen: 94052702\n",
            "    sz: 23513176\n",
            "    bwtSz: 23513176\n",
            "    lineRate: 6\n",
            "    offRate: 4\n",
            "    offMask: 0xfffffff0\n",
            "    ftabChars: 10\n",
            "    eftabLen: 20\n",
            "    eftabSz: 80\n",
            "    ftabLen: 1048577\n",
            "    ftabSz: 4194308\n",
            "    offsLen: 5878294\n",
            "    offsSz: 23513176\n",
            "    lineSz: 64\n",
            "    sideSz: 64\n",
            "    sideBwtSz: 48\n",
            "    sideBwtLen: 192\n",
            "    numSides: 489858\n",
            "    numLines: 489858\n",
            "    ebwtTotLen: 31350912\n",
            "    ebwtTotSz: 31350912\n",
            "    color: 0\n",
            "    reverse: 0\n",
            "Total time for call to driver() for forward index: 00:08:19\n",
            "Reading reference sizes\n",
            "  Time reading reference sizes: 00:00:00\n",
            "Calculating joined length\n",
            "Writing header\n",
            "Reserving space for joined string\n",
            "Joining reference sequences\n",
            "  Time to join reference sequences: 00:00:01\n",
            "  Time to reverse reference sequence: 00:00:00\n",
            "bmax according to bmaxDivN setting: 23513175\n",
            "Using parameters --bmax 17634882 --dcv 1024\n",
            "  Doing ahead-of-time memory usage test\n",
            "  Passed!  Constructing with these parameters: --bmax 17634882 --dcv 1024\n",
            "Constructing suffix-array element generator\n",
            "Building DifferenceCoverSample\n",
            "  Building sPrime\n",
            "  Building sPrimeOrder\n",
            "  V-Sorting samples\n",
            "  V-Sorting samples time: 00:00:12\n",
            "  Allocating rank array\n",
            "  Ranking v-sort output\n",
            "  Ranking v-sort output time: 00:00:02\n",
            "  Invoking Larsson-Sadakane on ranks\n",
            "  Invoking Larsson-Sadakane on ranks time: 00:00:01\n",
            "  Sanity-checking and returning\n",
            "Building samples\n",
            "Reserving space for 12 sample suffixes\n",
            "Generating random suffixes\n",
            "QSorting 12 sample offsets, eliminating duplicates\n",
            "QSorting sample offsets, eliminating duplicates time: 00:00:00\n",
            "Multikey QSorting 12 samples\n",
            "  (Using difference cover)\n",
            "  Multikey QSorting samples time: 00:00:00\n",
            "Calculating bucket sizes\n",
            "Splitting and merging\n",
            "  Splitting and merging time: 00:00:00\n",
            "Avg bucket size: 1.34361e+07 (target: 17634881)\n",
            "Converting suffix-array elements to index image\n",
            "Allocating ftab, absorbFtab\n",
            "Entering Ebwt loop\n",
            "Getting block 1 of 7\n",
            "  Reserving size (17634882) for bucket 1\n",
            "  Calculating Z arrays for bucket 1\n",
            "  Entering block accumulator loop for bucket 1:\n",
            "  bucket 1: 10%\n",
            "  bucket 1: 20%\n",
            "  bucket 1: 30%\n",
            "  bucket 1: 40%\n",
            "  bucket 1: 50%\n",
            "  bucket 1: 60%\n",
            "  bucket 1: 70%\n",
            "  bucket 1: 80%\n",
            "  bucket 1: 90%\n",
            "  bucket 1: 100%\n",
            "  Sorting block of length 12436823 for bucket 1\n",
            "  (Using difference cover)\n",
            "  Sorting block time: 00:00:56\n",
            "Returning block of 12436824 for bucket 1\n",
            "Getting block 2 of 7\n",
            "  Reserving size (17634882) for bucket 2\n",
            "  Calculating Z arrays for bucket 2\n",
            "  Entering block accumulator loop for bucket 2:\n",
            "  bucket 2: 10%\n",
            "  bucket 2: 20%\n",
            "  bucket 2: 30%\n",
            "  bucket 2: 40%\n",
            "  bucket 2: 50%\n",
            "  bucket 2: 60%\n",
            "  bucket 2: 70%\n",
            "  bucket 2: 80%\n",
            "  bucket 2: 90%\n",
            "  bucket 2: 100%\n",
            "  Sorting block of length 16943033 for bucket 2\n",
            "  (Using difference cover)\n",
            "  Sorting block time: 00:01:20\n",
            "Returning block of 16943034 for bucket 2\n",
            "Getting block 3 of 7\n",
            "  Reserving size (17634882) for bucket 3\n",
            "  Calculating Z arrays for bucket 3\n",
            "  Entering block accumulator loop for bucket 3:\n",
            "  bucket 3: 10%\n",
            "  bucket 3: 20%\n",
            "  bucket 3: 30%\n",
            "  bucket 3: 40%\n",
            "  bucket 3: 50%\n",
            "  bucket 3: 60%\n",
            "  bucket 3: 70%\n",
            "  bucket 3: 80%\n",
            "  bucket 3: 90%\n",
            "  bucket 3: 100%\n",
            "  Sorting block of length 9803306 for bucket 3\n",
            "  (Using difference cover)\n",
            "  Sorting block time: 00:00:45\n",
            "Returning block of 9803307 for bucket 3\n",
            "Getting block 4 of 7\n",
            "  Reserving size (17634882) for bucket 4\n",
            "  Calculating Z arrays for bucket 4\n",
            "  Entering block accumulator loop for bucket 4:\n",
            "  bucket 4: 10%\n",
            "  bucket 4: 20%\n",
            "  bucket 4: 30%\n",
            "  bucket 4: 40%\n",
            "  bucket 4: 50%\n",
            "  bucket 4: 60%\n",
            "  bucket 4: 70%\n",
            "  bucket 4: 80%\n",
            "  bucket 4: 90%\n",
            "  bucket 4: 100%\n",
            "  Sorting block of length 15112962 for bucket 4\n",
            "  (Using difference cover)\n",
            "  Sorting block time: 00:01:07\n",
            "Returning block of 15112963 for bucket 4\n",
            "Getting block 5 of 7\n",
            "  Reserving size (17634882) for bucket 5\n",
            "  Calculating Z arrays for bucket 5\n",
            "  Entering block accumulator loop for bucket 5:\n",
            "  bucket 5: 10%\n",
            "  bucket 5: 20%\n",
            "  bucket 5: 30%\n",
            "  bucket 5: 40%\n",
            "  bucket 5: 50%\n",
            "  bucket 5: 60%\n",
            "  bucket 5: 70%\n",
            "  bucket 5: 80%\n",
            "  bucket 5: 90%\n",
            "  bucket 5: 100%\n",
            "  Sorting block of length 12362702 for bucket 5\n",
            "  (Using difference cover)\n",
            "  Sorting block time: 00:00:55\n",
            "Returning block of 12362703 for bucket 5\n",
            "Getting block 6 of 7\n",
            "  Reserving size (17634882) for bucket 6\n",
            "  Calculating Z arrays for bucket 6\n",
            "  Entering block accumulator loop for bucket 6:\n",
            "  bucket 6: 10%\n",
            "  bucket 6: 20%\n",
            "  bucket 6: 30%\n",
            "  bucket 6: 40%\n",
            "  bucket 6: 50%\n",
            "  bucket 6: 60%\n",
            "  bucket 6: 70%\n",
            "  bucket 6: 80%\n",
            "  bucket 6: 90%\n",
            "  bucket 6: 100%\n",
            "  Sorting block of length 14040582 for bucket 6\n",
            "  (Using difference cover)\n",
            "  Sorting block time: 00:01:02\n",
            "Returning block of 14040583 for bucket 6\n",
            "Getting block 7 of 7\n",
            "  Reserving size (17634882) for bucket 7\n",
            "  Calculating Z arrays for bucket 7\n",
            "  Entering block accumulator loop for bucket 7:\n",
            "  bucket 7: 10%\n",
            "  bucket 7: 20%\n",
            "  bucket 7: 30%\n",
            "  bucket 7: 40%\n",
            "  bucket 7: 50%\n",
            "  bucket 7: 60%\n",
            "  bucket 7: 70%\n",
            "  bucket 7: 80%\n",
            "  bucket 7: 90%\n",
            "  bucket 7: 100%\n",
            "  Sorting block of length 13353287 for bucket 7\n",
            "  (Using difference cover)\n",
            "  Sorting block time: 00:01:00\n",
            "Returning block of 13353288 for bucket 7\n",
            "Exited Ebwt loop\n",
            "fchr[A]: 0\n",
            "fchr[C]: 30457402\n",
            "fchr[G]: 48008566\n",
            "fchr[T]: 66709773\n",
            "fchr[$]: 94052701\n",
            "Exiting Ebwt::buildToDisk()\n",
            "Returning from initFromVector\n",
            "Wrote 39638189 bytes to primary EBWT file: index/AntG_ind.rev.1.bt2.tmp\n",
            "Wrote 23513180 bytes to secondary EBWT file: index/AntG_ind.rev.2.bt2.tmp\n",
            "Re-opening _in1 and _in2 as input streams\n",
            "Returning from Ebwt constructor\n",
            "Headers:\n",
            "    len: 94052701\n",
            "    bwtLen: 94052702\n",
            "    sz: 23513176\n",
            "    bwtSz: 23513176\n",
            "    lineRate: 6\n",
            "    offRate: 4\n",
            "    offMask: 0xfffffff0\n",
            "    ftabChars: 10\n",
            "    eftabLen: 20\n",
            "    eftabSz: 80\n",
            "    ftabLen: 1048577\n",
            "    ftabSz: 4194308\n",
            "    offsLen: 5878294\n",
            "    offsSz: 23513176\n",
            "    lineSz: 64\n",
            "    sideSz: 64\n",
            "    sideBwtSz: 48\n",
            "    sideBwtLen: 192\n",
            "    numSides: 489858\n",
            "    numLines: 489858\n",
            "    ebwtTotLen: 31350912\n",
            "    ebwtTotSz: 31350912\n",
            "    color: 0\n",
            "    reverse: 1\n",
            "Total time for backward call to driver() for mirror index: 00:08:11\n",
            "Renaming index/AntG_ind.3.bt2.tmp to index/AntG_ind.3.bt2\n",
            "Renaming index/AntG_ind.4.bt2.tmp to index/AntG_ind.4.bt2\n",
            "Renaming index/AntG_ind.1.bt2.tmp to index/AntG_ind.1.bt2\n",
            "Renaming index/AntG_ind.2.bt2.tmp to index/AntG_ind.2.bt2\n",
            "Renaming index/AntG_ind.rev.1.bt2.tmp to index/AntG_ind.rev.1.bt2\n",
            "Renaming index/AntG_ind.rev.2.bt2.tmp to index/AntG_ind.rev.2.bt2\n"
          ]
        }
      ]
    },
    {
      "cell_type": "code",
      "source": [
        "!mkdir mapped"
      ],
      "metadata": {
        "id": "1wlLBBZ-Fith"
      },
      "execution_count": 31,
      "outputs": []
    },
    {
      "cell_type": "code",
      "source": [
        "!mkdir unmapped"
      ],
      "metadata": {
        "id": "gwQvACV3GmNf"
      },
      "execution_count": 38,
      "outputs": []
    },
    {
      "cell_type": "code",
      "execution_count": 39,
      "metadata": {
        "colab": {
          "base_uri": "https://localhost:8080/"
        },
        "id": "xTeui4da-S5y",
        "outputId": "fac9a29e-4898-44cc-b1e2-344436281dfd"
      },
      "outputs": [
        {
          "output_type": "stream",
          "name": "stdout",
          "text": [
            "3134438 reads; of these:\n",
            "  3134438 (100.00%) were paired; of these:\n",
            "    3110962 (99.25%) aligned concordantly 0 times\n",
            "    5619 (0.18%) aligned concordantly exactly 1 time\n",
            "    17857 (0.57%) aligned concordantly >1 times\n",
            "    ----\n",
            "    3110962 pairs aligned concordantly 0 times; of these:\n",
            "      72 (0.00%) aligned discordantly 1 time\n",
            "    ----\n",
            "    3110890 pairs aligned 0 times concordantly or discordantly; of these:\n",
            "      6221780 mates make up the pairs; of these:\n",
            "        6197309 (99.61%) aligned 0 times\n",
            "        10952 (0.18%) aligned exactly 1 time\n",
            "        13519 (0.22%) aligned >1 times\n",
            "1.14% overall alignment rate\n"
          ]
        }
      ],
      "source": [
        "# mapeo de las lecturas limpias al genoma de referencia con Bowtie2\n",
        "!bowtie2 -x index/AntG_ind -1 trim_r/17EX01_R1.fastq.trim.gz -2 trim_r/17EX01-R2.fastq.trim.gz -S mapped/Pchile.sam"
      ]
    },
    {
      "cell_type": "code",
      "source": [
        "\n",
        "!mkdir unmapped\n"
      ],
      "metadata": {
        "id": "7RLKwI99DdR-"
      },
      "execution_count": null,
      "outputs": []
    },
    {
      "cell_type": "code",
      "execution_count": 41,
      "metadata": {
        "colab": {
          "base_uri": "https://localhost:8080/"
        },
        "outputId": "74f1e671-ecff-4ff8-cac4-922b0df557e9",
        "id": "s1oa_lW3DitR"
      },
      "outputs": [
        {
          "output_type": "stream",
          "name": "stdout",
          "text": [
            "3134438 reads; of these:\n",
            "  3134438 (100.00%) were paired; of these:\n",
            "    3110962 (99.25%) aligned concordantly 0 times\n",
            "    5619 (0.18%) aligned concordantly exactly 1 time\n",
            "    17857 (0.57%) aligned concordantly >1 times\n",
            "    ----\n",
            "    3110962 pairs aligned concordantly 0 times; of these:\n",
            "      72 (0.00%) aligned discordantly 1 time\n",
            "    ----\n",
            "    3110890 pairs aligned 0 times concordantly or discordantly; of these:\n",
            "      6221780 mates make up the pairs; of these:\n",
            "        6197309 (99.61%) aligned 0 times\n",
            "        10952 (0.18%) aligned exactly 1 time\n",
            "        13519 (0.22%) aligned >1 times\n",
            "1.14% overall alignment rate\n"
          ]
        }
      ],
      "source": [
        "# obtener las secuencias que No se alinearon al genoma de referencia\n",
        "#bowtie2 -x tu_indice -U lecturas.fastq -S salida.sam -un lecturas_no_alineadas.fastq -al lecturas_alineadas.fastq\n",
        "!bowtie2 -x index/AntG_ind -1 trim_r/17EX01_R1.fastq.trim.gz -2 trim_r/17EX01-R2.fastq.trim.gz -S mapped/Pchile1.sam --un-conc unmapped/Pchile.unaligned.fastq.gz"
      ]
    },
    {
      "cell_type": "markdown",
      "metadata": {
        "id": "9xyjjk4D7tyV"
      },
      "source": []
    },
    {
      "cell_type": "code",
      "source": [
        "!bowtie2 -h"
      ],
      "metadata": {
        "colab": {
          "base_uri": "https://localhost:8080/"
        },
        "id": "YZmsvp89CzOo",
        "outputId": "e91903bc-1e8a-459a-ad65-d0236fd03c1d"
      },
      "execution_count": 33,
      "outputs": [
        {
          "output_type": "stream",
          "name": "stdout",
          "text": [
            "Bowtie 2 version 2.5.4 by Ben Langmead (langmea@cs.jhu.edu, www.cs.jhu.edu/~langmea)\n",
            "Usage: \n",
            "  bowtie2 [options]* -x <bt2-idx> {-1 <m1> -2 <m2> | -U <r> | --interleaved <i> | -b <bam>} [-S <sam>]\n",
            "\n",
            "  <bt2-idx>  Index filename prefix (minus trailing .X.bt2).\n",
            "             NOTE: Bowtie 1 and Bowtie 2 indexes are not compatible.\n",
            "  <m1>       Files with #1 mates, paired with files in <m2>.\n",
            "             Could be gzip'ed (extension: .gz) or bzip2'ed (extension: .bz2).\n",
            "  <m2>       Files with #2 mates, paired with files in <m1>.\n",
            "             Could be gzip'ed (extension: .gz) or bzip2'ed (extension: .bz2).\n",
            "  <r>        Files with unpaired reads.\n",
            "             Could be gzip'ed (extension: .gz) or bzip2'ed (extension: .bz2).\n",
            "  <i>        Files with interleaved paired-end FASTQ/FASTA reads\n",
            "             Could be gzip'ed (extension: .gz) or bzip2'ed (extension: .bz2).\n",
            "  <bam>      Files are unaligned BAM sorted by read name.\n",
            "  <sam>      File for SAM output (default: stdout)\n",
            "\n",
            "  <m1>, <m2>, <r> can be comma-separated lists (no whitespace) and can be\n",
            "  specified many times.  E.g. '-U file1.fq,file2.fq -U file3.fq'.\n",
            "\n",
            "Options (defaults in parentheses):\n",
            "\n",
            " Input:\n",
            "  -q                 query input files are FASTQ .fq/.fastq (default)\n",
            "  --tab5             query input files are TAB5 .tab5\n",
            "  --tab6             query input files are TAB6 .tab6\n",
            "  --qseq             query input files are in Illumina's qseq format\n",
            "  -f                 query input files are (multi-)FASTA .fa/.mfa\n",
            "  -r                 query input files are raw one-sequence-per-line\n",
            "  -F k:<int>,i:<int> query input files are continuous FASTA where reads\n",
            "                     are substrings (k-mers) extracted from the FASTA file\n",
            "                     and aligned at offsets 1, 1+i, 1+2i ... end of reference\n",
            "  -c                 <m1>, <m2>, <r> are sequences themselves, not files\n",
            "  -s/--skip <int>    skip the first <int> reads/pairs in the input (none)\n",
            "  -u/--upto <int>    stop after first <int> reads/pairs (no limit)\n",
            "  -5/--trim5 <int>   trim <int> bases from 5'/left end of reads (0)\n",
            "  -3/--trim3 <int>   trim <int> bases from 3'/right end of reads (0)\n",
            "  --trim-to [3:|5:]<int> trim reads exceeding <int> bases from either 3' or 5' end\n",
            "                     If the read end is not specified then it defaults to 3 (0)\n",
            "  --phred33          qualities are Phred+33 (default)\n",
            "  --phred64          qualities are Phred+64\n",
            "  --int-quals        qualities encoded as space-delimited integers\n",
            "\n",
            " Presets:                 Same as:\n",
            "  For --end-to-end:\n",
            "   --very-fast            -D 5 -R 1 -N 0 -L 22 -i S,0,2.50\n",
            "   --fast                 -D 10 -R 2 -N 0 -L 22 -i S,0,2.50\n",
            "   --sensitive            -D 15 -R 2 -N 0 -L 22 -i S,1,1.15 (default)\n",
            "   --very-sensitive       -D 20 -R 3 -N 0 -L 20 -i S,1,0.50\n",
            "\n",
            "  For --local:\n",
            "   --very-fast-local      -D 5 -R 1 -N 0 -L 25 -i S,1,2.00\n",
            "   --fast-local           -D 10 -R 2 -N 0 -L 22 -i S,1,1.75\n",
            "   --sensitive-local      -D 15 -R 2 -N 0 -L 20 -i S,1,0.75 (default)\n",
            "   --very-sensitive-local -D 20 -R 3 -N 0 -L 20 -i S,1,0.50\n",
            "\n",
            " Alignment:\n",
            "  -N <int>           max # mismatches in seed alignment; can be 0 or 1 (0)\n",
            "  -L <int>           length of seed substrings; must be >3, <32 (22)\n",
            "  -i <func>          interval between seed substrings w/r/t read len (S,1,1.15)\n",
            "  --n-ceil <func>    func for max # non-A/C/G/Ts permitted in aln (L,0,0.15)\n",
            "  --dpad <int>       include <int> extra ref chars on sides of DP table (15)\n",
            "  --gbar <int>       disallow gaps within <int> nucs of read extremes (4)\n",
            "  --ignore-quals     treat all quality values as 30 on Phred scale (off)\n",
            "  --nofw             do not align forward (original) version of read (off)\n",
            "  --norc             do not align reverse-complement version of read (off)\n",
            "  --no-1mm-upfront   do not allow 1 mismatch alignments before attempting to\n",
            "                     scan for the optimal seeded alignments\n",
            "  --end-to-end       entire read must align; no clipping (on)\n",
            "   OR\n",
            "  --local            local alignment; ends might be soft clipped (off)\n",
            "\n",
            " Scoring:\n",
            "  --ma <int>         match bonus (0 for --end-to-end, 2 for --local) \n",
            "  --mp <int>         max penalty for mismatch; lower qual = lower penalty (6)\n",
            "  --np <int>         penalty for non-A/C/G/Ts in read/ref (1)\n",
            "  --rdg <int>,<int>  read gap open, extend penalties (5,3)\n",
            "  --rfg <int>,<int>  reference gap open, extend penalties (5,3)\n",
            "  --score-min <func> min acceptable alignment score w/r/t read length\n",
            "                     (G,20,8 for local, L,-0.6,-0.6 for end-to-end)\n",
            "\n",
            " Reporting:\n",
            "  (default)          look for multiple alignments, report best, with MAPQ\n",
            "   OR\n",
            "  -k <int>           report up to <int> alns per read; MAPQ not meaningful\n",
            "   OR\n",
            "  -a/--all           report all alignments; very slow, MAPQ not meaningful\n",
            "\n",
            " Effort:\n",
            "  -D <int>           give up extending after <int> failed extends in a row (15)\n",
            "  -R <int>           for reads w/ repetitive seeds, try <int> sets of seeds (2)\n",
            "\n",
            " Paired-end:\n",
            "  -I/--minins <int>  minimum fragment length (0)\n",
            "  -X/--maxins <int>  maximum fragment length (500)\n",
            "  --fr/--rf/--ff     -1, -2 mates align fw/rev, rev/fw, fw/fw (--fr)\n",
            "  --no-mixed         suppress unpaired alignments for paired reads\n",
            "  --no-discordant    suppress discordant alignments for paired reads\n",
            "  --dovetail         concordant when mates extend past each other\n",
            "  --no-contain       not concordant when one mate alignment contains other\n",
            "  --no-overlap       not concordant when mates overlap at all\n",
            "\n",
            " BAM:\n",
            "  --align-paired-reads\n",
            "                     Bowtie2 will, by default, attempt to align unpaired BAM reads.\n",
            "                     Use this option to align paired-end reads instead.\n",
            "  --preserve-tags    Preserve tags from the original BAM record by\n",
            "                     appending them to the end of the corresponding SAM output.\n",
            "\n",
            " Output:\n",
            "  -t/--time          print wall-clock time taken by search phases\n",
            "  --un <path>        write unpaired reads that didn't align to <path>\n",
            "  --al <path>        write unpaired reads that aligned at least once to <path>\n",
            "  --un-conc <path>   write pairs that didn't align concordantly to <path>\n",
            "  --al-conc <path>   write pairs that aligned concordantly at least once to <path>\n",
            "    (Note: for --un, --al, --un-conc, or --al-conc, add '-gz' to the option name, e.g.\n",
            "    --un-gz <path>, to gzip compress output, or add '-bz2' to bzip2 compress output.)\n",
            "  --quiet            print nothing to stderr except serious errors\n",
            "  --met-file <path>  send metrics to file at <path> (off)\n",
            "  --met-stderr       send metrics to stderr (off)\n",
            "  --met <int>        report internal counters & metrics every <int> secs (1)\n",
            "  --no-unal          suppress SAM records for unaligned reads\n",
            "  --no-head          suppress header lines, i.e. lines starting with @\n",
            "  --no-sq            suppress @SQ header lines\n",
            "  --rg-id <text>     set read group id, reflected in @RG line and RG:Z: opt field\n",
            "  --rg <text>        add <text> (\"lab:value\") to @RG line of SAM header.\n",
            "                     Note: @RG line only printed when --rg-id is set.\n",
            "  --omit-sec-seq     put '*' in SEQ and QUAL fields for secondary alignments.\n",
            "  --sam-no-qname-trunc\n",
            "                     Suppress standard behavior of truncating readname at first whitespace \n",
            "                     at the expense of generating non-standard SAM.\n",
            "  --xeq              Use '='/'X', instead of 'M,' to specify matches/mismatches in SAM record.\n",
            "  --soft-clipped-unmapped-tlen\n",
            "                     Exclude soft-clipped bases when reporting TLEN.\n",
            "  --sam-append-comment\n",
            "                     Append FASTA/FASTQ comment to SAM record.\n",
            "  --sam-opt-config <config>\n",
            "                     Use <config>, example '-MD,YP,-AS', to toggle SAM Optional fields.\n",
            "\n",
            " Performance:\n",
            "  -p/--threads <int> number of alignment threads to launch (1)\n",
            "  --reorder          force SAM output order to match order of input reads\n",
            "  --mm               use memory-mapped I/O for index; many 'bowtie's can share\n",
            "\n",
            " Other:\n",
            "  --qc-filter        filter out reads that are bad according to QSEQ filter\n",
            "  --seed <int>       seed for random number generator (0)\n",
            "  --non-deterministic\n",
            "                     seed rand. gen. arbitrarily instead of using read attributes\n",
            "  --version          print version information and quit\n",
            "  -h/--help          print this usage message\n"
          ]
        }
      ]
    },
    {
      "cell_type": "markdown",
      "source": [
        "HASTA AQUI CORRIO TODO BIEN"
      ],
      "metadata": {
        "id": "uuxQGMxy8F8P"
      }
    },
    {
      "cell_type": "markdown",
      "source": [
        "# Ensamble con Metasspades"
      ],
      "metadata": {
        "id": "j9D0IpBZSJhH"
      }
    },
    {
      "cell_type": "code",
      "source": [],
      "metadata": {
        "id": "H8wO04B98CAV"
      },
      "execution_count": null,
      "outputs": []
    },
    {
      "cell_type": "code",
      "execution_count": 42,
      "metadata": {
        "colab": {
          "base_uri": "https://localhost:8080/",
          "height": 862
        },
        "id": "kvPMgNyIHs8r",
        "outputId": "e7e763eb-d43f-487c-bdc2-28c920462616"
      },
      "outputs": [
        {
          "output_type": "stream",
          "name": "stdout",
          "text": [
            "Collecting pybiolib\n",
            "  Downloading pybiolib-1.2.947-py3-none-any.whl.metadata (1.6 kB)\n",
            "Collecting appdirs>=1.4.3 (from pybiolib)\n",
            "  Downloading appdirs-1.4.4-py2.py3-none-any.whl.metadata (9.0 kB)\n",
            "Collecting click>=8.0.0 (from pybiolib)\n",
            "  Downloading click-8.2.1-py3-none-any.whl.metadata (2.5 kB)\n",
            "Collecting docker>=5.0.3 (from pybiolib)\n",
            "  Downloading docker-7.1.0-py3-none-any.whl.metadata (3.8 kB)\n",
            "Collecting importlib-metadata>=1.6.1 (from pybiolib)\n",
            "  Downloading importlib_metadata-8.7.0-py3-none-any.whl.metadata (4.8 kB)\n",
            "Collecting pyyaml>=5.3.1 (from pybiolib)\n",
            "  Downloading PyYAML-6.0.2-cp311-cp311-manylinux_2_17_x86_64.manylinux2014_x86_64.whl.metadata (2.1 kB)\n",
            "Collecting rich>=12.4.4 (from pybiolib)\n",
            "  Downloading rich-14.0.0-py3-none-any.whl.metadata (18 kB)\n",
            "Requirement already satisfied: requests>=2.26.0 in /usr/local/lib/python3.11/site-packages (from docker>=5.0.3->pybiolib) (2.32.3)\n",
            "Requirement already satisfied: urllib3>=1.26.0 in /usr/local/lib/python3.11/site-packages (from docker>=5.0.3->pybiolib) (2.3.0)\n",
            "Collecting zipp>=3.20 (from importlib-metadata>=1.6.1->pybiolib)\n",
            "  Downloading zipp-3.23.0-py3-none-any.whl.metadata (3.6 kB)\n",
            "Collecting markdown-it-py>=2.2.0 (from rich>=12.4.4->pybiolib)\n",
            "  Downloading markdown_it_py-3.0.0-py3-none-any.whl.metadata (6.9 kB)\n",
            "Collecting pygments<3.0.0,>=2.13.0 (from rich>=12.4.4->pybiolib)\n",
            "  Downloading pygments-2.19.2-py3-none-any.whl.metadata (2.5 kB)\n",
            "Collecting mdurl~=0.1 (from markdown-it-py>=2.2.0->rich>=12.4.4->pybiolib)\n",
            "  Downloading mdurl-0.1.2-py3-none-any.whl.metadata (1.6 kB)\n",
            "Requirement already satisfied: charset_normalizer<4,>=2 in /usr/local/lib/python3.11/site-packages (from requests>=2.26.0->docker>=5.0.3->pybiolib) (3.4.1)\n",
            "Requirement already satisfied: idna<4,>=2.5 in /usr/local/lib/python3.11/site-packages (from requests>=2.26.0->docker>=5.0.3->pybiolib) (3.10)\n",
            "Requirement already satisfied: certifi>=2017.4.17 in /usr/local/lib/python3.11/site-packages (from requests>=2.26.0->docker>=5.0.3->pybiolib) (2025.6.15)\n",
            "Downloading pybiolib-1.2.947-py3-none-any.whl (173 kB)\n",
            "Downloading appdirs-1.4.4-py2.py3-none-any.whl (9.6 kB)\n",
            "Downloading click-8.2.1-py3-none-any.whl (102 kB)\n",
            "Downloading docker-7.1.0-py3-none-any.whl (147 kB)\n",
            "Downloading importlib_metadata-8.7.0-py3-none-any.whl (27 kB)\n",
            "Downloading PyYAML-6.0.2-cp311-cp311-manylinux_2_17_x86_64.manylinux2014_x86_64.whl (762 kB)\n",
            "\u001b[2K   \u001b[90m━━━━━━━━━━━━━━━━━━━━━━━━━━━━━━━━━━━━━━━━\u001b[0m \u001b[32m763.0/763.0 kB\u001b[0m \u001b[31m17.5 MB/s\u001b[0m eta \u001b[36m0:00:00\u001b[0m\n",
            "\u001b[?25hDownloading rich-14.0.0-py3-none-any.whl (243 kB)\n",
            "Downloading markdown_it_py-3.0.0-py3-none-any.whl (87 kB)\n",
            "Downloading pygments-2.19.2-py3-none-any.whl (1.2 MB)\n",
            "\u001b[2K   \u001b[90m━━━━━━━━━━━━━━━━━━━━━━━━━━━━━━━━━━━━━━━━\u001b[0m \u001b[32m1.2/1.2 MB\u001b[0m \u001b[31m33.0 MB/s\u001b[0m eta \u001b[36m0:00:00\u001b[0m\n",
            "\u001b[?25hDownloading zipp-3.23.0-py3-none-any.whl (10 kB)\n",
            "Downloading mdurl-0.1.2-py3-none-any.whl (10.0 kB)\n",
            "Installing collected packages: appdirs, zipp, pyyaml, pygments, mdurl, click, markdown-it-py, importlib-metadata, docker, rich, pybiolib\n",
            "Successfully installed appdirs-1.4.4 click-8.2.1 docker-7.1.0 importlib-metadata-8.7.0 markdown-it-py-3.0.0 mdurl-0.1.2 pybiolib-1.2.947 pygments-2.19.2 pyyaml-6.0.2 rich-14.0.0 zipp-3.23.0\n"
          ]
        },
        {
          "output_type": "display_data",
          "data": {
            "application/vnd.colab-display-data+json": {
              "pip_warning": {
                "packages": [
                  "importlib_metadata",
                  "rich",
                  "zipp"
                ]
              },
              "id": "1afb062916fc470983c648646b0dead4"
            }
          },
          "metadata": {}
        }
      ],
      "source": [
        "!pip3 install --upgrade pybiolib"
      ]
    },
    {
      "cell_type": "code",
      "source": [
        "!conda install bioconda::spades"
      ],
      "metadata": {
        "colab": {
          "base_uri": "https://localhost:8080/"
        },
        "id": "f-TtmEwVbnJB",
        "outputId": "dba98cc0-3c30-4575-8179-da57e10b132d"
      },
      "execution_count": 61,
      "outputs": [
        {
          "output_type": "stream",
          "name": "stdout",
          "text": [
            "Channels:\n",
            " - conda-forge\n",
            " - bioconda\n",
            "Platform: linux-64\n",
            "Collecting package metadata (repodata.json): - \b\b\\ \b\b| \b\b/ \b\b- \b\b\\ \b\b| \b\b/ \b\b- \b\b\\ \b\b| \b\bdone\n",
            "Solving environment: - \b\b\\ \b\b| \b\b/ \b\bdone\n",
            "\n",
            "\n",
            "==> WARNING: A newer version of conda exists. <==\n",
            "    current version: 24.11.3\n",
            "    latest version: 25.5.1\n",
            "\n",
            "Please update conda by running\n",
            "\n",
            "    $ conda update -n base -c conda-forge conda\n",
            "\n",
            "\n",
            "\n",
            "## Package Plan ##\n",
            "\n",
            "  environment location: /usr/local\n",
            "\n",
            "  added / updated specs:\n",
            "    - bioconda::spades\n",
            "\n",
            "\n",
            "The following packages will be downloaded:\n",
            "\n",
            "    package                    |            build\n",
            "    ---------------------------|-----------------\n",
            "    spades-4.2.0               |       h8d6e82b_1        32.6 MB  bioconda\n",
            "    ------------------------------------------------------------\n",
            "                                           Total:        32.6 MB\n",
            "\n",
            "The following NEW packages will be INSTALLED:\n",
            "\n",
            "  spades             bioconda/linux-64::spades-4.2.0-h8d6e82b_1 \n",
            "\n",
            "\n",
            "\n",
            "Downloading and Extracting Packages:\n",
            "                                                                        \n",
            "Preparing transaction: - \b\bdone\n",
            "Verifying transaction: | \b\bdone\n",
            "Executing transaction: - \b\b\\ \b\b| \b\b/ \b\b- \b\b\\ \b\b| \b\b/ \b\b- \b\b\\ \b\b| \b\b/ \b\b- \b\b\\ \b\b| \b\bdone\n"
          ]
        }
      ]
    },
    {
      "cell_type": "code",
      "source": [
        "!mkdir metaspades_assembly"
      ],
      "metadata": {
        "id": "YsxLDUzmTKe8"
      },
      "execution_count": 44,
      "outputs": []
    },
    {
      "cell_type": "code",
      "source": [
        "#cambiar el directorio de trabajo\n",
        "import os\n",
        "os.chdir('/content/drive/MyDrive/Data17_Pchile/metaspades_assembly')"
      ],
      "metadata": {
        "id": "p0g60yHkThKK"
      },
      "execution_count": 48,
      "outputs": []
    },
    {
      "cell_type": "code",
      "source": [
        "!pwd"
      ],
      "metadata": {
        "colab": {
          "base_uri": "https://localhost:8080/"
        },
        "id": "QM7xmtJbUqte",
        "outputId": "8887ff17-8016-4462-cf6a-339ab520a2cd"
      },
      "execution_count": 49,
      "outputs": [
        {
          "output_type": "stream",
          "name": "stdout",
          "text": [
            "/content/drive/MyDrive/Data17_Pchile/metaspades_assembly\n"
          ]
        }
      ]
    },
    {
      "cell_type": "code",
      "source": [
        "!mkdir output_dir"
      ],
      "metadata": {
        "id": "k_TQlzeVU0VX"
      },
      "execution_count": 50,
      "outputs": []
    },
    {
      "cell_type": "code",
      "source": [
        "# como nos cambiamos de directorio vamos a definir la ruta de los archivos a utilizar\n",
        "R1_unaligned = \"/content/drive/MyDrive/Data17_Pchile/unmapped/Pchile.unaligned.fastq.1.gz\"\n",
        "R2_unaligned = \"/content/drive/MyDrive/Data17_Pchile/unmapped/Pchile.unaligned.fastq.2.gz\""
      ],
      "metadata": {
        "id": "dbhhRHV7We0x"
      },
      "execution_count": 63,
      "outputs": []
    },
    {
      "cell_type": "code",
      "source": [
        " #Como la secuencias son de RNAseq se utiliza spades.py --rna\n",
        " #spades.py --meta [options] -o <output_dir>\n",
        "metaspades_command = f\"spades.py --meta -1 {R1_unaligned} -2 {R2_unaligned} -o output_dir\"\n",
        "#Ejecuta el comando\n",
        "!{metaspades_command}"
      ],
      "metadata": {
        "colab": {
          "base_uri": "https://localhost:8080/"
        },
        "id": "k7uya_bBYhNS",
        "outputId": "6b9cad41-1687-49d6-f6b9-43bc38d12279"
      },
      "execution_count": 66,
      "outputs": [
        {
          "output_type": "stream",
          "name": "stdout",
          "text": [
            "Running metaSPAdes command: spades.py --meta --pe12 /content/drive/MyDrive/Data17_Pchile/unmapped/Pchile.unaligned.fastq.gz -o output_dir\n",
            "SPAdes genome assembler v4.2.0 [metaSPAdes mode]\n",
            "\n",
            "Usage: spades.py [options] -o <output_dir>\n",
            "spades.py: error: Please specify option (e.g. -1, -2, -s, etc)) for the following paths: --pe12, /content/drive/MyDrive/Data17_Pchile/unmapped/Pchile.unaligned.fastq.gz\n"
          ]
        }
      ]
    },
    {
      "cell_type": "code",
      "source": [
        "metaspades_command = f\"spades.py --meta -1 {R1_unaligned} -2 {R2_unaligned} -o output_dir\"\n",
        "print(f\"Running metaSPAdes command: {metaspades_command}\")\n",
        " #Ejecuta el comando\n",
        "! {metaspades_command}"
      ],
      "metadata": {
        "colab": {
          "base_uri": "https://localhost:8080/"
        },
        "id": "qT8pZndJXJQH",
        "outputId": "71340f58-a86b-4027-b94c-128f78f07c1d"
      },
      "execution_count": 54,
      "outputs": [
        {
          "output_type": "stream",
          "name": "stdout",
          "text": [
            "Running metaSPAdes command: spades.py --meta -1 /content/drive/MyDrive/Data17_Pchile/unmapped/Pchile.unaligned.fastq.1.gz -2 /content/drive/MyDrive/Data17_Pchile/unmapped/Pchile.unaligned.fastq.2.gz -o output_dir\n",
            "/bin/bash: line 1: spades.py: command not found\n"
          ]
        }
      ]
    },
    {
      "cell_type": "code",
      "source": [
        "spades_command = f\"spades.py --meta  -1 /content/drive/MyDrive/Data17_Pchile/unmapped/Pchile.unaligned.fastq.1.gz  -2 /content/drive/MyDrive/Data17_Pchile/17EX01-06_S6_L001_R2_001.fastq.gz -o output_dir\""
      ],
      "metadata": {
        "id": "MDKT5LglVURc"
      },
      "execution_count": 68,
      "outputs": []
    }
  ],
  "metadata": {
    "colab": {
      "provenance": [],
      "mount_file_id": "1lLOEktibjbhbHQhVq-dKmIR6LD67xxH7",
      "authorship_tag": "ABX9TyMdjFaJ9/WotTyDyK0nWndi",
      "include_colab_link": true
    },
    "kernelspec": {
      "display_name": "Python 3",
      "name": "python3"
    },
    "language_info": {
      "name": "python"
    }
  },
  "nbformat": 4,
  "nbformat_minor": 0
}