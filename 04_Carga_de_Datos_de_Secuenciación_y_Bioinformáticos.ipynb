{
  "nbformat": 4,
  "nbformat_minor": 0,
  "metadata": {
    "colab": {
      "name": "04 Carga de Datos de Secuenciación y Bioinformáticos",
      "provenance": [],
      "collapsed_sections": [
        "6QBU3gs3-H_y",
        "X0k6JCUf-F9C"
      ],
      "toc_visible": true,
      "include_colab_link": true
    },
    "kernelspec": {
      "name": "python3",
      "display_name": "Python 3"
    }
  },
  "cells": [
    {
      "cell_type": "markdown",
      "metadata": {
        "id": "view-in-github",
        "colab_type": "text"
      },
      "source": [
        "<a href=\"https://colab.research.google.com/github/obdulia1/Aludenarticulo1/blob/master/04_Carga_de_Datos_de_Secuenciaci%C3%B3n_y_Bioinform%C3%A1ticos.ipynb\" target=\"_parent\"><img src=\"https://colab.research.google.com/assets/colab-badge.svg\" alt=\"Open In Colab\"/></a>"
      ]
    },
    {
      "cell_type": "markdown",
      "metadata": {
        "id": "_916NtzQfFKA"
      },
      "source": [
        "<img src=\"https://solariabiodata.com.mx/images/solaria_banner.png\" width=\"400\">\r\n",
        "\r\n",
        "# Biodata Camp: Python\r\n",
        "Bienvenidos al material que hemos preparado para el Biodata Camp: Python 🐍\r\n",
        "\r\n",
        "---"
      ]
    },
    {
      "cell_type": "markdown",
      "metadata": {
        "id": "zsxq7U2M3fdc"
      },
      "source": [
        "# 04 Carga de Datos de Secuenciación y Bioinformáticos"
      ]
    },
    {
      "cell_type": "code",
      "metadata": {
        "id": "bZ-lp9RGe7_W"
      },
      "source": [
        "with open('/content/Candidatus_midichlori_m.fasta') as f:\r\n",
        "    for line in f:\r\n",
        "      print (line)"
      ],
      "execution_count": null,
      "outputs": []
    },
    {
      "cell_type": "markdown",
      "metadata": {
        "id": "6qgx-AMx3mmo"
      },
      "source": [
        "## Google Colab"
      ]
    },
    {
      "cell_type": "markdown",
      "metadata": {
        "id": "6QBU3gs3-H_y"
      },
      "source": [
        "### La nube de Google Colab"
      ]
    },
    {
      "cell_type": "markdown",
      "metadata": {
        "id": "OiNsrwOn4jJ1"
      },
      "source": [
        "En Google Colab, tenemos que considera que trabajamos en una nube de procesamiento. Esta nube es distinta a la computadora que usamos. La base de esta nube es GNU/Linux\r\n",
        "\r\n",
        "Sobre esta nube podemos ejecutar comandos básicos de Linux, usando ```!``` antes de cualquier comando. Como ejemplo:\r\n",
        "```\r\n",
        "!uname -a\r\n",
        "```\r\n",
        "\r\n"
      ]
    },
    {
      "cell_type": "code",
      "metadata": {
        "colab": {
          "base_uri": "https://localhost:8080/"
        },
        "id": "mKUSA5br4jhH",
        "outputId": "ebfd3f8f-82cd-4615-ec84-0cbd7c8cc690"
      },
      "source": [
        "!uname -a"
      ],
      "execution_count": null,
      "outputs": [
        {
          "output_type": "stream",
          "text": [
            "Linux d3441369b08c 4.19.112+ #1 SMP Thu Jul 23 08:00:38 PDT 2020 x86_64 x86_64 x86_64 GNU/Linux\n"
          ],
          "name": "stdout"
        }
      ]
    },
    {
      "cell_type": "markdown",
      "metadata": {
        "id": "Ltb-Na7l9U3g"
      },
      "source": [
        "Para trabajar con datos propios, debemos empezar a cargarlos sobre el espacio de trabajo designado sobre esta nube"
      ]
    },
    {
      "cell_type": "code",
      "metadata": {
        "colab": {
          "base_uri": "https://localhost:8080/"
        },
        "id": "j6VRAjYV9nd9",
        "outputId": "a38d41a9-81ca-4e7b-8fe3-586be37558bc"
      },
      "source": [
        "# Este comando pide la ruta de trabajo actual\r\n",
        "!pwd"
      ],
      "execution_count": null,
      "outputs": [
        {
          "output_type": "stream",
          "text": [
            "/content\n"
          ],
          "name": "stdout"
        }
      ]
    },
    {
      "cell_type": "code",
      "metadata": {
        "colab": {
          "base_uri": "https://localhost:8080/",
          "height": 36
        },
        "id": "Mbnbets09v4n",
        "outputId": "98c1f8cd-a458-4fda-8ca5-d096ecbe2a99"
      },
      "source": [
        "# Esta sería la forma pythonesca\r\n",
        "import os\r\n",
        "os.getcwd()"
      ],
      "execution_count": null,
      "outputs": [
        {
          "output_type": "execute_result",
          "data": {
            "application/vnd.google.colaboratory.intrinsic+json": {
              "type": "string"
            },
            "text/plain": [
              "'/content'"
            ]
          },
          "metadata": {
            "tags": []
          },
          "execution_count": 4
        }
      ]
    },
    {
      "cell_type": "markdown",
      "metadata": {
        "id": "X0k6JCUf-F9C"
      },
      "source": [
        "### Carga de Archivos en Google Colab\r\n",
        "\r\n"
      ]
    },
    {
      "cell_type": "markdown",
      "metadata": {
        "id": "0ONTC3DAC26X"
      },
      "source": [
        "A continuación, veremos la pestaña de Archivos en la barra vertical de lado izquierdo."
      ]
    },
    {
      "cell_type": "markdown",
      "metadata": {
        "id": "WyHLqFLE-MLP"
      },
      "source": [
        "![Captura de pantalla 2021-03-12 000631.png](data:image/png;base64,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)"
      ]
    },
    {
      "cell_type": "markdown",
      "metadata": {
        "id": "qQFYQeRhDDEe"
      },
      "source": [
        "Para cargar datos al espacio de trabajo del notebook, ubicaremos el boton de 'Subir' en la esquina izquierda del menú 'Archivos'\r\n",
        "\r\n",
        "Desde aquí, iremos subiendo la información que usaremos a continuación."
      ]
    },
    {
      "cell_type": "markdown",
      "metadata": {
        "id": "tC5RdbPJ4d-9"
      },
      "source": [
        "## Datos de Secuenciación"
      ]
    },
    {
      "cell_type": "markdown",
      "metadata": {
        "id": "ooEHZPUFFoJk"
      },
      "source": [
        "### Carga de Archivos en forma Nativa"
      ]
    },
    {
      "cell_type": "markdown",
      "metadata": {
        "id": "S_lsJXVkaEcr"
      },
      "source": [
        "El proceso natural que tenemos para llevar a cabo con el fin de hacer cualquier operación con archivos es poder abrirlo. \r\n",
        "\r\n",
        "`open()` devuelve un objeto file, y comúnmente se utiliza con dos argumentos:\r\n",
        "\r\n",
        "    open(nombre del archivo, modo) \r\n",
        "\r\n",
        "Los modos disponibles son:\r\n",
        "\r\n",
        "Modo de Lectura (predeterminado)\r\n",
        "\r\n",
        "    f = open(\"fichero.txt\", \"r\")\r\n",
        "Modo de Lectura y Escritura (Reescribe si el archivo ya existe)\r\n",
        "\r\n",
        "    f = open(\"fichero.txt\", \"r+\")\r\n",
        "Modo de Lectura sobre Archivos binarios\r\n",
        "\r\n",
        "    f = open(\"fichero.txt\", \"rb\")\r\n",
        "Modo de Escritura (Para archivos nuevos)\r\n",
        "\r\n",
        "    f = open(\"fichero.txt\", \"w\")\r\n",
        "Modo de Adición (Escritura sin Reescribir el archivo)\r\n",
        "\r\n",
        "    f = open(\"fichero.txt\", \"a\")\r\n"
      ]
    },
    {
      "cell_type": "markdown",
      "metadata": {
        "id": "m1e8cwS7rbZ5"
      },
      "source": [
        "Ahora realizaremos una lecutra de secuencias en formato FASTA e imprimir en pantalla el contenido"
      ]
    },
    {
      "cell_type": "code",
      "metadata": {
        "id": "HctOS2CnH9za"
      },
      "source": [
        "f = open('/content/Candidatus_midichlori_m.fasta')\r\n",
        "for line in f:\r\n",
        "  print(line)"
      ],
      "execution_count": null,
      "outputs": []
    },
    {
      "cell_type": "code",
      "metadata": {
        "colab": {
          "base_uri": "https://localhost:8080/"
        },
        "id": "nyh-_sWOLymA",
        "outputId": "fc39344e-fdc9-453c-9915-b40fb29575aa"
      },
      "source": [
        "for i in [1,2,3,4,5,6]:\r\n",
        "    print(\"ciclo \" + str(i))\r\n",
        "    n = 1 + i\r\n",
        "    print(n)\r\n"
      ],
      "execution_count": null,
      "outputs": [
        {
          "output_type": "stream",
          "text": [
            "ciclo 1\n",
            "ciclo 2\n",
            "ciclo 3\n",
            "ciclo 4\n",
            "ciclo 5\n",
            "ciclo 6\n",
            "7\n"
          ],
          "name": "stdout"
        }
      ]
    },
    {
      "cell_type": "code",
      "metadata": {
        "colab": {
          "base_uri": "https://localhost:8080/"
        },
        "id": "WYAXj2LwNKDo",
        "outputId": "5c19f557-65d4-4f45-e737-77c042af68df"
      },
      "source": [
        "g = open('/content/NR_074540.1.fasta','r')\r\n",
        "for line in g:\r\n",
        "    print(line)"
      ],
      "execution_count": null,
      "outputs": [
        {
          "output_type": "stream",
          "text": [
            ">NR_074540.1 Bacillus cereus ATCC 14579 16S ribosomal RNA (rrnA), partial sequence\n",
            "\n",
            "TTATTGGAGAGTTTGATCCTGGCTCAGGATGAACGCTGGCGGCGTGCCTAATACATGCAAGTCGAGCGAA\n",
            "\n",
            "TGGATTAAGAGCTTGCTCTTATGAAGTTAGCGGCGGACGGGTGAGTAACACGTGGGTAACCTGCCCATAA\n",
            "\n",
            "GACTGGGATAACTCCGGGAAACCGGGGCTAATACCGGATAACATTTTGAACCGCATGGTTCGAAATTGAA\n",
            "\n",
            "AGGCGGCTTCGGCTGTCACTTATGGATGGACCCGCGTCGCATTAGCTAGTTGGTGAGGTAACGGCTCACC\n",
            "\n",
            "AAGGCAACGATGCGTAGCCGACCTGAGAGGGTGATCGGCCACACTGGGACTGAGACACGGCCCAGACTCC\n",
            "\n",
            "TACGGGAGGCAGCAGTAGGGAATCTTCCGCAATGGACGAAAGTCTGACGGAGCAACGCCGCGTGAGTGAT\n",
            "\n",
            "GAAGGCTTTCGGGTCGTAAAACTCTGTTGTTAGGGAAGAACAAGTGCTAGTTGAATAAGCTGGCACCTTG\n",
            "\n",
            "ACGGTACCTAACCAGAAAGCCACGGCTAACTACGTGCCAGCAGCCGCGGTAATACGTAGGTGGCAAGCGT\n",
            "\n",
            "TATCCGGAATTATTGGGCGTAAAGCGCGCGCAGGTGGTTTCTTAAGTCTGATGTGAAAGCCCACGGCTCA\n",
            "\n",
            "ACCGTGGAGGGTCATTGGAAACTGGGAGACTTGAGTGCAGAAGAGGAAAGTGGAATTCCATGTGTAGCGG\n",
            "\n",
            "TGAAATGCGTAGAGATATGGAGGAACACCAGTGGCGAAGGCGACTTTCTGGTCTGTAACTGACACTGAGG\n",
            "\n",
            "CGCGAAAGCGTGGGGAGCAAACAGGATTAGATACCCTGGTAGTCCACGCCGTAAACGATGAGTGCTAAGT\n",
            "\n",
            "GTTAGAGGGTTTCCGCCCTTTAGTGCTGAAGTTAACGCATTAAGCACTCCGCCTGGGGAGTACGGCCGCA\n",
            "\n",
            "AGGCTGAAACTCAAAGGAATTGACGGGGGCCCGCACAAGCGGTGGAGCATGTGGTTTAATTCGAAGCAAC\n",
            "\n",
            "GCGAAGAACCTTACCAGGTCTTGACATCCTCTGAAAACCCTAGAGATAGGGCTTCTCCTTCGGGAGCAGA\n",
            "\n",
            "GTGACAGGTGGTGCATGGTTGTCGTCAGCTCGTGTCGTGAGATGTTGGGTTAAGTCCCGCAACGAGCGCA\n",
            "\n",
            "ACCCTTGATCTTAGTTGCCATCATTAAGTTGGGCACTCTAAGGTGACTGCCGGTGACAAACCGGAGGAAG\n",
            "\n",
            "GTGGGGATGACGTCAAATCATCATGCCCCTTATGACCTGGGCTACACACGTGCTACAATGGACGGTACAA\n",
            "\n",
            "AGAGCTGCAAGACCGCGAGGTGGAGCTAATCTCATAAAACCGTTCTCAGTTCGGATTGTAGGCTGCAACT\n",
            "\n",
            "CGCCTACATGAAGCTGGAATCGCTAGTAATCGCGGATCAGCATGCCGCGGTGAATACGTTCCCGGGCCTT\n",
            "\n",
            "GTACACACCGCCCGTCACACCACGAGAGTTTGTAACACCCGAAGTCGGTGGGGTAACCTTTTTGGAGCCA\n",
            "\n",
            "GCCGCCTAAGGTGGGACAGATGATTGGGGTGAAGTCGTAACA\n",
            "\n",
            "\n",
            "\n"
          ],
          "name": "stdout"
        }
      ]
    },
    {
      "cell_type": "code",
      "metadata": {
        "id": "ptCKjjuTN8Zz"
      },
      "source": [
        "g = open('/content/NR_074540.1.fasta','r')\r\n",
        "fasta = []\r\n",
        "for line in g:\r\n",
        "    fasta.append(line)"
      ],
      "execution_count": null,
      "outputs": []
    },
    {
      "cell_type": "code",
      "metadata": {
        "colab": {
          "base_uri": "https://localhost:8080/"
        },
        "id": "Enbg7ETKOOXU",
        "outputId": "dbc0aa5a-4a32-4a7d-d577-b5292dabf715"
      },
      "source": [
        "fasta"
      ],
      "execution_count": null,
      "outputs": [
        {
          "output_type": "execute_result",
          "data": {
            "text/plain": [
              "['>NR_074540.1 Bacillus cereus ATCC 14579 16S ribosomal RNA (rrnA), partial sequence\\n',\n",
              " 'TTATTGGAGAGTTTGATCCTGGCTCAGGATGAACGCTGGCGGCGTGCCTAATACATGCAAGTCGAGCGAA\\n',\n",
              " 'TGGATTAAGAGCTTGCTCTTATGAAGTTAGCGGCGGACGGGTGAGTAACACGTGGGTAACCTGCCCATAA\\n',\n",
              " 'GACTGGGATAACTCCGGGAAACCGGGGCTAATACCGGATAACATTTTGAACCGCATGGTTCGAAATTGAA\\n',\n",
              " 'AGGCGGCTTCGGCTGTCACTTATGGATGGACCCGCGTCGCATTAGCTAGTTGGTGAGGTAACGGCTCACC\\n',\n",
              " 'AAGGCAACGATGCGTAGCCGACCTGAGAGGGTGATCGGCCACACTGGGACTGAGACACGGCCCAGACTCC\\n',\n",
              " 'TACGGGAGGCAGCAGTAGGGAATCTTCCGCAATGGACGAAAGTCTGACGGAGCAACGCCGCGTGAGTGAT\\n',\n",
              " 'GAAGGCTTTCGGGTCGTAAAACTCTGTTGTTAGGGAAGAACAAGTGCTAGTTGAATAAGCTGGCACCTTG\\n',\n",
              " 'ACGGTACCTAACCAGAAAGCCACGGCTAACTACGTGCCAGCAGCCGCGGTAATACGTAGGTGGCAAGCGT\\n',\n",
              " 'TATCCGGAATTATTGGGCGTAAAGCGCGCGCAGGTGGTTTCTTAAGTCTGATGTGAAAGCCCACGGCTCA\\n',\n",
              " 'ACCGTGGAGGGTCATTGGAAACTGGGAGACTTGAGTGCAGAAGAGGAAAGTGGAATTCCATGTGTAGCGG\\n',\n",
              " 'TGAAATGCGTAGAGATATGGAGGAACACCAGTGGCGAAGGCGACTTTCTGGTCTGTAACTGACACTGAGG\\n',\n",
              " 'CGCGAAAGCGTGGGGAGCAAACAGGATTAGATACCCTGGTAGTCCACGCCGTAAACGATGAGTGCTAAGT\\n',\n",
              " 'GTTAGAGGGTTTCCGCCCTTTAGTGCTGAAGTTAACGCATTAAGCACTCCGCCTGGGGAGTACGGCCGCA\\n',\n",
              " 'AGGCTGAAACTCAAAGGAATTGACGGGGGCCCGCACAAGCGGTGGAGCATGTGGTTTAATTCGAAGCAAC\\n',\n",
              " 'GCGAAGAACCTTACCAGGTCTTGACATCCTCTGAAAACCCTAGAGATAGGGCTTCTCCTTCGGGAGCAGA\\n',\n",
              " 'GTGACAGGTGGTGCATGGTTGTCGTCAGCTCGTGTCGTGAGATGTTGGGTTAAGTCCCGCAACGAGCGCA\\n',\n",
              " 'ACCCTTGATCTTAGTTGCCATCATTAAGTTGGGCACTCTAAGGTGACTGCCGGTGACAAACCGGAGGAAG\\n',\n",
              " 'GTGGGGATGACGTCAAATCATCATGCCCCTTATGACCTGGGCTACACACGTGCTACAATGGACGGTACAA\\n',\n",
              " 'AGAGCTGCAAGACCGCGAGGTGGAGCTAATCTCATAAAACCGTTCTCAGTTCGGATTGTAGGCTGCAACT\\n',\n",
              " 'CGCCTACATGAAGCTGGAATCGCTAGTAATCGCGGATCAGCATGCCGCGGTGAATACGTTCCCGGGCCTT\\n',\n",
              " 'GTACACACCGCCCGTCACACCACGAGAGTTTGTAACACCCGAAGTCGGTGGGGTAACCTTTTTGGAGCCA\\n',\n",
              " 'GCCGCCTAAGGTGGGACAGATGATTGGGGTGAAGTCGTAACA\\n',\n",
              " '\\n']"
            ]
          },
          "metadata": {
            "tags": []
          },
          "execution_count": 12
        }
      ]
    },
    {
      "cell_type": "code",
      "metadata": {
        "id": "7JismqYcRyR8"
      },
      "source": [
        ""
      ],
      "execution_count": null,
      "outputs": []
    },
    {
      "cell_type": "code",
      "metadata": {
        "colab": {
          "base_uri": "https://localhost:8080/"
        },
        "id": "eRKVnzTDQwKI",
        "outputId": "cda43f9c-3867-4806-f7cf-69f82cb01a16"
      },
      "source": [
        "type(fasta)"
      ],
      "execution_count": null,
      "outputs": [
        {
          "output_type": "execute_result",
          "data": {
            "text/plain": [
              "list"
            ]
          },
          "metadata": {
            "tags": []
          },
          "execution_count": 15
        }
      ]
    },
    {
      "cell_type": "code",
      "metadata": {
        "colab": {
          "base_uri": "https://localhost:8080/",
          "height": 36
        },
        "id": "kMZMhUSfQ0qO",
        "outputId": "be033ddd-1c04-4048-a54c-cbf8a776859b"
      },
      "source": [
        "fasta[0]"
      ],
      "execution_count": null,
      "outputs": [
        {
          "output_type": "execute_result",
          "data": {
            "application/vnd.google.colaboratory.intrinsic+json": {
              "type": "string"
            },
            "text/plain": [
              "'>NR_074540.1 Bacillus cereus ATCC 14579 16S ribosomal RNA (rrnA), partial sequence\\n'"
            ]
          },
          "metadata": {
            "tags": []
          },
          "execution_count": 16
        }
      ]
    },
    {
      "cell_type": "code",
      "metadata": {
        "id": "ELorxKp6Q49z"
      },
      "source": [
        "seq = ''.join(fasta[1:len(fasta)])"
      ],
      "execution_count": null,
      "outputs": []
    },
    {
      "cell_type": "code",
      "metadata": {
        "id": "OO66CL1wRXHx"
      },
      "source": [
        "seq = seq.replace('\\n','')"
      ],
      "execution_count": null,
      "outputs": []
    },
    {
      "cell_type": "code",
      "metadata": {
        "colab": {
          "base_uri": "https://localhost:8080/",
          "height": 187
        },
        "id": "nKBmWLQxRzEN",
        "outputId": "0aa6b72b-a92b-4319-fd0d-db7dbe82f711"
      },
      "source": [
        "seq"
      ],
      "execution_count": null,
      "outputs": [
        {
          "output_type": "execute_result",
          "data": {
            "application/vnd.google.colaboratory.intrinsic+json": {
              "type": "string"
            },
            "text/plain": [
              "'TTATTGGAGAGTTTGATCCTGGCTCAGGATGAACGCTGGCGGCGTGCCTAATACATGCAAGTCGAGCGAATGGATTAAGAGCTTGCTCTTATGAAGTTAGCGGCGGACGGGTGAGTAACACGTGGGTAACCTGCCCATAAGACTGGGATAACTCCGGGAAACCGGGGCTAATACCGGATAACATTTTGAACCGCATGGTTCGAAATTGAAAGGCGGCTTCGGCTGTCACTTATGGATGGACCCGCGTCGCATTAGCTAGTTGGTGAGGTAACGGCTCACCAAGGCAACGATGCGTAGCCGACCTGAGAGGGTGATCGGCCACACTGGGACTGAGACACGGCCCAGACTCCTACGGGAGGCAGCAGTAGGGAATCTTCCGCAATGGACGAAAGTCTGACGGAGCAACGCCGCGTGAGTGATGAAGGCTTTCGGGTCGTAAAACTCTGTTGTTAGGGAAGAACAAGTGCTAGTTGAATAAGCTGGCACCTTGACGGTACCTAACCAGAAAGCCACGGCTAACTACGTGCCAGCAGCCGCGGTAATACGTAGGTGGCAAGCGTTATCCGGAATTATTGGGCGTAAAGCGCGCGCAGGTGGTTTCTTAAGTCTGATGTGAAAGCCCACGGCTCAACCGTGGAGGGTCATTGGAAACTGGGAGACTTGAGTGCAGAAGAGGAAAGTGGAATTCCATGTGTAGCGGTGAAATGCGTAGAGATATGGAGGAACACCAGTGGCGAAGGCGACTTTCTGGTCTGTAACTGACACTGAGGCGCGAAAGCGTGGGGAGCAAACAGGATTAGATACCCTGGTAGTCCACGCCGTAAACGATGAGTGCTAAGTGTTAGAGGGTTTCCGCCCTTTAGTGCTGAAGTTAACGCATTAAGCACTCCGCCTGGGGAGTACGGCCGCAAGGCTGAAACTCAAAGGAATTGACGGGGGCCCGCACAAGCGGTGGAGCATGTGGTTTAATTCGAAGCAACGCGAAGAACCTTACCAGGTCTTGACATCCTCTGAAAACCCTAGAGATAGGGCTTCTCCTTCGGGAGCAGAGTGACAGGTGGTGCATGGTTGTCGTCAGCTCGTGTCGTGAGATGTTGGGTTAAGTCCCGCAACGAGCGCAACCCTTGATCTTAGTTGCCATCATTAAGTTGGGCACTCTAAGGTGACTGCCGGTGACAAACCGGAGGAAGGTGGGGATGACGTCAAATCATCATGCCCCTTATGACCTGGGCTACACACGTGCTACAATGGACGGTACAAAGAGCTGCAAGACCGCGAGGTGGAGCTAATCTCATAAAACCGTTCTCAGTTCGGATTGTAGGCTGCAACTCGCCTACATGAAGCTGGAATCGCTAGTAATCGCGGATCAGCATGCCGCGGTGAATACGTTCCCGGGCCTTGTACACACCGCCCGTCACACCACGAGAGTTTGTAACACCCGAAGTCGGTGGGGTAACCTTTTTGGAGCCAGCCGCCTAAGGTGGGACAGATGATTGGGGTGAAGTCGTAACA'"
            ]
          },
          "metadata": {
            "tags": []
          },
          "execution_count": 25
        }
      ]
    },
    {
      "cell_type": "code",
      "metadata": {
        "colab": {
          "base_uri": "https://localhost:8080/"
        },
        "id": "LUm64DHVR0hL",
        "outputId": "0ba88935-7aea-4994-c7a1-6c118f26c2e3"
      },
      "source": [
        "type(seq)"
      ],
      "execution_count": null,
      "outputs": [
        {
          "output_type": "execute_result",
          "data": {
            "text/plain": [
              "str"
            ]
          },
          "metadata": {
            "tags": []
          },
          "execution_count": 26
        }
      ]
    },
    {
      "cell_type": "markdown",
      "metadata": {
        "id": "eHCzA3EgFrLd"
      },
      "source": [
        "### Carga desde Biopython"
      ]
    },
    {
      "cell_type": "markdown",
      "metadata": {
        "id": "VFYXZ7_ft08-"
      },
      "source": [
        "Biopython es una librería que recoge utilidades para trabajar con datos biológicos. Algunas de sus utilidades incluyen funciones y clases para trabajar con secuencias, resultados Blast, estructuras de proteínas y árboles filogenéticos.\r\n",
        "\r\n",
        "\r\n",
        "La liga de la documentación es: https://biopython.org/wiki/Documentation\r\n"
      ]
    },
    {
      "cell_type": "markdown",
      "metadata": {
        "id": "HExUvyfet5u5"
      },
      "source": [
        "Para trabajar con este paquete, primero debe instalarse en la nube de trabajo."
      ]
    },
    {
      "cell_type": "code",
      "metadata": {
        "colab": {
          "base_uri": "https://localhost:8080/"
        },
        "id": "94_QnetOJN8c",
        "outputId": "c0bb32c6-0e1a-4061-f85f-35b78f2aa3e4"
      },
      "source": [
        "# Recordemos que para ejecutar comandos de GNU/Linux, debemos hacer usar el signo !\r\n",
        "!pip install biopython"
      ],
      "execution_count": null,
      "outputs": [
        {
          "output_type": "stream",
          "text": [
            "Collecting biopython\n",
            "\u001b[?25l  Downloading https://files.pythonhosted.org/packages/3a/cd/0098eaff841850c01da928c7f509b72fd3e1f51d77b772e24de9e2312471/biopython-1.78-cp37-cp37m-manylinux1_x86_64.whl (2.3MB)\n",
            "\u001b[K     |████████████████████████████████| 2.3MB 5.5MB/s \n",
            "\u001b[?25hRequirement already satisfied: numpy in /usr/local/lib/python3.7/dist-packages (from biopython) (1.19.5)\n",
            "Installing collected packages: biopython\n",
            "Successfully installed biopython-1.78\n"
          ],
          "name": "stdout"
        }
      ]
    },
    {
      "cell_type": "markdown",
      "metadata": {
        "id": "MixH_UNq7vN9"
      },
      "source": [
        "Posteriormente, de confirmar que la instalación ha sido existosa, podemos cargar el paquete de Biopython en nuestro espacio de trabajo."
      ]
    },
    {
      "cell_type": "code",
      "metadata": {
        "id": "G3dvayFDJWDV"
      },
      "source": [
        "from Bio import *\r\n",
        "from Bio import SeqUtils\r\n",
        "from Bio import Seq"
      ],
      "execution_count": null,
      "outputs": []
    },
    {
      "cell_type": "markdown",
      "metadata": {
        "id": "ek8apJ5i8MUI"
      },
      "source": [
        "Existen muchas formas de cargar un paquete en el espacio de trabajo de python, entre ellas algunas de ejemplo:\r\n",
        "\r\n",
        "    import Bio             # Se carga todo el paquete manteniendo la clase como Bio\r\n",
        "    from Bio import Seq    # Se carga alguno de los módulos llamado 'Seq'\r\n",
        "    from Bio import *      # Se carga todo el paquete, los módulos funcionan separadamente"
      ]
    },
    {
      "cell_type": "markdown",
      "metadata": {
        "id": "Dakicc3M9jPX"
      },
      "source": [
        "Imaginemos que tenemos una cadena de texto, la cual queremos interpretar como una secuencia:"
      ]
    },
    {
      "cell_type": "code",
      "metadata": {
        "colab": {
          "base_uri": "https://localhost:8080/"
        },
        "id": "ucSzKr7GJb4R",
        "outputId": "70d33c50-1802-41f1-b43a-b129b70e4a99"
      },
      "source": [
        "# La cadena de texto se lee con el \r\n",
        "my = Seq.Seq('TTT')\r\n",
        "my.reverse_complement()"
      ],
      "execution_count": null,
      "outputs": [
        {
          "output_type": "execute_result",
          "data": {
            "text/plain": [
              "Seq('AAA')"
            ]
          },
          "metadata": {
            "tags": []
          },
          "execution_count": 31
        }
      ]
    },
    {
      "cell_type": "code",
      "metadata": {
        "id": "11KeXPf2SAOa"
      },
      "source": [
        "myseq = Seq.Seq(seq)"
      ],
      "execution_count": null,
      "outputs": []
    },
    {
      "cell_type": "code",
      "metadata": {
        "colab": {
          "base_uri": "https://localhost:8080/"
        },
        "id": "yPMPZ1yPSrzF",
        "outputId": "02af8f38-5ff0-4a44-ccbb-d230dc334434"
      },
      "source": [
        "myseq"
      ],
      "execution_count": null,
      "outputs": [
        {
          "output_type": "execute_result",
          "data": {
            "text/plain": [
              "Seq('TTATTGGAGAGTTTGATCCTGGCTCAGGATGAACGCTGGCGGCGTGCCTAATAC...ACA')"
            ]
          },
          "metadata": {
            "tags": []
          },
          "execution_count": 31
        }
      ]
    },
    {
      "cell_type": "code",
      "metadata": {
        "colab": {
          "base_uri": "https://localhost:8080/"
        },
        "id": "CwTq9_vISjze",
        "outputId": "2cd8aa56-0073-4c86-fbf0-e489ee3e9fb8"
      },
      "source": [
        "type(myseq)"
      ],
      "execution_count": null,
      "outputs": [
        {
          "output_type": "execute_result",
          "data": {
            "text/plain": [
              "Bio.Seq.Seq"
            ]
          },
          "metadata": {
            "tags": []
          },
          "execution_count": 32
        }
      ]
    },
    {
      "cell_type": "code",
      "metadata": {
        "colab": {
          "base_uri": "https://localhost:8080/"
        },
        "id": "rkDvCElESzqw",
        "outputId": "a8aa4a89-a9db-43e6-97d3-0b3555a7b9d6"
      },
      "source": [
        "myseq.complement()"
      ],
      "execution_count": null,
      "outputs": [
        {
          "output_type": "execute_result",
          "data": {
            "text/plain": [
              "Seq('AATAACCTCTCAAACTAGGACCGAGTCCTACTTGCGACCGCCGCACGGATTATG...TGT')"
            ]
          },
          "metadata": {
            "tags": []
          },
          "execution_count": 34
        }
      ]
    },
    {
      "cell_type": "markdown",
      "metadata": {
        "id": "-4ldxpzgBX_5"
      },
      "source": [
        "A partir de aquí, es creado un objeto de clase Seq, en la que "
      ]
    },
    {
      "cell_type": "code",
      "metadata": {
        "colab": {
          "base_uri": "https://localhost:8080/"
        },
        "id": "37tCVTCywNQp",
        "outputId": "0630afdb-add7-471b-f445-1ac629ad7154"
      },
      "source": [
        "my = Seq.Seq('TTGCT')\r\n",
        "print(type(my))\r\n",
        "SeqUtils.GC(my)"
      ],
      "execution_count": null,
      "outputs": [
        {
          "output_type": "stream",
          "text": [
            "<class 'Bio.Seq.Seq'>\n"
          ],
          "name": "stdout"
        },
        {
          "output_type": "execute_result",
          "data": {
            "text/plain": [
              "40.0"
            ]
          },
          "metadata": {
            "tags": []
          },
          "execution_count": 30
        }
      ]
    },
    {
      "cell_type": "code",
      "metadata": {
        "colab": {
          "base_uri": "https://localhost:8080/"
        },
        "id": "BLhcKcy1Tagf",
        "outputId": "f0bd9075-5366-4fba-9a5b-c58b0f83dcca"
      },
      "source": [
        "SeqUtils.GC(myseq)"
      ],
      "execution_count": null,
      "outputs": [
        {
          "output_type": "execute_result",
          "data": {
            "text/plain": [
              "53.24074074074074"
            ]
          },
          "metadata": {
            "tags": []
          },
          "execution_count": 35
        }
      ]
    },
    {
      "cell_type": "markdown",
      "metadata": {
        "id": "eEixN1S4CZMK"
      },
      "source": [
        "Para cargar ahora un archivo, con secuencias fasta podemos hacerlo con el Módulo de `SeqIO`, con este módulo se hacen objetos desde múltiples formatos de archivo bioinformático."
      ]
    },
    {
      "cell_type": "code",
      "metadata": {
        "colab": {
          "base_uri": "https://localhost:8080/"
        },
        "id": "HFqONrx9xHxC",
        "outputId": "0814707b-e771-464b-b35d-781025d06d3f"
      },
      "source": [
        "SeqIO.read('NR_074540.1.fasta','fasta')"
      ],
      "execution_count": null,
      "outputs": [
        {
          "output_type": "execute_result",
          "data": {
            "text/plain": [
              "SeqRecord(seq=Seq('TTATTGGAGAGTTTGATCCTGGCTCAGGATGAACGCTGGCGGCGTGCCTAATAC...ACA'), id='NR_074540.1', name='NR_074540.1', description='NR_074540.1 Bacillus cereus ATCC 14579 16S ribosomal RNA (rrnA), partial sequence', dbxrefs=[])"
            ]
          },
          "metadata": {
            "tags": []
          },
          "execution_count": 32
        }
      ]
    },
    {
      "cell_type": "code",
      "metadata": {
        "id": "DT5B-SkCUAo1"
      },
      "source": [
        "from Bio import SeqIO"
      ],
      "execution_count": null,
      "outputs": []
    },
    {
      "cell_type": "code",
      "metadata": {
        "colab": {
          "base_uri": "https://localhost:8080/"
        },
        "id": "ak9n--UoUHor",
        "outputId": "85cd9a10-683c-408b-db30-52699bd8c53e"
      },
      "source": [
        "SeqIO.read('/content/NR_074540.1.fasta','fasta')"
      ],
      "execution_count": null,
      "outputs": [
        {
          "output_type": "execute_result",
          "data": {
            "text/plain": [
              "SeqRecord(seq=Seq('TTATTGGAGAGTTTGATCCTGGCTCAGGATGAACGCTGGCGGCGTGCCTAATAC...ACA'), id='NR_074540.1', name='NR_074540.1', description='NR_074540.1 Bacillus cereus ATCC 14579 16S ribosomal RNA (rrnA), partial sequence', dbxrefs=[])"
            ]
          },
          "metadata": {
            "tags": []
          },
          "execution_count": 37
        }
      ]
    },
    {
      "cell_type": "code",
      "metadata": {
        "id": "eKxTIh1DUjwn"
      },
      "source": [
        ""
      ],
      "execution_count": null,
      "outputs": []
    },
    {
      "cell_type": "markdown",
      "metadata": {
        "id": "_UIetGC8Crom"
      },
      "source": [
        "Entre algunos formatos compatibles, tenemos archivos:\r\n",
        "- abi\r\n",
        "- clustal\r\n",
        "- embl\r\n",
        "- fastq-illumina\r\n",
        "- fastq\r\n",
        "- genbank\r\n",
        "- nexus\r\n",
        "- pdb\r\n",
        "- phylip\r\n",
        "- sff\r\n",
        "- swiss\r\n",
        "- tab"
      ]
    },
    {
      "cell_type": "code",
      "metadata": {
        "id": "X-VamuJsEslw"
      },
      "source": [
        "multifasta = SeqIO.parse('seqdump-1.fasta','fasta')"
      ],
      "execution_count": null,
      "outputs": []
    },
    {
      "cell_type": "code",
      "metadata": {
        "colab": {
          "base_uri": "https://localhost:8080/"
        },
        "id": "MH8WdHY4VkfV",
        "outputId": "ad5b836f-0f27-4c94-8c0d-37d09542436b"
      },
      "source": [
        "type(multifasta)"
      ],
      "execution_count": null,
      "outputs": [
        {
          "output_type": "execute_result",
          "data": {
            "text/plain": [
              "Bio.SeqIO.FastaIO.FastaIterator"
            ]
          },
          "metadata": {
            "tags": []
          },
          "execution_count": 39
        }
      ]
    },
    {
      "cell_type": "code",
      "metadata": {
        "colab": {
          "base_uri": "https://localhost:8080/"
        },
        "id": "D7GU0abuF4TN",
        "outputId": "e7e05bbd-fc06-4e2c-8d87-82e6484f0dc7"
      },
      "source": [
        "for record in multifasta:\r\n",
        "    print(record)"
      ],
      "execution_count": null,
      "outputs": [
        {
          "output_type": "stream",
          "text": [
            "ID: AY294416.1:838-1122\n",
            "Name: AY294416.1:838-1122\n",
            "Description: AY294416.1:838-1122 Anas platyrhynchos MHC class I antigen alpha chain (Anpl-U) mRNA, Anpl-U*02 allele, complete cds\n",
            "Number of features: 0\n",
            "Seq('ACCAGTGCCGTGTGGAGCATGCCAGCCTGCCCCAGCCCGGCCTCTTCTCGTGGG...TGT')\n",
            "ID: XM_027470515.1:824-1108\n",
            "Name: XM_027470515.1:824-1108\n",
            "Description: XM_027470515.1:824-1108 PREDICTED: Anas platyrhynchos class I histocompatibility antigen, F10 alpha chain-like (LOC101797502), mRNA\n",
            "Number of features: 0\n",
            "Seq('ACCAGTGCCGTGTGGAGCATGCCAGCCTGCCCCAGCCCGGCCTCTTCTCGTGGG...TGT')\n",
            "ID: GU245820.1:796-1080\n",
            "Name: GU245820.1:796-1080\n",
            "Description: GU245820.1:796-1080 Anas platyrhynchos isolate M26.1 MHC class I antigen heavy chain mRNA, partial cds\n",
            "Number of features: 0\n",
            "Seq('ACCAGTGCCGCGTGGAGCATGCCAGCCTGCCCCAGCCCGGCCTCTTCTCGTGGG...TGT')\n",
            "ID: GU245818.1:796-1080\n",
            "Name: GU245818.1:796-1080\n",
            "Description: GU245818.1:796-1080 Anas platyrhynchos isolate M25.3 MHC class I antigen heavy chain mRNA, partial cds\n",
            "Number of features: 0\n",
            "Seq('ACCAGTGCCGCGTGGAGCATGCCAGCCTGCCCCAGCCCGGCCTCTTCTCGTGGG...TGT')\n",
            "ID: AY294417.1:836-1116\n",
            "Name: AY294417.1:836-1116\n",
            "Description: AY294417.1:836-1116 Anas platyrhynchos MHC class I antigen alpha chain (Anpl-U) mRNA, Anpl-U*03 allele, complete cds\n",
            "Number of features: 0\n",
            "Seq('ACCAGTGCCGCGTGGAGCATGCCAGCCTGCCCCAGCCCGGCCTCTTCTCATGGG...ATG')\n",
            "ID: GU245850.1:790-1061\n",
            "Name: GU245850.1:790-1061\n",
            "Description: GU245850.1:790-1061 Anas platyrhynchos isolate M40.2 MHC class I antigen heavy chain mRNA, partial cds\n",
            "Number of features: 0\n",
            "Seq('ACCAGTGCCGCGTGGAGCATGCCAGCCTGCCCCAGCCCGGCCTCTTCTCATGGG...AGA')\n",
            "ID: GU245830.1:796-1067\n",
            "Name: GU245830.1:796-1067\n",
            "Description: GU245830.1:796-1067 Anas platyrhynchos isolate M30.1 MHC class I antigen heavy chain mRNA, partial cds\n",
            "Number of features: 0\n",
            "Seq('ACCAGTGCCGCGTGGAGCATGCCAGCCTGCCCCAGCCCGGCCTCTTCTCGTGGG...AGA')\n",
            "ID: GU245826.1:796-1083\n",
            "Name: GU245826.1:796-1083\n",
            "Description: GU245826.1:796-1083 Anas platyrhynchos isolate M27.4 MHC class I antigen heavy chain mRNA, partial cds\n",
            "Number of features: 0\n",
            "Seq('ACCAGTGCCGTGTGGAGCATGCCAGCCTGCCCCAGCCCGGCCTCTTCTCATGGG...TGT')\n",
            "ID: KX118687.1:824-1065\n",
            "Name: KX118687.1:824-1065\n",
            "Description: KX118687.1:824-1065 Anas platyrhynchos MHC class I antigen (Anpl-UAA) mRNA, Anpl-UAA05*CV allele, complete cds\n",
            "Number of features: 0\n",
            "Seq('ACCAGTGCCGTGTGGAGCATGCCAGCCTGCCCCAGCCCGGCCTCTTCTCGTGGG...TAA')\n",
            "ID: KX118685.1:824-1065\n",
            "Name: KX118685.1:824-1065\n",
            "Description: KX118685.1:824-1065 Anas platyrhynchos MHC class I antigen (Anpl-UAA) mRNA, Anpl-UAA03*CV allele, complete cds\n",
            "Number of features: 0\n",
            "Seq('ACCAGTGCCGTGTGGAGCATGCCAGCCTGCCCCAGCCCGGCCTCTTCTCGTGGG...TAA')\n",
            "ID: KX118684.1:824-1065\n",
            "Name: KX118684.1:824-1065\n",
            "Description: KX118684.1:824-1065 Anas platyrhynchos MHC class I antigen (Anpl-UAA) mRNA, Anpl-UAA02*CV allele, complete cds\n",
            "Number of features: 0\n",
            "Seq('ACCAGTGCCGTGTGGAGCATGCCAGCCTGCCCCAGCCCGGCCTCTTCTCGTGGG...TAA')\n",
            "ID: GU245876.1:861-1141\n",
            "Name: GU245876.1:861-1141\n",
            "Description: GU245876.1:861-1141 Anas platyrhynchos isolate M50.1 MHC class I antigen heavy chain mRNA, partial cds\n",
            "Number of features: 0\n",
            "Seq('ACCAGTGCCGCGTGGAGCACGCCAGCCTGCCCCAGCCCGGCCTCTTCTCATGGG...ATG')\n",
            "ID: GU245842.1:796-1079\n",
            "Name: GU245842.1:796-1079\n",
            "Description: GU245842.1:796-1079 Anas platyrhynchos isolate M35.5 MHC class I antigen heavy chain mRNA, partial cds\n",
            "Number of features: 0\n",
            "Seq('ACCAGTGCCGCGTGGAGCATGCCAGCCTGCCCCAGCCTGGCCTCTTCTCGTGGG...GTG')\n",
            "ID: GU245839.1:796-1079\n",
            "Name: GU245839.1:796-1079\n",
            "Description: GU245839.1:796-1079 Anas platyrhynchos isolate M35.2 MHC class I antigen heavy chain mRNA, partial cds\n",
            "Number of features: 0\n",
            "Seq('ACCAGTGCCGCGTGGAGCATGCCAGCCTGCCCCAGCCTGGCCTCTTCTCGTGGG...GTG')\n",
            "ID: GU245810.1:796-1067\n",
            "Name: GU245810.1:796-1067\n",
            "Description: GU245810.1:796-1067 Anas platyrhynchos isolate M23.5 MHC class I antigen heavy chain mRNA, partial cds\n",
            "Number of features: 0\n",
            "Seq('ACCAGTGCCGTGTGGAACATGCCAGCCTGCCCCAGCCCGGCTTCTTCTCGTGGG...AGA')\n",
            "ID: GU245808.1:796-1067\n",
            "Name: GU245808.1:796-1067\n",
            "Description: GU245808.1:796-1067 Anas platyrhynchos isolate M23.3 MHC class I antigen heavy chain mRNA, partial cds\n",
            "Number of features: 0\n",
            "Seq('ACCAGTGCCGTGTGGAGCATGCCAGCCTGCCCCAGCCCGGCCTCTTCTCATGGG...AGA')\n",
            "ID: GU245794.1:791-1062\n",
            "Name: GU245794.1:791-1062\n",
            "Description: GU245794.1:791-1062 Anas platyrhynchos isolate M19.3 MHC class I antigen heavy chain mRNA, partial cds\n",
            "Number of features: 0\n",
            "Seq('ACCAGTGCCGCGTGGAGCATGCCAGCCTGCCCCAGCCCGGCCTCTTCTCATGGG...AGA')\n",
            "ID: GU245792.1:791-1062\n",
            "Name: GU245792.1:791-1062\n",
            "Description: GU245792.1:791-1062 Anas platyrhynchos isolate M19.1 MHC class I antigen heavy chain mRNA, partial cds\n",
            "Number of features: 0\n",
            "Seq('ACCAGTGCCGCGTGGAGCATGCCAGCCTGCCCCAGCCCGGCCTCTTCTCATGGG...AGA')\n",
            "ID: AB115239.1:416-687\n",
            "Name: AB115239.1:416-687\n",
            "Description: AB115239.1:416-687 Anas platyrhynchos mRNA for MHC class I antigen, partial cds and 3'UTR\n",
            "Number of features: 0\n",
            "Seq('ACCAGTGCCGTGTGGAGCACGCCAGCCTGCCCCAGCCTGGCCTCTTCTCATGGG...AGA')\n",
            "ID: GU245836.1:793-1064\n",
            "Name: GU245836.1:793-1064\n",
            "Description: GU245836.1:793-1064 Anas platyrhynchos isolate M31.5 MHC class I antigen heavy chain mRNA, partial cds\n",
            "Number of features: 0\n",
            "Seq('ACCAGTGCCGCGTGGAGCATGCCAGCCTGCCCCAGCCTGGCCTCTTCTCATGGG...AGA')\n",
            "ID: GU245832.1:792-1063\n",
            "Name: GU245832.1:792-1063\n",
            "Description: GU245832.1:792-1063 Anas platyrhynchos isolate M31.1 MHC class I antigen heavy chain mRNA, partial cds\n",
            "Number of features: 0\n",
            "Seq('ACCAGTGCCGCGTGGAGCATGCCAGCCTGCCCCAGCCTGGCCTCTTCTCATGGG...AGA')\n",
            "ID: GU245831.1:796-1067\n",
            "Name: GU245831.1:796-1067\n",
            "Description: GU245831.1:796-1067 Anas platyrhynchos isolate M30.2 MHC class I antigen heavy chain mRNA, partial cds\n",
            "Number of features: 0\n",
            "Seq('ACCAGTGCCGTGTGGAGCACACCAGCCTGCCCCAGCCCGGCCTCTTCTCATGGG...AGA')\n",
            "ID: GU245809.1:796-1067\n",
            "Name: GU245809.1:796-1067\n",
            "Description: GU245809.1:796-1067 Anas platyrhynchos isolate M23.4 MHC class I antigen heavy chain mRNA, partial cds\n",
            "Number of features: 0\n",
            "Seq('ACCAGTGCCGTGTGGAGCATGCCAGCCTGCCCCAGCCCGGCCTCTTCTCATGGG...AGA')\n",
            "ID: GU245771.1:796-1076\n",
            "Name: GU245771.1:796-1076\n",
            "Description: GU245771.1:796-1076 Anas platyrhynchos isolate M10.1 MHC class I antigen heavy chain mRNA, partial cds\n",
            "Number of features: 0\n",
            "Seq('ACCAGTGCCGCGTGGAGCATGCCAGCCTGCCCCAGCCTGGCCTCTTCTCATGGG...ATG')\n",
            "ID: GU245853.1:790-1074\n",
            "Name: GU245853.1:790-1074\n",
            "Description: GU245853.1:790-1074 Anas platyrhynchos isolate M42.1 MHC class I antigen heavy chain mRNA, partial cds\n",
            "Number of features: 0\n",
            "Seq('ACCAGTGCCGTGTGGAGCATGCCAGCCTGCCCCAGCCCGGCCTCTTCTCATGGG...TGT')\n",
            "ID: GU245865.1:796-1076\n",
            "Name: GU245865.1:796-1076\n",
            "Description: GU245865.1:796-1076 Anas platyrhynchos isolate M46.1 MHC class I antigen heavy chain mRNA, partial cds\n",
            "Number of features: 0\n",
            "Seq('ACCAGTGCCGCGTGGAGCATACCAGCCTGCCCCAGCCTGGCCTCTTCTCATGGG...ATG')\n",
            "ID: XM_032205171.1:836-1119\n",
            "Name: XM_032205171.1:836-1119\n",
            "Description: XM_032205171.1:836-1119 PREDICTED: Aythya fuligula class I histocompatibility antigen, F10 alpha chain-like (LOC116500245), transcript variant X10, mRNA\n",
            "Number of features: 0\n",
            "Seq('ACCAGTGCCGAGTGGAGCATGCCAGCCTGCCCCAGCCCGGCCTCTTCTCATGGG...GTG')\n",
            "ID: XM_032205166.1:1916-2199\n",
            "Name: XM_032205166.1:1916-2199\n",
            "Description: XM_032205166.1:1916-2199 PREDICTED: Aythya fuligula class I histocompatibility antigen, F10 alpha chain-like (LOC116500245), transcript variant X5, mRNA\n",
            "Number of features: 0\n",
            "Seq('ACCAGTGCCGAGTGGAGCATGCCAGCCTGCCCCAGCCCGGCCTCTTCTCATGGG...GTG')\n",
            "ID: XM_032205165.1:1995-2278\n",
            "Name: XM_032205165.1:1995-2278\n",
            "Description: XM_032205165.1:1995-2278 PREDICTED: Aythya fuligula class I histocompatibility antigen, F10 alpha chain-like (LOC116500245), transcript variant X4, mRNA\n",
            "Number of features: 0\n",
            "Seq('ACCAGTGCCGAGTGGAGCATGCCAGCCTGCCCCAGCCCGGCCTCTTCTCATGGG...GTG')\n",
            "ID: XM_032205164.1:1995-2278\n",
            "Name: XM_032205164.1:1995-2278\n",
            "Description: XM_032205164.1:1995-2278 PREDICTED: Aythya fuligula class I histocompatibility antigen, F10 alpha chain-like (LOC116500245), transcript variant X3, mRNA\n",
            "Number of features: 0\n",
            "Seq('ACCAGTGCCGCGTGGAGCATGCCAGCCTGCCCCAGCCCGGCCTCTTCTCATGGG...GTG')\n",
            "ID: XM_032205162.1:1995-2278\n",
            "Name: XM_032205162.1:1995-2278\n",
            "Description: XM_032205162.1:1995-2278 PREDICTED: Aythya fuligula class I histocompatibility antigen, F10 alpha chain-like (LOC116500245), transcript variant X1, mRNA\n",
            "Number of features: 0\n",
            "Seq('ACCAGTGCCGAGTGGAGCATGCCAGCCTGCCCCAGCCCGGCCTCTTCTCATGGG...GTG')\n",
            "ID: GU245866.1:796-1067\n",
            "Name: GU245866.1:796-1067\n",
            "Description: GU245866.1:796-1067 Anas platyrhynchos isolate M46.2 MHC class I antigen heavy chain mRNA, partial cds\n",
            "Number of features: 0\n",
            "Seq('ACCAGTGCCGTGTGGAGCATGCCAGCCTGCCCCAGCCCAGCCTCTTCTCGTGGG...AGA')\n",
            "ID: GU245861.1:796-1067\n",
            "Name: GU245861.1:796-1067\n",
            "Description: GU245861.1:796-1067 Anas platyrhynchos isolate M45.3 MHC class I antigen heavy chain mRNA, partial cds\n",
            "Number of features: 0\n",
            "Seq('ACCAGTGCCGTGTGGAGCATGCCAGCCTGCCCCAGCCCAGCCTCTTCTCGTGGG...AGA')\n",
            "ID: GU245834.1:742-1013\n",
            "Name: GU245834.1:742-1013\n",
            "Description: GU245834.1:742-1013 Anas platyrhynchos isolate M31.3 MHC class I antigen heavy chain mRNA, partial cds\n",
            "Number of features: 0\n",
            "Seq('ACCAGTGCCGCGTGGAGCATGCCAGCCTGCCCCAGCCTGGCCTCTTCTCATGGG...AGA')\n",
            "ID: GU245817.1:796-1067\n",
            "Name: GU245817.1:796-1067\n",
            "Description: GU245817.1:796-1067 Anas platyrhynchos isolate M25.2 MHC class I antigen heavy chain mRNA, partial cds\n",
            "Number of features: 0\n",
            "Seq('ACCAGTGCCGCGTGGAGCATGCCAGCCTGCCCCAGCCCGGCCTCTTCTCGTGGG...AGA')\n",
            "ID: GU245790.1:796-1079\n",
            "Name: GU245790.1:796-1079\n",
            "Description: GU245790.1:796-1079 Anas platyrhynchos isolate M17.3 MHC class I antigen heavy chain mRNA, partial cds\n",
            "Number of features: 0\n",
            "Seq('ACCAGTGCCGCGTGGAGCATGCCAGCCTGCCCCAGCCCGGCCTCTTCTCATGGG...GTG')\n",
            "ID: GU245797.1:796-1064\n",
            "Name: GU245797.1:796-1064\n",
            "Description: GU245797.1:796-1064 Anas platyrhynchos isolate M21.2 MHC class I antigen heavy chain mRNA, partial cds\n",
            "Number of features: 0\n",
            "Seq('ACCAGTGCCGTGTGGAGCATGCCAGCCTGCCCCAGCCCAGCCTCTTCTCGTGGG...AGA')\n",
            "ID: XM_032205170.1:851-1122\n",
            "Name: XM_032205170.1:851-1122\n",
            "Description: XM_032205170.1:851-1122 PREDICTED: Aythya fuligula class I histocompatibility antigen, F10 alpha chain-like (LOC116500245), transcript variant X9, mRNA\n",
            "Number of features: 0\n",
            "Seq('ACCAGTGCCGTGTGGAGCATGCCAGCCTGCCCCAGCCCGGCCTCTTCTCATGGG...AGA')\n",
            "ID: GU245859.2:796-1067\n",
            "Name: GU245859.2:796-1067\n",
            "Description: GU245859.2:796-1067 Anas platyrhynchos isolate M45.1 MHC class I antigen heavy chain mRNA, partial cds\n",
            "Number of features: 0\n",
            "Seq('ACCAGTGCCGTGTGGAACATGCCAGCCTGCCCCAGCCCGGCCTCTTCTCATGGG...AGA')\n",
            "ID: GU245860.1:796-1076\n",
            "Name: GU245860.1:796-1076\n",
            "Description: GU245860.1:796-1076 Anas platyrhynchos isolate M45.2 MHC class I antigen heavy chain mRNA, partial cds\n",
            "Number of features: 0\n",
            "Seq('ACCAGTGCCGCGTGGAGCATGCCAGCCTGCCCCAGCCTGGCCTCTTCTCATGGG...ATG')\n",
            "ID: GU245843.1:796-1079\n",
            "Name: GU245843.1:796-1079\n",
            "Description: GU245843.1:796-1079 Anas platyrhynchos isolate M35.6 MHC class I antigen heavy chain mRNA, partial cds\n",
            "Number of features: 0\n",
            "Seq('ACCAGTGCCGCGTGGAGCATGCCAGTCTGCCCCAGCCCGGCCTCTTCTCATGGG...GTG')\n",
            "ID: GU245841.1:796-1067\n",
            "Name: GU245841.1:796-1067\n",
            "Description: GU245841.1:796-1067 Anas platyrhynchos isolate M35.4 MHC class I antigen heavy chain mRNA, partial cds\n",
            "Number of features: 0\n",
            "Seq('ACCAGTGCCGCGTGGAGCATGCCAGCCTGCCCCAGCCTGGCCTCTTCTCGTGGG...AGA')\n",
            "ID: GU245835.1:796-1067\n",
            "Name: GU245835.1:796-1067\n",
            "Description: GU245835.1:796-1067 Anas platyrhynchos isolate M31.4 MHC class I antigen heavy chain mRNA, partial cds\n",
            "Number of features: 0\n",
            "Seq('ACCAGTGCTGTGTGGAGCATGCCAGCCTGCCCCAGCCTGGCCTCTTCTCGTGGG...AGA')\n",
            "ID: GU245788.1:796-1076\n",
            "Name: GU245788.1:796-1076\n",
            "Description: GU245788.1:796-1076 Anas platyrhynchos isolate M17.1 MHC class I antigen heavy chain mRNA, partial cds\n",
            "Number of features: 0\n",
            "Seq('ACCAGTGCCGTGTGGAGCATGCCAGCCTGCCCCAGCCCGGCCTCTTCTCATGGG...ATG')\n",
            "ID: GU245802.1:796-1076\n",
            "Name: GU245802.1:796-1076\n",
            "Description: GU245802.1:796-1076 Anas platyrhynchos isolate M22.2 MHC class I antigen heavy chain mRNA, partial cds\n",
            "Number of features: 0\n",
            "Seq('ACCAGTGCCGTGTGGAGCATGCCAGCCTGCCCCAGCCCGGCCTCTTCTCATGGG...ATG')\n",
            "ID: GU245793.1:791-1062\n",
            "Name: GU245793.1:791-1062\n",
            "Description: GU245793.1:791-1062 Anas platyrhynchos isolate M19.2 MHC class I antigen heavy chain mRNA, partial cds\n",
            "Number of features: 0\n",
            "Seq('ACCAGTGCCGTGTGGAACATGCCAGCCTGCCCCAGCCCGGCCTCTTCTCATGGG...AGA')\n",
            "ID: XM_032205167.1:1455-1733\n",
            "Name: XM_032205167.1:1455-1733\n",
            "Description: XM_032205167.1:1455-1733 PREDICTED: Aythya fuligula class I histocompatibility antigen, F10 alpha chain-like (LOC116500245), transcript variant X6, mRNA\n",
            "Number of features: 0\n",
            "Seq('ACCAGTGCCGAGTGGAGCATGCCAGCCTGCCCCAGCCCGGCCTCTTCTCATGGG...CCA')\n",
            "ID: GU245774.1:796-1080\n",
            "Name: GU245774.1:796-1080\n",
            "Description: GU245774.1:796-1080 Anas platyrhynchos isolate M12.1 MHC class I antigen heavy chain mRNA, partial cds\n",
            "Number of features: 0\n",
            "Seq('ACCAGTGCCGCGTGGAGCACACCAGCCTGCCACAGCCCGGCCTCTTCTCATGGG...TGT')\n",
            "ID: GU245766.1:796-1080\n",
            "Name: GU245766.1:796-1080\n",
            "Description: GU245766.1:796-1080 Anas platyrhynchos isolate M4.3 MHC class I antigen heavy chain mRNA, partial cds\n",
            "Number of features: 0\n",
            "Seq('ACCAGTGCCGCGTGGAGCACACCAGCCTGCCACAGCCCGGCCTCTTCTCATGGG...TGT')\n",
            "ID: GU245765.1:796-1080\n",
            "Name: GU245765.1:796-1080\n",
            "Description: GU245765.1:796-1080 Anas platyrhynchos isolate M4.2 MHC class I antigen heavy chain mRNA, partial cds\n",
            "Number of features: 0\n",
            "Seq('ACCAGTGCCGCGTGGAGCACACCAGCCTGCCACAGCCCGGCCTCTTCTCATGGG...TGT')\n",
            "ID: XM_032205199.1:868-1139\n",
            "Name: XM_032205199.1:868-1139\n",
            "Description: XM_032205199.1:868-1139 PREDICTED: Aythya fuligula class I histocompatibility antigen, F10 alpha chain-like (LOC116500260), transcript variant X2, mRNA\n",
            "Number of features: 0\n",
            "Seq('ACCAGTGCCGCGTGGAGCATGCCAGCCTGCCCCAGCCCAGCCTCTTCTCATGGG...AGA')\n",
            "ID: AY387653.2:416-699\n",
            "Name: AY387653.2:416-699\n",
            "Description: AY387653.2:416-699 Anser anser isolate G5 MHC class I heavy chain mRNA, partial cds\n",
            "Number of features: 0\n",
            "Seq('ACCAGTGCCGCGTGGAGCACGCCAGCCTGCCCCAGCCCGGCCTCTTCTCATGGG...GTG')\n",
            "ID: GU245862.1:796-1067\n",
            "Name: GU245862.1:796-1067\n",
            "Description: GU245862.1:796-1067 Anas platyrhynchos isolate M45.4 MHC class I antigen heavy chain mRNA, partial cds\n",
            "Number of features: 0\n",
            "Seq('ACCAGTGCCGCGTGGAGCATGCCAGCCTGCCCCAGCCCGGCCTCTTCTCATGGG...AGA')\n",
            "ID: GU245849.1:796-1079\n",
            "Name: GU245849.1:796-1079\n",
            "Description: GU245849.1:796-1079 Anas platyrhynchos isolate M40.1 MHC class I antigen heavy chain mRNA, partial cds\n",
            "Number of features: 0\n",
            "Seq('ACCAGTGTCGTGTGGAGCATGCCAGCCTGCCCCAGCCCGGCCTCTTCTCATGGG...GTG')\n",
            "ID: GU245828.1:796-1076\n",
            "Name: GU245828.1:796-1076\n",
            "Description: GU245828.1:796-1076 Anas platyrhynchos isolate M28.2 MHC class I antigen heavy chain mRNA, partial cds\n",
            "Number of features: 0\n",
            "Seq('ACCAGTGCCGCGTGGAGCATGCCAGCCTGCCCCAGCCCGGCCTCTTCTCATGGG...ATG')\n",
            "ID: GU245798.1:793-1064\n",
            "Name: GU245798.1:793-1064\n",
            "Description: GU245798.1:793-1064 Anas platyrhynchos isolate M21.3 MHC class I antigen heavy chain mRNA, partial cds\n",
            "Number of features: 0\n",
            "Seq('ACCAGTGCTGTGTGGAGCATGCCAGCCTGCCCCAGCCTGGCCTCTTCTCATGGG...AGA')\n",
            "ID: AY841884.1:776-1047\n",
            "Name: AY841884.1:776-1047\n",
            "Description: AY841884.1:776-1047 Anas platyrhynchos MHC class I antigen alpha chain precursor (Anpl-U) mRNA, Anpl-U*09 allele, partial cds\n",
            "Number of features: 0\n",
            "Seq('ACCAGTGCCGTGTGGAGCATGCCAGCCTGCCCCAGCCTGGCCTCTTCTCATGGG...AGA')\n",
            "ID: GU245775.1:796-1064\n",
            "Name: GU245775.1:796-1064\n",
            "Description: GU245775.1:796-1064 Anas platyrhynchos isolate M12.2 MHC class I antigen heavy chain mRNA, partial cds\n",
            "Number of features: 0\n",
            "Seq('ACCAGTGCCACGTGGAGCATGCCAGCCTGCCCCAGCCCGGTCTCTTCTCATGGG...AGA')\n",
            "ID: GU245764.1:796-1080\n",
            "Name: GU245764.1:796-1080\n",
            "Description: GU245764.1:796-1080 Anas platyrhynchos isolate M4.1 MHC class I antigen heavy chain mRNA, partial cds\n",
            "Number of features: 0\n",
            "Seq('ACCAGTGTCGCGTGGAGCACACCAGCCTGCCACAGCCCGGCCTCTTCTCATGGG...TGT')\n",
            "ID: XM_032205174.1:881-1161\n",
            "Name: XM_032205174.1:881-1161\n",
            "Description: XM_032205174.1:881-1161 PREDICTED: Aythya fuligula class I histocompatibility antigen, F10 alpha chain-like (LOC116500245), transcript variant X12, mRNA\n",
            "Number of features: 0\n",
            "Seq('ACCAGTGCCGAGTGGAGCATGCCAGCCTGCCCCAGCCCGGCCTCTTCTCATGGG...ATG')\n",
            "ID: XM_032205168.1:1455-1726\n",
            "Name: XM_032205168.1:1455-1726\n",
            "Description: XM_032205168.1:1455-1726 PREDICTED: Aythya fuligula class I histocompatibility antigen, F10 alpha chain-like (LOC116500245), transcript variant X7, mRNA\n",
            "Number of features: 0\n",
            "Seq('ACCAGTGCCGAGTGGAGCATGCCAGCCTGCCCCAGCCCGGCCTCTTCTCATGGG...AGA')\n",
            "ID: XM_032205163.1:1995-2278\n",
            "Name: XM_032205163.1:1995-2278\n",
            "Description: XM_032205163.1:1995-2278 PREDICTED: Aythya fuligula class I histocompatibility antigen, F10 alpha chain-like (LOC116500245), transcript variant X2, mRNA\n",
            "Number of features: 0\n",
            "Seq('ACCAGTGCCGTGTGGAGCATGCCAGCCTGCCCCAGCCCGGCCTCTTCTCATGGG...GTG')\n",
            "ID: AY294418.1:852-1123\n",
            "Name: AY294418.1:852-1123\n",
            "Description: AY294418.1:852-1123 Anas platyrhynchos MHC class I antigen alpha chain (Anpl-U) mRNA, Anpl-U*04 allele, complete cds\n",
            "Number of features: 0\n",
            "Seq('ACCAGTGCCGTGTGGAGCATGCCAGCCTGCCCCAGCCCGGCCTCTTCTCATGGG...AGA')\n",
            "ID: AY387652.1:824-1107\n",
            "Name: AY387652.1:824-1107\n",
            "Description: AY387652.1:824-1107 Anser anser isolate G5 MHC class I heavy chain mRNA, partial cds\n",
            "Number of features: 0\n",
            "Seq('ACCAGTGCCGCGTGGAGCACGCCAGCCTGCCCCAGCCCGGCCTCTTCTCGTGGG...GTG')\n",
            "ID: GU245821.2:796-1064\n",
            "Name: GU245821.2:796-1064\n",
            "Description: GU245821.2:796-1064 Anas platyrhynchos isolate M26.2 MHC class I antigen heavy chain mRNA, partial cds\n",
            "Number of features: 0\n",
            "Seq('ACCAGTGCCGTGTGGAACATGCCAGCCTGCCCCAGCCCGGCTTCTTCTCGTGGG...AGA')\n",
            "ID: GU245879.1:796-1064\n",
            "Name: GU245879.1:796-1064\n",
            "Description: GU245879.1:796-1064 Anas platyrhynchos isolate M50.4 MHC class I antigen heavy chain mRNA, partial cds\n",
            "Number of features: 0\n",
            "Seq('ACCAGTGCCGTGTGGAACATGCCAGCCTGCCCCAGCCCGGCTTCTTCTCGTGGG...AGA')\n",
            "ID: GU245840.1:796-1064\n",
            "Name: GU245840.1:796-1064\n",
            "Description: GU245840.1:796-1064 Anas platyrhynchos isolate M35.3 MHC class I antigen heavy chain mRNA, partial cds\n",
            "Number of features: 0\n",
            "Seq('ACCAGTGCCGTGTGGAACATGCCAGCCTGCCCCAGCCCGGCTTCTTCTCGTGGG...AGA')\n",
            "ID: GU245823.1:796-1064\n",
            "Name: GU245823.1:796-1064\n",
            "Description: GU245823.1:796-1064 Anas platyrhynchos isolate M27.1 MHC class I antigen heavy chain mRNA, partial cds\n",
            "Number of features: 0\n",
            "Seq('ACCAGTGCCGTGTGGAACATGCCAGCCTGCCCCAGCCCGGCTTCTTCTCGTGGG...AGA')\n",
            "ID: GU245819.1:786-1054\n",
            "Name: GU245819.1:786-1054\n",
            "Description: GU245819.1:786-1054 Anas platyrhynchos isolate M25.4 MHC class I antigen heavy chain mRNA, partial cds\n",
            "Number of features: 0\n",
            "Seq('ACCAGTGCCGTGTGGAACATGCCAGCCTGCCCCAGCCCGGCTTCTTCTCGTGGG...AGA')\n",
            "ID: GU245806.1:796-1064\n",
            "Name: GU245806.1:796-1064\n",
            "Description: GU245806.1:796-1064 Anas platyrhynchos isolate M23.1 MHC class I antigen heavy chain mRNA, partial cds\n",
            "Number of features: 0\n",
            "Seq('ACCAGTGCCGTGTGGAACATGCCAGCCTGCCCCAGCCCGGCTTCTTCTCGTGGG...AGA')\n",
            "ID: GU245805.1:796-1064\n",
            "Name: GU245805.1:796-1064\n",
            "Description: GU245805.1:796-1064 Anas platyrhynchos isolate M22.5 MHC class I antigen heavy chain mRNA, partial cds\n",
            "Number of features: 0\n",
            "Seq('ACCAGTGCCGTGTGGAACATGCCAGCCTGCCCCAGCCCGGCTTCTTCTCGTGGG...AGA')\n",
            "ID: GU245772.1:796-1064\n",
            "Name: GU245772.1:796-1064\n",
            "Description: GU245772.1:796-1064 Anas platyrhynchos isolate M10.2 MHC class I antigen heavy chain mRNA, partial cds\n",
            "Number of features: 0\n",
            "Seq('ACCAGTGCCGTGTGGAACATGCCAGCCTGCCCCAGCCCGGCTTCTTCTCGTGGG...AGA')\n",
            "ID: GU245854.1:796-1067\n",
            "Name: GU245854.1:796-1067\n",
            "Description: GU245854.1:796-1067 Anas platyrhynchos isolate M42.2 MHC class I antigen heavy chain mRNA, partial cds\n",
            "Number of features: 0\n",
            "Seq('ACCAGTGCCGTGTGGAGCACACCAGCCTGCCCCAGCCCGGCCTCTTCTCATGGG...AGA')\n",
            "ID: AY841883.1:776-1047\n",
            "Name: AY841883.1:776-1047\n",
            "Description: AY841883.1:776-1047 Anas platyrhynchos MHC class I antigen alpha chain precursor (Anpl-U) mRNA, Anpl-U*08 allele, partial cds\n",
            "Number of features: 0\n",
            "Seq('ACCAGTGCCGTGTGGAGCATGCCAGCCTGCCCCAGCCCGGCCTCTTCTCATGGG...AGA')\n",
            "ID: AY654899.1:818-1088\n",
            "Name: AY654899.1:818-1088\n",
            "Description: AY654899.1:818-1088 Anser anser MHC class I heavy chain mRNA, partial cds\n",
            "Number of features: 0\n",
            "Seq('ACCAGTGCCGCGTGGAGCATGCCAGCCTGCCCCAGCCTGGCCTCTTCTCGTGGG...CAG')\n",
            "ID: GU245838.1:796-1067\n",
            "Name: GU245838.1:796-1067\n",
            "Description: GU245838.1:796-1067 Anas platyrhynchos isolate M35.1 MHC class I antigen heavy chain mRNA, partial cds\n",
            "Number of features: 0\n",
            "Seq('ACCAGTGCCGCGTGGAGCATGCCAGTCTGCCCCAGCCCGGCCTCTTCTCATGGG...AGA')\n",
            "ID: XM_032205198.1:868-1138\n",
            "Name: XM_032205198.1:868-1138\n",
            "Description: XM_032205198.1:868-1138 PREDICTED: Aythya fuligula class I histocompatibility antigen, F10 alpha chain-like (LOC116500260), transcript variant X1, mRNA\n",
            "Number of features: 0\n",
            "Seq('ACCAGTGCCGCGTGGAGCATGCCAGCCTGCCCCAGCCCAGCCTCTTCTCATGGG...AGA')\n",
            "ID: AF393511.1:825-1094\n",
            "Name: AF393511.1:825-1094\n",
            "Description: AF393511.1:825-1094 Anas platyrhynchos MHC class I antigen alpha chain mRNA, partial cds\n",
            "Number of features: 0\n",
            "Seq('ACCAGTGCCGTGTGGAGCATGCCAGCCTGCCCCAGCCCGGCCTCTTCTCATGGG...CCA')\n",
            "ID: MH218845.1:824-1065\n",
            "Name: MH218845.1:824-1065\n",
            "Description: MH218845.1:824-1065 Anas platyrhynchos MHC class I antigen (Anpl-UAA) mRNA, Anpl-UAA15*SX allele, complete cds\n",
            "Number of features: 0\n",
            "Seq('ACCAGTGCCGTGTGGAGCACGCCAGCCTGCCCCAGCCCGGCCTCTTCTCATGGG...TAA')\n",
            "ID: MH218841.1:824-1065\n",
            "Name: MH218841.1:824-1065\n",
            "Description: MH218841.1:824-1065 Anas platyrhynchos MHC class I antigen (Anpl-UAA) mRNA, Anpl-UAA13*JD allele, complete cds\n",
            "Number of features: 0\n",
            "Seq('ACCAGTGCCGTGTGGAGCACGCCAGCCTGCCCCAGCCTGGCCTCTTCTCGTGGG...TAA')\n",
            "ID: GU245863.1:796-1068\n",
            "Name: GU245863.1:796-1068\n",
            "Description: GU245863.1:796-1068 Anas platyrhynchos isolate M45.5 MHC class I antigen heavy chain mRNA, partial cds\n",
            "Number of features: 0\n",
            "Seq('ACCAGTGCCGTGTGGAACATGCCAGCCTGCCCCAGCCCGGCCTCTTCTCATGGG...AGA')\n",
            "ID: GU245801.1:796-1068\n",
            "Name: GU245801.1:796-1068\n",
            "Description: GU245801.1:796-1068 Anas platyrhynchos isolate M22.1 MHC class I antigen heavy chain mRNA, partial cds\n",
            "Number of features: 0\n",
            "Seq('ACCAGTGCCGTGTGGAACATGCCAGCCTGCCCCAGCCCGGCCTCTTCTCATGGG...AGA')\n",
            "ID: AY387651.1:827-1110\n",
            "Name: AY387651.1:827-1110\n",
            "Description: AY387651.1:827-1110 Anser anser isolate G4 MHC class I heavy chain mRNA, partial cds\n",
            "Number of features: 0\n",
            "Seq('ACCAGTGCCGCGTGGAGCACGCCAGCCTGCCCCAGCCTGGCCTCTTCTCATGGG...GTG')\n",
            "ID: AY387650.1:827-1110\n",
            "Name: AY387650.1:827-1110\n",
            "Description: AY387650.1:827-1110 Anser anser isolate G3 MHC class I heavy chain mRNA, partial cds\n",
            "Number of features: 0\n",
            "Seq('ACCAGTGCCGCGTGGAGCATGCCAGCCTGCCCCAGCCTGGCCTCTTCTCGTGGG...GTG')\n",
            "ID: AB115242.1:824-1065\n",
            "Name: AB115242.1:824-1065\n",
            "Description: AB115242.1:824-1065 Anas platyrhynchos Du2MHC I mRNA for MHC class I antigen, complete cds\n",
            "Number of features: 0\n",
            "Seq('ACCAGTGCCGTGTGGAGCACGCCAGCCTGCCCCAGCCTGGCCTCTTCTCATGGG...TAA')\n",
            "ID: AB115241.1:824-1065\n",
            "Name: AB115241.1:824-1065\n",
            "Description: AB115241.1:824-1065 Anas platyrhynchos Du1Mhc I mRNA for MHC class I antigen, complete cds\n",
            "Number of features: 0\n",
            "Seq('ACCAGTGCCGTGTGGAGCATGCCAGCCTGCCCCAGCCCGGCCTCTTCTCATGGG...TAA')\n",
            "ID: AY841881.1:776-1059\n",
            "Name: AY841881.1:776-1059\n",
            "Description: AY841881.1:776-1059 Anas platyrhynchos MHC class I antigen alpha chain precursor (Anpl-U) mRNA, Anpl-U*06 allele, partial cds\n",
            "Number of features: 0\n",
            "Seq('ACCAGTGCCGTGTGGAGCATGCCAGCCTGCCCCAGCCCGGCCTCTTCTCGTGGG...TGT')\n",
            "ID: MH218837.1:824-1065\n",
            "Name: MH218837.1:824-1065\n",
            "Description: MH218837.1:824-1065 Anas platyrhynchos MHC class I antigen (Anpl-UAA) mRNA, Anpl-UAA11*JD allele, complete cds\n",
            "Number of features: 0\n",
            "Seq('ACCAGTGCCGCGTGGAGCATGCCAGCCTGCCCCAGCCCGGCCTCTTCTCATGGG...TAA')\n",
            "ID: MH218832.1:824-1065\n",
            "Name: MH218832.1:824-1065\n",
            "Description: MH218832.1:824-1065 Anas platyrhynchos MHC class I antigen (Anpl-UAA) mRNA, Anpl-UAA08*JD allele, complete cds\n",
            "Number of features: 0\n",
            "Seq('ACCAGTGCCGTGTGGAGCACGCCAGCCTGCCCCAGCCTGGCCTCTTCTCATGGG...TAA')\n",
            "ID: MH218826.1:824-1065\n",
            "Name: MH218826.1:824-1065\n",
            "Description: MH218826.1:824-1065 Anas platyrhynchos MHC class I antigen (Anpl-UAA) mRNA, Anpl-UAA04*SX allele, complete cds\n",
            "Number of features: 0\n",
            "Seq('ACCAGTGCCGTGTGGAGCACGCCAGCCTGCCCCAGCCTGGCCTCTTCTCATGGG...TAA')\n",
            "ID: MH218824.1:824-1065\n",
            "Name: MH218824.1:824-1065\n",
            "Description: MH218824.1:824-1065 Anas platyrhynchos MHC class I antigen (Anpl-UAA) mRNA, Anpl-UAA03*SX allele, complete cds\n",
            "Number of features: 0\n",
            "Seq('ACCAGTGCCGTGTGGAGCACGCCAGCCTGCCCCAGCCTGGCCTCTTCTCATGGG...TAA')\n",
            "ID: MH218820.1:824-1065\n",
            "Name: MH218820.1:824-1065\n",
            "Description: MH218820.1:824-1065 Anas platyrhynchos MHC class I antigen (Anpl-UAA) mRNA, Anpl-UAA01*JD allele, complete cds\n",
            "Number of features: 0\n",
            "Seq('ACCAGTGCCGCGTGGAGCATGCCAGCCTGCCCCAGCCCGGCCTCTTCTCATGGG...TAA')\n",
            "ID: KX118680.1:824-1065\n",
            "Name: KX118680.1:824-1065\n",
            "Description: KX118680.1:824-1065 Anas platyrhynchos MHC class I antigen (Anpl-UAA) mRNA, Anpl-UAA08*WS allele, complete cds\n",
            "Number of features: 0\n",
            "Seq('ACCAGTGCCGTGTGGAGCACGCCAGCCTGCCCCAGCCTGGCCTCTTCTCATGGG...TAA')\n",
            "ID: KX118676.1:824-1065\n",
            "Name: KX118676.1:824-1065\n",
            "Description: KX118676.1:824-1065 Anas platyrhynchos MHC class I antigen (Anpl-UAA) mRNA, Anpl-UAA04*WS allele, complete cds\n",
            "Number of features: 0\n",
            "Seq('ACCAGTGCCGCGTGGAGCATGCCAGCCTGCCCCAGCCCGGCCTCTTCTCATGGG...TAA')\n",
            "ID: KX118674.1:824-1065\n",
            "Name: KX118674.1:824-1065\n",
            "Description: KX118674.1:824-1065 Anas platyrhynchos MHC class I antigen (Anpl-UAA) mRNA, Anpl-UAA02*WS allele, complete cds\n",
            "Number of features: 0\n",
            "Seq('ACCAGTGCCGCGTGGAGCATGCCAGCCTGCCCCAGCCCGGCCTCTTCTCATGGG...TAA')\n",
            "ID: KX118673.1:824-1065\n",
            "Name: KX118673.1:824-1065\n",
            "Description: KX118673.1:824-1065 Anas platyrhynchos MHC class I antigen (Anpl-UAA) mRNA, Anpl-UAA01*WS allele, complete cds\n",
            "Number of features: 0\n",
            "Seq('ACCAGTGCCGCGTGGAGCATGCCAGCCTGCCCCAGCCCGGCCTCTTCTCATGGG...TAA')\n",
            "ID: GU245799.1:796-1067\n",
            "Name: GU245799.1:796-1067\n",
            "Description: GU245799.1:796-1067 Anas platyrhynchos isolate M21.4 MHC class I antigen heavy chain mRNA, partial cds\n",
            "Number of features: 0\n",
            "Seq('ACCAGTGCCGCGTGGAGCACGCCAGCCTGCCCCAGCCTGGCCTCTTCTCATGGG...AGA')\n",
            "ID: MH218846.1:824-1065\n",
            "Name: MH218846.1:824-1065\n",
            "Description: MH218846.1:824-1065 Anas platyrhynchos MHC class I antigen (Anpl-UAA) mRNA, Anpl-UAA16*SX allele, complete cds\n",
            "Number of features: 0\n",
            "Seq('ACCAGTGCCGTGTGGAGCACGCCAGCCTGCCCCAGCCTGGCCTCTTCTCATGGG...TAA')\n",
            "ID: MH218829.1:824-1065\n",
            "Name: MH218829.1:824-1065\n",
            "Description: MH218829.1:824-1065 Anas platyrhynchos MHC class I antigen (Anpl-UAA) mRNA, Anpl-UAA06*JD allele, complete cds\n",
            "Number of features: 0\n",
            "Seq('ACCAGTGCCGCGTGGAGCATGCCAGCCTGCCCCAGCCTGGCCTCTTCTCATGGG...TAA')\n",
            "ID: MH218827.1:824-1065\n",
            "Name: MH218827.1:824-1065\n",
            "Description: MH218827.1:824-1065 Anas platyrhynchos MHC class I antigen (Anpl-UAA) mRNA, Anpl-UAA05*JD allele, complete cds\n",
            "Number of features: 0\n",
            "Seq('ACCAGTGCCGCGTGGAGCATGCCAGCCTGCCCCAGCCTGGCCTCTTCTCATGGG...TAA')\n"
          ],
          "name": "stdout"
        }
      ]
    },
    {
      "cell_type": "markdown",
      "metadata": {
        "id": "VMVLpX8S4ebT"
      },
      "source": [
        "## Datos de Procesamiento Bioinformático"
      ]
    },
    {
      "cell_type": "markdown",
      "metadata": {
        "id": "gcOsRB9IFz1o"
      },
      "source": [
        "### Estructura del Archivo\r\n",
        "\r\n",
        "Para realizar Tratamientos en la información capturada, para explicar fenómenos, plantear métodos de análisis y generación de interpretaciones sobre esta información, necesitamos primero comprender cómo está estructurada en la mayoría de las veces los archivos que obtenemos como resultado de un programa."
      ]
    },
    {
      "cell_type": "markdown",
      "metadata": {
        "id": "8Skvk4FeF42j"
      },
      "source": [
        "### Carga desde Pandas\r\n",
        "\r\n",
        "Ya hemos visto que pandas es un paquete complejo que es utilizado para cargar información duo-dimensional, es decir: Tablas organizadas por filas y columnas.\r\n",
        "\r\n",
        "En general, todo procesamiento bioinformático pasa en algunas fases por resultados que contienen esta estructura.\r\n",
        "\r\n",
        "De modo que el entrenamiento de uso de Python, sus librerías y algunos elementos requieren en la mayoría de los casos, que tengamos un conocimiento previo de la estuctura del archivo que vamos a utilizar."
      ]
    },
    {
      "cell_type": "code",
      "metadata": {
        "id": "7mIwUKTfKtMe"
      },
      "source": [
        "import pandas"
      ],
      "execution_count": null,
      "outputs": []
    },
    {
      "cell_type": "code",
      "metadata": {
        "colab": {
          "base_uri": "https://localhost:8080/",
          "height": 426
        },
        "id": "DacV4nc1K7a-",
        "outputId": "71cbb59c-d5ae-453b-c88c-bbd56983c6cb"
      },
      "source": [
        "pandas.read_csv('pheno.csv')"
      ],
      "execution_count": null,
      "outputs": [
        {
          "output_type": "execute_result",
          "data": {
            "text/html": [
              "<div>\n",
              "<style scoped>\n",
              "    .dataframe tbody tr th:only-of-type {\n",
              "        vertical-align: middle;\n",
              "    }\n",
              "\n",
              "    .dataframe tbody tr th {\n",
              "        vertical-align: top;\n",
              "    }\n",
              "\n",
              "    .dataframe thead th {\n",
              "        text-align: right;\n",
              "    }\n",
              "</style>\n",
              "<table border=\"1\" class=\"dataframe\">\n",
              "  <thead>\n",
              "    <tr style=\"text-align: right;\">\n",
              "      <th></th>\n",
              "      <th>ids</th>\n",
              "      <th>sample</th>\n",
              "      <th>experiment</th>\n",
              "    </tr>\n",
              "  </thead>\n",
              "  <tbody>\n",
              "    <tr>\n",
              "      <th>0</th>\n",
              "      <td>Sample1_S7_L001</td>\n",
              "      <td>Sample1</td>\n",
              "      <td>control</td>\n",
              "    </tr>\n",
              "    <tr>\n",
              "      <th>1</th>\n",
              "      <td>Sample1_S7_L002</td>\n",
              "      <td>Sample1</td>\n",
              "      <td>control</td>\n",
              "    </tr>\n",
              "    <tr>\n",
              "      <th>2</th>\n",
              "      <td>Sample1_S7_L003</td>\n",
              "      <td>Sample1</td>\n",
              "      <td>control</td>\n",
              "    </tr>\n",
              "    <tr>\n",
              "      <th>3</th>\n",
              "      <td>Sample1_S7_L004</td>\n",
              "      <td>Sample1</td>\n",
              "      <td>control</td>\n",
              "    </tr>\n",
              "    <tr>\n",
              "      <th>4</th>\n",
              "      <td>Sample2_S8_L001</td>\n",
              "      <td>Sample2</td>\n",
              "      <td>initial</td>\n",
              "    </tr>\n",
              "    <tr>\n",
              "      <th>5</th>\n",
              "      <td>Sample2_S8_L002</td>\n",
              "      <td>Sample2</td>\n",
              "      <td>initial</td>\n",
              "    </tr>\n",
              "    <tr>\n",
              "      <th>6</th>\n",
              "      <td>Sample2_S8_L003</td>\n",
              "      <td>Sample2</td>\n",
              "      <td>initial</td>\n",
              "    </tr>\n",
              "    <tr>\n",
              "      <th>7</th>\n",
              "      <td>Sample2_S8_L004</td>\n",
              "      <td>Sample2</td>\n",
              "      <td>initial</td>\n",
              "    </tr>\n",
              "    <tr>\n",
              "      <th>8</th>\n",
              "      <td>Sample3_S12_L001</td>\n",
              "      <td>Sample3</td>\n",
              "      <td>experimental</td>\n",
              "    </tr>\n",
              "    <tr>\n",
              "      <th>9</th>\n",
              "      <td>Sample3_S12_L002</td>\n",
              "      <td>Sample3</td>\n",
              "      <td>experimental</td>\n",
              "    </tr>\n",
              "    <tr>\n",
              "      <th>10</th>\n",
              "      <td>Sample3_S12_L003</td>\n",
              "      <td>Sample3</td>\n",
              "      <td>experimental</td>\n",
              "    </tr>\n",
              "    <tr>\n",
              "      <th>11</th>\n",
              "      <td>Sample3_S12_L004</td>\n",
              "      <td>Sample3</td>\n",
              "      <td>experimental</td>\n",
              "    </tr>\n",
              "  </tbody>\n",
              "</table>\n",
              "</div>"
            ],
            "text/plain": [
              "                 ids   sample    experiment\n",
              "0    Sample1_S7_L001  Sample1       control\n",
              "1    Sample1_S7_L002  Sample1       control\n",
              "2    Sample1_S7_L003  Sample1       control\n",
              "3    Sample1_S7_L004  Sample1       control\n",
              "4    Sample2_S8_L001  Sample2       initial\n",
              "5    Sample2_S8_L002  Sample2       initial\n",
              "6    Sample2_S8_L003  Sample2       initial\n",
              "7    Sample2_S8_L004  Sample2       initial\n",
              "8   Sample3_S12_L001  Sample3  experimental\n",
              "9   Sample3_S12_L002  Sample3  experimental\n",
              "10  Sample3_S12_L003  Sample3  experimental\n",
              "11  Sample3_S12_L004  Sample3  experimental"
            ]
          },
          "metadata": {
            "tags": []
          },
          "execution_count": 49
        }
      ]
    },
    {
      "cell_type": "code",
      "metadata": {
        "colab": {
          "base_uri": "https://localhost:8080/",
          "height": 424
        },
        "id": "EB0RZQ85KwVI",
        "outputId": "46f550c4-d2a2-4a0b-b6a2-7af68b2615ff"
      },
      "source": [
        "pandas.read_csv('result_diff.txt',sep='\\t')"
      ],
      "execution_count": null,
      "outputs": [
        {
          "output_type": "execute_result",
          "data": {
            "text/html": [
              "<div>\n",
              "<style scoped>\n",
              "    .dataframe tbody tr th:only-of-type {\n",
              "        vertical-align: middle;\n",
              "    }\n",
              "\n",
              "    .dataframe tbody tr th {\n",
              "        vertical-align: top;\n",
              "    }\n",
              "\n",
              "    .dataframe thead th {\n",
              "        text-align: right;\n",
              "    }\n",
              "</style>\n",
              "<table border=\"1\" class=\"dataframe\">\n",
              "  <thead>\n",
              "    <tr style=\"text-align: right;\">\n",
              "      <th></th>\n",
              "      <th>feature</th>\n",
              "      <th>id</th>\n",
              "      <th>fc</th>\n",
              "      <th>pval</th>\n",
              "      <th>qval</th>\n",
              "      <th>stat</th>\n",
              "      <th>log2fc</th>\n",
              "      <th>log10qvalue</th>\n",
              "    </tr>\n",
              "  </thead>\n",
              "  <tbody>\n",
              "    <tr>\n",
              "      <th>0</th>\n",
              "      <td>gene</td>\n",
              "      <td>MSTRG.1</td>\n",
              "      <td>11.331181</td>\n",
              "      <td>0.012472</td>\n",
              "      <td>0.019076</td>\n",
              "      <td>False</td>\n",
              "      <td>3.502226</td>\n",
              "      <td>1.719502</td>\n",
              "    </tr>\n",
              "    <tr>\n",
              "      <th>1</th>\n",
              "      <td>gene</td>\n",
              "      <td>MSTRG.10</td>\n",
              "      <td>47.491986</td>\n",
              "      <td>0.000159</td>\n",
              "      <td>0.000405</td>\n",
              "      <td>True</td>\n",
              "      <td>5.569612</td>\n",
              "      <td>3.392031</td>\n",
              "    </tr>\n",
              "    <tr>\n",
              "      <th>2</th>\n",
              "      <td>gene</td>\n",
              "      <td>MSTRG.100</td>\n",
              "      <td>0.333927</td>\n",
              "      <td>0.518996</td>\n",
              "      <td>0.549788</td>\n",
              "      <td>False</td>\n",
              "      <td>-1.582395</td>\n",
              "      <td>0.259804</td>\n",
              "    </tr>\n",
              "    <tr>\n",
              "      <th>3</th>\n",
              "      <td>gene</td>\n",
              "      <td>MSTRG.101</td>\n",
              "      <td>0.001544</td>\n",
              "      <td>0.000573</td>\n",
              "      <td>0.001304</td>\n",
              "      <td>True</td>\n",
              "      <td>-9.338667</td>\n",
              "      <td>2.884757</td>\n",
              "    </tr>\n",
              "    <tr>\n",
              "      <th>4</th>\n",
              "      <td>gene</td>\n",
              "      <td>MSTRG.102</td>\n",
              "      <td>0.000843</td>\n",
              "      <td>0.000061</td>\n",
              "      <td>0.000176</td>\n",
              "      <td>True</td>\n",
              "      <td>-10.212815</td>\n",
              "      <td>3.754777</td>\n",
              "    </tr>\n",
              "    <tr>\n",
              "      <th>...</th>\n",
              "      <td>...</td>\n",
              "      <td>...</td>\n",
              "      <td>...</td>\n",
              "      <td>...</td>\n",
              "      <td>...</td>\n",
              "      <td>...</td>\n",
              "      <td>...</td>\n",
              "      <td>...</td>\n",
              "    </tr>\n",
              "    <tr>\n",
              "      <th>977</th>\n",
              "      <td>gene</td>\n",
              "      <td>MSTRG.98</td>\n",
              "      <td>20.236941</td>\n",
              "      <td>0.069007</td>\n",
              "      <td>0.089164</td>\n",
              "      <td>False</td>\n",
              "      <td>4.338919</td>\n",
              "      <td>1.049811</td>\n",
              "    </tr>\n",
              "    <tr>\n",
              "      <th>978</th>\n",
              "      <td>gene</td>\n",
              "      <td>MSTRG.980</td>\n",
              "      <td>5.755419</td>\n",
              "      <td>0.245518</td>\n",
              "      <td>0.279372</td>\n",
              "      <td>False</td>\n",
              "      <td>2.524921</td>\n",
              "      <td>0.553816</td>\n",
              "    </tr>\n",
              "    <tr>\n",
              "      <th>979</th>\n",
              "      <td>gene</td>\n",
              "      <td>MSTRG.981</td>\n",
              "      <td>19.113703</td>\n",
              "      <td>0.000019</td>\n",
              "      <td>0.000061</td>\n",
              "      <td>True</td>\n",
              "      <td>4.256535</td>\n",
              "      <td>4.213357</td>\n",
              "    </tr>\n",
              "    <tr>\n",
              "      <th>980</th>\n",
              "      <td>gene</td>\n",
              "      <td>MSTRG.982</td>\n",
              "      <td>10.988142</td>\n",
              "      <td>0.000033</td>\n",
              "      <td>0.000100</td>\n",
              "      <td>True</td>\n",
              "      <td>3.457876</td>\n",
              "      <td>3.999295</td>\n",
              "    </tr>\n",
              "    <tr>\n",
              "      <th>981</th>\n",
              "      <td>gene</td>\n",
              "      <td>MSTRG.99</td>\n",
              "      <td>30.406467</td>\n",
              "      <td>0.000012</td>\n",
              "      <td>0.000040</td>\n",
              "      <td>True</td>\n",
              "      <td>4.926306</td>\n",
              "      <td>4.394471</td>\n",
              "    </tr>\n",
              "  </tbody>\n",
              "</table>\n",
              "<p>982 rows × 8 columns</p>\n",
              "</div>"
            ],
            "text/plain": [
              "    feature         id         fc  ...   stat     log2fc  log10qvalue\n",
              "0      gene    MSTRG.1  11.331181  ...  False   3.502226     1.719502\n",
              "1      gene   MSTRG.10  47.491986  ...   True   5.569612     3.392031\n",
              "2      gene  MSTRG.100   0.333927  ...  False  -1.582395     0.259804\n",
              "3      gene  MSTRG.101   0.001544  ...   True  -9.338667     2.884757\n",
              "4      gene  MSTRG.102   0.000843  ...   True -10.212815     3.754777\n",
              "..      ...        ...        ...  ...    ...        ...          ...\n",
              "977    gene   MSTRG.98  20.236941  ...  False   4.338919     1.049811\n",
              "978    gene  MSTRG.980   5.755419  ...  False   2.524921     0.553816\n",
              "979    gene  MSTRG.981  19.113703  ...   True   4.256535     4.213357\n",
              "980    gene  MSTRG.982  10.988142  ...   True   3.457876     3.999295\n",
              "981    gene   MSTRG.99  30.406467  ...   True   4.926306     4.394471\n",
              "\n",
              "[982 rows x 8 columns]"
            ]
          },
          "metadata": {
            "tags": []
          },
          "execution_count": 47
        }
      ]
    },
    {
      "cell_type": "code",
      "metadata": {
        "colab": {
          "base_uri": "https://localhost:8080/",
          "height": 1000
        },
        "id": "7c7Rjx2gLWJk",
        "outputId": "351706da-0cb8-45c0-8262-a62eab3b1b0b"
      },
      "source": [
        "pandas.read_csv('NC_045512.gff3',sep='\\t',comment='#',header=None)"
      ],
      "execution_count": null,
      "outputs": [
        {
          "output_type": "execute_result",
          "data": {
            "text/html": [
              "<div>\n",
              "<style scoped>\n",
              "    .dataframe tbody tr th:only-of-type {\n",
              "        vertical-align: middle;\n",
              "    }\n",
              "\n",
              "    .dataframe tbody tr th {\n",
              "        vertical-align: top;\n",
              "    }\n",
              "\n",
              "    .dataframe thead th {\n",
              "        text-align: right;\n",
              "    }\n",
              "</style>\n",
              "<table border=\"1\" class=\"dataframe\">\n",
              "  <thead>\n",
              "    <tr style=\"text-align: right;\">\n",
              "      <th></th>\n",
              "      <th>0</th>\n",
              "      <th>1</th>\n",
              "      <th>2</th>\n",
              "      <th>3</th>\n",
              "      <th>4</th>\n",
              "      <th>5</th>\n",
              "      <th>6</th>\n",
              "      <th>7</th>\n",
              "      <th>8</th>\n",
              "    </tr>\n",
              "  </thead>\n",
              "  <tbody>\n",
              "    <tr>\n",
              "      <th>0</th>\n",
              "      <td>NC_045512.2</td>\n",
              "      <td>RefSeq</td>\n",
              "      <td>region</td>\n",
              "      <td>1</td>\n",
              "      <td>29903</td>\n",
              "      <td>.</td>\n",
              "      <td>+</td>\n",
              "      <td>.</td>\n",
              "      <td>ID=NC_045512.2:1..29903;Dbxref=taxon:2697049;c...</td>\n",
              "    </tr>\n",
              "    <tr>\n",
              "      <th>1</th>\n",
              "      <td>NC_045512.2</td>\n",
              "      <td>RefSeq</td>\n",
              "      <td>five_prime_UTR</td>\n",
              "      <td>1</td>\n",
              "      <td>265</td>\n",
              "      <td>.</td>\n",
              "      <td>+</td>\n",
              "      <td>.</td>\n",
              "      <td>ID=id-NC_045512.2:1..265;gbkey=5'UTR</td>\n",
              "    </tr>\n",
              "    <tr>\n",
              "      <th>2</th>\n",
              "      <td>NC_045512.2</td>\n",
              "      <td>RefSeq</td>\n",
              "      <td>gene</td>\n",
              "      <td>266</td>\n",
              "      <td>21555</td>\n",
              "      <td>.</td>\n",
              "      <td>+</td>\n",
              "      <td>.</td>\n",
              "      <td>ID=gene-GU280_gp01;Dbxref=GeneID:43740578;Name...</td>\n",
              "    </tr>\n",
              "    <tr>\n",
              "      <th>3</th>\n",
              "      <td>NC_045512.2</td>\n",
              "      <td>RefSeq</td>\n",
              "      <td>CDS</td>\n",
              "      <td>266</td>\n",
              "      <td>13468</td>\n",
              "      <td>.</td>\n",
              "      <td>+</td>\n",
              "      <td>0</td>\n",
              "      <td>ID=cds-YP_009724389.1;Parent=gene-GU280_gp01;D...</td>\n",
              "    </tr>\n",
              "    <tr>\n",
              "      <th>4</th>\n",
              "      <td>NC_045512.2</td>\n",
              "      <td>RefSeq</td>\n",
              "      <td>CDS</td>\n",
              "      <td>13468</td>\n",
              "      <td>21555</td>\n",
              "      <td>.</td>\n",
              "      <td>+</td>\n",
              "      <td>0</td>\n",
              "      <td>ID=cds-YP_009724389.1;Parent=gene-GU280_gp01;D...</td>\n",
              "    </tr>\n",
              "    <tr>\n",
              "      <th>5</th>\n",
              "      <td>NC_045512.2</td>\n",
              "      <td>RefSeq</td>\n",
              "      <td>mature_protein_region_of_CDS</td>\n",
              "      <td>266</td>\n",
              "      <td>805</td>\n",
              "      <td>.</td>\n",
              "      <td>+</td>\n",
              "      <td>.</td>\n",
              "      <td>ID=id-YP_009724389.1:1..180;Note=nsp1%3B produ...</td>\n",
              "    </tr>\n",
              "    <tr>\n",
              "      <th>6</th>\n",
              "      <td>NC_045512.2</td>\n",
              "      <td>RefSeq</td>\n",
              "      <td>mature_protein_region_of_CDS</td>\n",
              "      <td>806</td>\n",
              "      <td>2719</td>\n",
              "      <td>.</td>\n",
              "      <td>+</td>\n",
              "      <td>.</td>\n",
              "      <td>ID=id-YP_009724389.1:181..818;Note=produced by...</td>\n",
              "    </tr>\n",
              "    <tr>\n",
              "      <th>7</th>\n",
              "      <td>NC_045512.2</td>\n",
              "      <td>RefSeq</td>\n",
              "      <td>mature_protein_region_of_CDS</td>\n",
              "      <td>2720</td>\n",
              "      <td>8554</td>\n",
              "      <td>.</td>\n",
              "      <td>+</td>\n",
              "      <td>.</td>\n",
              "      <td>ID=id-YP_009724389.1:819..2763;Note=former nsp...</td>\n",
              "    </tr>\n",
              "    <tr>\n",
              "      <th>8</th>\n",
              "      <td>NC_045512.2</td>\n",
              "      <td>RefSeq</td>\n",
              "      <td>mature_protein_region_of_CDS</td>\n",
              "      <td>8555</td>\n",
              "      <td>10054</td>\n",
              "      <td>.</td>\n",
              "      <td>+</td>\n",
              "      <td>.</td>\n",
              "      <td>ID=id-YP_009724389.1:2764..3263;Note=nsp4B_TM%...</td>\n",
              "    </tr>\n",
              "    <tr>\n",
              "      <th>9</th>\n",
              "      <td>NC_045512.2</td>\n",
              "      <td>RefSeq</td>\n",
              "      <td>mature_protein_region_of_CDS</td>\n",
              "      <td>10055</td>\n",
              "      <td>10972</td>\n",
              "      <td>.</td>\n",
              "      <td>+</td>\n",
              "      <td>.</td>\n",
              "      <td>ID=id-YP_009724389.1:3264..3569;Note=nsp5A_3CL...</td>\n",
              "    </tr>\n",
              "    <tr>\n",
              "      <th>10</th>\n",
              "      <td>NC_045512.2</td>\n",
              "      <td>RefSeq</td>\n",
              "      <td>mature_protein_region_of_CDS</td>\n",
              "      <td>10973</td>\n",
              "      <td>11842</td>\n",
              "      <td>.</td>\n",
              "      <td>+</td>\n",
              "      <td>.</td>\n",
              "      <td>ID=id-YP_009724389.1:3570..3859;Note=nsp6_TM%3...</td>\n",
              "    </tr>\n",
              "    <tr>\n",
              "      <th>11</th>\n",
              "      <td>NC_045512.2</td>\n",
              "      <td>RefSeq</td>\n",
              "      <td>mature_protein_region_of_CDS</td>\n",
              "      <td>11843</td>\n",
              "      <td>12091</td>\n",
              "      <td>.</td>\n",
              "      <td>+</td>\n",
              "      <td>.</td>\n",
              "      <td>ID=id-YP_009724389.1:3860..3942;Note=produced ...</td>\n",
              "    </tr>\n",
              "    <tr>\n",
              "      <th>12</th>\n",
              "      <td>NC_045512.2</td>\n",
              "      <td>RefSeq</td>\n",
              "      <td>mature_protein_region_of_CDS</td>\n",
              "      <td>12092</td>\n",
              "      <td>12685</td>\n",
              "      <td>.</td>\n",
              "      <td>+</td>\n",
              "      <td>.</td>\n",
              "      <td>ID=id-YP_009724389.1:3943..4140;Note=produced ...</td>\n",
              "    </tr>\n",
              "    <tr>\n",
              "      <th>13</th>\n",
              "      <td>NC_045512.2</td>\n",
              "      <td>RefSeq</td>\n",
              "      <td>mature_protein_region_of_CDS</td>\n",
              "      <td>12686</td>\n",
              "      <td>13024</td>\n",
              "      <td>.</td>\n",
              "      <td>+</td>\n",
              "      <td>.</td>\n",
              "      <td>ID=id-YP_009724389.1:4141..4253;Note=ssRNA-bin...</td>\n",
              "    </tr>\n",
              "    <tr>\n",
              "      <th>14</th>\n",
              "      <td>NC_045512.2</td>\n",
              "      <td>RefSeq</td>\n",
              "      <td>mature_protein_region_of_CDS</td>\n",
              "      <td>13025</td>\n",
              "      <td>13441</td>\n",
              "      <td>.</td>\n",
              "      <td>+</td>\n",
              "      <td>.</td>\n",
              "      <td>ID=id-YP_009724389.1:4254..4392;Note=nsp10_Cys...</td>\n",
              "    </tr>\n",
              "    <tr>\n",
              "      <th>15</th>\n",
              "      <td>NC_045512.2</td>\n",
              "      <td>RefSeq</td>\n",
              "      <td>mature_protein_region_of_CDS</td>\n",
              "      <td>13442</td>\n",
              "      <td>13468</td>\n",
              "      <td>.</td>\n",
              "      <td>+</td>\n",
              "      <td>.</td>\n",
              "      <td>ID=id-YP_009724389.1:4393..5324;Note=nsp12%3B ...</td>\n",
              "    </tr>\n",
              "    <tr>\n",
              "      <th>16</th>\n",
              "      <td>NC_045512.2</td>\n",
              "      <td>RefSeq</td>\n",
              "      <td>mature_protein_region_of_CDS</td>\n",
              "      <td>13468</td>\n",
              "      <td>16236</td>\n",
              "      <td>.</td>\n",
              "      <td>+</td>\n",
              "      <td>.</td>\n",
              "      <td>ID=id-YP_009724389.1:4393..5324;Note=nsp12%3B ...</td>\n",
              "    </tr>\n",
              "    <tr>\n",
              "      <th>17</th>\n",
              "      <td>NC_045512.2</td>\n",
              "      <td>RefSeq</td>\n",
              "      <td>mature_protein_region_of_CDS</td>\n",
              "      <td>16237</td>\n",
              "      <td>18039</td>\n",
              "      <td>.</td>\n",
              "      <td>+</td>\n",
              "      <td>.</td>\n",
              "      <td>ID=id-YP_009724389.1:5325..5925;Note=nsp13_ZBD...</td>\n",
              "    </tr>\n",
              "    <tr>\n",
              "      <th>18</th>\n",
              "      <td>NC_045512.2</td>\n",
              "      <td>RefSeq</td>\n",
              "      <td>mature_protein_region_of_CDS</td>\n",
              "      <td>18040</td>\n",
              "      <td>19620</td>\n",
              "      <td>.</td>\n",
              "      <td>+</td>\n",
              "      <td>.</td>\n",
              "      <td>ID=id-YP_009724389.1:5926..6452;Note=nsp14A2_E...</td>\n",
              "    </tr>\n",
              "    <tr>\n",
              "      <th>19</th>\n",
              "      <td>NC_045512.2</td>\n",
              "      <td>RefSeq</td>\n",
              "      <td>mature_protein_region_of_CDS</td>\n",
              "      <td>19621</td>\n",
              "      <td>20658</td>\n",
              "      <td>.</td>\n",
              "      <td>+</td>\n",
              "      <td>.</td>\n",
              "      <td>ID=id-YP_009724389.1:6453..6798;Note=nsp15-A1 ...</td>\n",
              "    </tr>\n",
              "    <tr>\n",
              "      <th>20</th>\n",
              "      <td>NC_045512.2</td>\n",
              "      <td>RefSeq</td>\n",
              "      <td>mature_protein_region_of_CDS</td>\n",
              "      <td>20659</td>\n",
              "      <td>21552</td>\n",
              "      <td>.</td>\n",
              "      <td>+</td>\n",
              "      <td>.</td>\n",
              "      <td>ID=id-YP_009724389.1:6799..7096;Note=nsp16_OMT...</td>\n",
              "    </tr>\n",
              "    <tr>\n",
              "      <th>21</th>\n",
              "      <td>NC_045512.2</td>\n",
              "      <td>RefSeq</td>\n",
              "      <td>CDS</td>\n",
              "      <td>266</td>\n",
              "      <td>13483</td>\n",
              "      <td>.</td>\n",
              "      <td>+</td>\n",
              "      <td>0</td>\n",
              "      <td>ID=cds-YP_009725295.1;Parent=gene-GU280_gp01;D...</td>\n",
              "    </tr>\n",
              "    <tr>\n",
              "      <th>22</th>\n",
              "      <td>NC_045512.2</td>\n",
              "      <td>RefSeq</td>\n",
              "      <td>mature_protein_region_of_CDS</td>\n",
              "      <td>266</td>\n",
              "      <td>805</td>\n",
              "      <td>.</td>\n",
              "      <td>+</td>\n",
              "      <td>.</td>\n",
              "      <td>ID=id-YP_009725295.1:1..180;Note=nsp1%3B produ...</td>\n",
              "    </tr>\n",
              "    <tr>\n",
              "      <th>23</th>\n",
              "      <td>NC_045512.2</td>\n",
              "      <td>RefSeq</td>\n",
              "      <td>mature_protein_region_of_CDS</td>\n",
              "      <td>806</td>\n",
              "      <td>2719</td>\n",
              "      <td>.</td>\n",
              "      <td>+</td>\n",
              "      <td>.</td>\n",
              "      <td>ID=id-YP_009725295.1:181..818;Note=produced by...</td>\n",
              "    </tr>\n",
              "    <tr>\n",
              "      <th>24</th>\n",
              "      <td>NC_045512.2</td>\n",
              "      <td>RefSeq</td>\n",
              "      <td>mature_protein_region_of_CDS</td>\n",
              "      <td>2720</td>\n",
              "      <td>8554</td>\n",
              "      <td>.</td>\n",
              "      <td>+</td>\n",
              "      <td>.</td>\n",
              "      <td>ID=id-YP_009725295.1:819..2763;Note=former nsp...</td>\n",
              "    </tr>\n",
              "    <tr>\n",
              "      <th>25</th>\n",
              "      <td>NC_045512.2</td>\n",
              "      <td>RefSeq</td>\n",
              "      <td>mature_protein_region_of_CDS</td>\n",
              "      <td>8555</td>\n",
              "      <td>10054</td>\n",
              "      <td>.</td>\n",
              "      <td>+</td>\n",
              "      <td>.</td>\n",
              "      <td>ID=id-YP_009725295.1:2764..3263;Note=nsp4B_TM%...</td>\n",
              "    </tr>\n",
              "    <tr>\n",
              "      <th>26</th>\n",
              "      <td>NC_045512.2</td>\n",
              "      <td>RefSeq</td>\n",
              "      <td>mature_protein_region_of_CDS</td>\n",
              "      <td>10055</td>\n",
              "      <td>10972</td>\n",
              "      <td>.</td>\n",
              "      <td>+</td>\n",
              "      <td>.</td>\n",
              "      <td>ID=id-YP_009725295.1:3264..3569;Note=nsp5A_3CL...</td>\n",
              "    </tr>\n",
              "    <tr>\n",
              "      <th>27</th>\n",
              "      <td>NC_045512.2</td>\n",
              "      <td>RefSeq</td>\n",
              "      <td>mature_protein_region_of_CDS</td>\n",
              "      <td>10973</td>\n",
              "      <td>11842</td>\n",
              "      <td>.</td>\n",
              "      <td>+</td>\n",
              "      <td>.</td>\n",
              "      <td>ID=id-YP_009725295.1:3570..3859;Note=nsp6_TM%3...</td>\n",
              "    </tr>\n",
              "    <tr>\n",
              "      <th>28</th>\n",
              "      <td>NC_045512.2</td>\n",
              "      <td>RefSeq</td>\n",
              "      <td>mature_protein_region_of_CDS</td>\n",
              "      <td>11843</td>\n",
              "      <td>12091</td>\n",
              "      <td>.</td>\n",
              "      <td>+</td>\n",
              "      <td>.</td>\n",
              "      <td>ID=id-YP_009725295.1:3860..3942;Note=produced ...</td>\n",
              "    </tr>\n",
              "    <tr>\n",
              "      <th>29</th>\n",
              "      <td>NC_045512.2</td>\n",
              "      <td>RefSeq</td>\n",
              "      <td>mature_protein_region_of_CDS</td>\n",
              "      <td>12092</td>\n",
              "      <td>12685</td>\n",
              "      <td>.</td>\n",
              "      <td>+</td>\n",
              "      <td>.</td>\n",
              "      <td>ID=id-YP_009725295.1:3943..4140;Note=produced ...</td>\n",
              "    </tr>\n",
              "    <tr>\n",
              "      <th>30</th>\n",
              "      <td>NC_045512.2</td>\n",
              "      <td>RefSeq</td>\n",
              "      <td>mature_protein_region_of_CDS</td>\n",
              "      <td>12686</td>\n",
              "      <td>13024</td>\n",
              "      <td>.</td>\n",
              "      <td>+</td>\n",
              "      <td>.</td>\n",
              "      <td>ID=id-YP_009725295.1:4141..4253;Note=ssRNA-bin...</td>\n",
              "    </tr>\n",
              "    <tr>\n",
              "      <th>31</th>\n",
              "      <td>NC_045512.2</td>\n",
              "      <td>RefSeq</td>\n",
              "      <td>mature_protein_region_of_CDS</td>\n",
              "      <td>13025</td>\n",
              "      <td>13441</td>\n",
              "      <td>.</td>\n",
              "      <td>+</td>\n",
              "      <td>.</td>\n",
              "      <td>ID=id-YP_009725295.1:4254..4392;Note=nsp10_Cys...</td>\n",
              "    </tr>\n",
              "    <tr>\n",
              "      <th>32</th>\n",
              "      <td>NC_045512.2</td>\n",
              "      <td>RefSeq</td>\n",
              "      <td>mature_protein_region_of_CDS</td>\n",
              "      <td>13442</td>\n",
              "      <td>13480</td>\n",
              "      <td>.</td>\n",
              "      <td>+</td>\n",
              "      <td>.</td>\n",
              "      <td>ID=id-YP_009725295.1:4393..4405;Note=produced ...</td>\n",
              "    </tr>\n",
              "    <tr>\n",
              "      <th>33</th>\n",
              "      <td>NC_045512.2</td>\n",
              "      <td>RefSeq</td>\n",
              "      <td>stem_loop</td>\n",
              "      <td>13476</td>\n",
              "      <td>13503</td>\n",
              "      <td>.</td>\n",
              "      <td>+</td>\n",
              "      <td>.</td>\n",
              "      <td>ID=id-GU280_gp01;Dbxref=GeneID:43740578;functi...</td>\n",
              "    </tr>\n",
              "    <tr>\n",
              "      <th>34</th>\n",
              "      <td>NC_045512.2</td>\n",
              "      <td>RefSeq</td>\n",
              "      <td>stem_loop</td>\n",
              "      <td>13488</td>\n",
              "      <td>13542</td>\n",
              "      <td>.</td>\n",
              "      <td>+</td>\n",
              "      <td>.</td>\n",
              "      <td>ID=id-GU280_gp01-2;Dbxref=GeneID:43740578;func...</td>\n",
              "    </tr>\n",
              "    <tr>\n",
              "      <th>35</th>\n",
              "      <td>NC_045512.2</td>\n",
              "      <td>RefSeq</td>\n",
              "      <td>gene</td>\n",
              "      <td>21563</td>\n",
              "      <td>25384</td>\n",
              "      <td>.</td>\n",
              "      <td>+</td>\n",
              "      <td>.</td>\n",
              "      <td>ID=gene-GU280_gp02;Dbxref=GeneID:43740568;Name...</td>\n",
              "    </tr>\n",
              "    <tr>\n",
              "      <th>36</th>\n",
              "      <td>NC_045512.2</td>\n",
              "      <td>RefSeq</td>\n",
              "      <td>CDS</td>\n",
              "      <td>21563</td>\n",
              "      <td>25384</td>\n",
              "      <td>.</td>\n",
              "      <td>+</td>\n",
              "      <td>0</td>\n",
              "      <td>ID=cds-YP_009724390.1;Parent=gene-GU280_gp02;D...</td>\n",
              "    </tr>\n",
              "    <tr>\n",
              "      <th>37</th>\n",
              "      <td>NC_045512.2</td>\n",
              "      <td>RefSeq</td>\n",
              "      <td>gene</td>\n",
              "      <td>25393</td>\n",
              "      <td>26220</td>\n",
              "      <td>.</td>\n",
              "      <td>+</td>\n",
              "      <td>.</td>\n",
              "      <td>ID=gene-GU280_gp03;Dbxref=GeneID:43740569;Name...</td>\n",
              "    </tr>\n",
              "    <tr>\n",
              "      <th>38</th>\n",
              "      <td>NC_045512.2</td>\n",
              "      <td>RefSeq</td>\n",
              "      <td>CDS</td>\n",
              "      <td>25393</td>\n",
              "      <td>26220</td>\n",
              "      <td>.</td>\n",
              "      <td>+</td>\n",
              "      <td>0</td>\n",
              "      <td>ID=cds-YP_009724391.1;Parent=gene-GU280_gp03;D...</td>\n",
              "    </tr>\n",
              "    <tr>\n",
              "      <th>39</th>\n",
              "      <td>NC_045512.2</td>\n",
              "      <td>RefSeq</td>\n",
              "      <td>gene</td>\n",
              "      <td>26245</td>\n",
              "      <td>26472</td>\n",
              "      <td>.</td>\n",
              "      <td>+</td>\n",
              "      <td>.</td>\n",
              "      <td>ID=gene-GU280_gp04;Dbxref=GeneID:43740570;Name...</td>\n",
              "    </tr>\n",
              "    <tr>\n",
              "      <th>40</th>\n",
              "      <td>NC_045512.2</td>\n",
              "      <td>RefSeq</td>\n",
              "      <td>CDS</td>\n",
              "      <td>26245</td>\n",
              "      <td>26472</td>\n",
              "      <td>.</td>\n",
              "      <td>+</td>\n",
              "      <td>0</td>\n",
              "      <td>ID=cds-YP_009724392.1;Parent=gene-GU280_gp04;D...</td>\n",
              "    </tr>\n",
              "    <tr>\n",
              "      <th>41</th>\n",
              "      <td>NC_045512.2</td>\n",
              "      <td>RefSeq</td>\n",
              "      <td>gene</td>\n",
              "      <td>26523</td>\n",
              "      <td>27191</td>\n",
              "      <td>.</td>\n",
              "      <td>+</td>\n",
              "      <td>.</td>\n",
              "      <td>ID=gene-GU280_gp05;Dbxref=GeneID:43740571;Name...</td>\n",
              "    </tr>\n",
              "    <tr>\n",
              "      <th>42</th>\n",
              "      <td>NC_045512.2</td>\n",
              "      <td>RefSeq</td>\n",
              "      <td>CDS</td>\n",
              "      <td>26523</td>\n",
              "      <td>27191</td>\n",
              "      <td>.</td>\n",
              "      <td>+</td>\n",
              "      <td>0</td>\n",
              "      <td>ID=cds-YP_009724393.1;Parent=gene-GU280_gp05;D...</td>\n",
              "    </tr>\n",
              "    <tr>\n",
              "      <th>43</th>\n",
              "      <td>NC_045512.2</td>\n",
              "      <td>RefSeq</td>\n",
              "      <td>gene</td>\n",
              "      <td>27202</td>\n",
              "      <td>27387</td>\n",
              "      <td>.</td>\n",
              "      <td>+</td>\n",
              "      <td>.</td>\n",
              "      <td>ID=gene-GU280_gp06;Dbxref=GeneID:43740572;Name...</td>\n",
              "    </tr>\n",
              "    <tr>\n",
              "      <th>44</th>\n",
              "      <td>NC_045512.2</td>\n",
              "      <td>RefSeq</td>\n",
              "      <td>CDS</td>\n",
              "      <td>27202</td>\n",
              "      <td>27387</td>\n",
              "      <td>.</td>\n",
              "      <td>+</td>\n",
              "      <td>0</td>\n",
              "      <td>ID=cds-YP_009724394.1;Parent=gene-GU280_gp06;D...</td>\n",
              "    </tr>\n",
              "    <tr>\n",
              "      <th>45</th>\n",
              "      <td>NC_045512.2</td>\n",
              "      <td>RefSeq</td>\n",
              "      <td>gene</td>\n",
              "      <td>27394</td>\n",
              "      <td>27759</td>\n",
              "      <td>.</td>\n",
              "      <td>+</td>\n",
              "      <td>.</td>\n",
              "      <td>ID=gene-GU280_gp07;Dbxref=GeneID:43740573;Name...</td>\n",
              "    </tr>\n",
              "    <tr>\n",
              "      <th>46</th>\n",
              "      <td>NC_045512.2</td>\n",
              "      <td>RefSeq</td>\n",
              "      <td>CDS</td>\n",
              "      <td>27394</td>\n",
              "      <td>27759</td>\n",
              "      <td>.</td>\n",
              "      <td>+</td>\n",
              "      <td>0</td>\n",
              "      <td>ID=cds-YP_009724395.1;Parent=gene-GU280_gp07;D...</td>\n",
              "    </tr>\n",
              "    <tr>\n",
              "      <th>47</th>\n",
              "      <td>NC_045512.2</td>\n",
              "      <td>RefSeq</td>\n",
              "      <td>gene</td>\n",
              "      <td>27756</td>\n",
              "      <td>27887</td>\n",
              "      <td>.</td>\n",
              "      <td>+</td>\n",
              "      <td>.</td>\n",
              "      <td>ID=gene-GU280_gp08;Dbxref=GeneID:43740574;Name...</td>\n",
              "    </tr>\n",
              "    <tr>\n",
              "      <th>48</th>\n",
              "      <td>NC_045512.2</td>\n",
              "      <td>RefSeq</td>\n",
              "      <td>CDS</td>\n",
              "      <td>27756</td>\n",
              "      <td>27887</td>\n",
              "      <td>.</td>\n",
              "      <td>+</td>\n",
              "      <td>0</td>\n",
              "      <td>ID=cds-YP_009725318.1;Parent=gene-GU280_gp08;D...</td>\n",
              "    </tr>\n",
              "    <tr>\n",
              "      <th>49</th>\n",
              "      <td>NC_045512.2</td>\n",
              "      <td>RefSeq</td>\n",
              "      <td>gene</td>\n",
              "      <td>27894</td>\n",
              "      <td>28259</td>\n",
              "      <td>.</td>\n",
              "      <td>+</td>\n",
              "      <td>.</td>\n",
              "      <td>ID=gene-GU280_gp09;Dbxref=GeneID:43740577;Name...</td>\n",
              "    </tr>\n",
              "    <tr>\n",
              "      <th>50</th>\n",
              "      <td>NC_045512.2</td>\n",
              "      <td>RefSeq</td>\n",
              "      <td>CDS</td>\n",
              "      <td>27894</td>\n",
              "      <td>28259</td>\n",
              "      <td>.</td>\n",
              "      <td>+</td>\n",
              "      <td>0</td>\n",
              "      <td>ID=cds-YP_009724396.1;Parent=gene-GU280_gp09;D...</td>\n",
              "    </tr>\n",
              "    <tr>\n",
              "      <th>51</th>\n",
              "      <td>NC_045512.2</td>\n",
              "      <td>RefSeq</td>\n",
              "      <td>gene</td>\n",
              "      <td>28274</td>\n",
              "      <td>29533</td>\n",
              "      <td>.</td>\n",
              "      <td>+</td>\n",
              "      <td>.</td>\n",
              "      <td>ID=gene-GU280_gp10;Dbxref=GeneID:43740575;Name...</td>\n",
              "    </tr>\n",
              "    <tr>\n",
              "      <th>52</th>\n",
              "      <td>NC_045512.2</td>\n",
              "      <td>RefSeq</td>\n",
              "      <td>CDS</td>\n",
              "      <td>28274</td>\n",
              "      <td>29533</td>\n",
              "      <td>.</td>\n",
              "      <td>+</td>\n",
              "      <td>0</td>\n",
              "      <td>ID=cds-YP_009724397.2;Parent=gene-GU280_gp10;D...</td>\n",
              "    </tr>\n",
              "    <tr>\n",
              "      <th>53</th>\n",
              "      <td>NC_045512.2</td>\n",
              "      <td>RefSeq</td>\n",
              "      <td>gene</td>\n",
              "      <td>29558</td>\n",
              "      <td>29674</td>\n",
              "      <td>.</td>\n",
              "      <td>+</td>\n",
              "      <td>.</td>\n",
              "      <td>ID=gene-GU280_gp11;Dbxref=GeneID:43740576;Name...</td>\n",
              "    </tr>\n",
              "    <tr>\n",
              "      <th>54</th>\n",
              "      <td>NC_045512.2</td>\n",
              "      <td>RefSeq</td>\n",
              "      <td>CDS</td>\n",
              "      <td>29558</td>\n",
              "      <td>29674</td>\n",
              "      <td>.</td>\n",
              "      <td>+</td>\n",
              "      <td>0</td>\n",
              "      <td>ID=cds-YP_009725255.1;Parent=gene-GU280_gp11;D...</td>\n",
              "    </tr>\n",
              "    <tr>\n",
              "      <th>55</th>\n",
              "      <td>NC_045512.2</td>\n",
              "      <td>RefSeq</td>\n",
              "      <td>stem_loop</td>\n",
              "      <td>29609</td>\n",
              "      <td>29644</td>\n",
              "      <td>.</td>\n",
              "      <td>+</td>\n",
              "      <td>.</td>\n",
              "      <td>ID=id-GU280_gp11;Dbxref=GeneID:43740576;functi...</td>\n",
              "    </tr>\n",
              "    <tr>\n",
              "      <th>56</th>\n",
              "      <td>NC_045512.2</td>\n",
              "      <td>RefSeq</td>\n",
              "      <td>stem_loop</td>\n",
              "      <td>29629</td>\n",
              "      <td>29657</td>\n",
              "      <td>.</td>\n",
              "      <td>+</td>\n",
              "      <td>.</td>\n",
              "      <td>ID=id-GU280_gp11-2;Dbxref=GeneID:43740576;func...</td>\n",
              "    </tr>\n",
              "    <tr>\n",
              "      <th>57</th>\n",
              "      <td>NC_045512.2</td>\n",
              "      <td>RefSeq</td>\n",
              "      <td>three_prime_UTR</td>\n",
              "      <td>29675</td>\n",
              "      <td>29903</td>\n",
              "      <td>.</td>\n",
              "      <td>+</td>\n",
              "      <td>.</td>\n",
              "      <td>ID=id-NC_045512.2:29675..29903;gbkey=3'UTR</td>\n",
              "    </tr>\n",
              "    <tr>\n",
              "      <th>58</th>\n",
              "      <td>NC_045512.2</td>\n",
              "      <td>RefSeq</td>\n",
              "      <td>stem_loop</td>\n",
              "      <td>29728</td>\n",
              "      <td>29768</td>\n",
              "      <td>.</td>\n",
              "      <td>+</td>\n",
              "      <td>.</td>\n",
              "      <td>ID=id-NC_045512.2:29728..29768;Note=basepair e...</td>\n",
              "    </tr>\n",
              "  </tbody>\n",
              "</table>\n",
              "</div>"
            ],
            "text/plain": [
              "              0       1  ...  7                                                  8\n",
              "0   NC_045512.2  RefSeq  ...  .  ID=NC_045512.2:1..29903;Dbxref=taxon:2697049;c...\n",
              "1   NC_045512.2  RefSeq  ...  .               ID=id-NC_045512.2:1..265;gbkey=5'UTR\n",
              "2   NC_045512.2  RefSeq  ...  .  ID=gene-GU280_gp01;Dbxref=GeneID:43740578;Name...\n",
              "3   NC_045512.2  RefSeq  ...  0  ID=cds-YP_009724389.1;Parent=gene-GU280_gp01;D...\n",
              "4   NC_045512.2  RefSeq  ...  0  ID=cds-YP_009724389.1;Parent=gene-GU280_gp01;D...\n",
              "5   NC_045512.2  RefSeq  ...  .  ID=id-YP_009724389.1:1..180;Note=nsp1%3B produ...\n",
              "6   NC_045512.2  RefSeq  ...  .  ID=id-YP_009724389.1:181..818;Note=produced by...\n",
              "7   NC_045512.2  RefSeq  ...  .  ID=id-YP_009724389.1:819..2763;Note=former nsp...\n",
              "8   NC_045512.2  RefSeq  ...  .  ID=id-YP_009724389.1:2764..3263;Note=nsp4B_TM%...\n",
              "9   NC_045512.2  RefSeq  ...  .  ID=id-YP_009724389.1:3264..3569;Note=nsp5A_3CL...\n",
              "10  NC_045512.2  RefSeq  ...  .  ID=id-YP_009724389.1:3570..3859;Note=nsp6_TM%3...\n",
              "11  NC_045512.2  RefSeq  ...  .  ID=id-YP_009724389.1:3860..3942;Note=produced ...\n",
              "12  NC_045512.2  RefSeq  ...  .  ID=id-YP_009724389.1:3943..4140;Note=produced ...\n",
              "13  NC_045512.2  RefSeq  ...  .  ID=id-YP_009724389.1:4141..4253;Note=ssRNA-bin...\n",
              "14  NC_045512.2  RefSeq  ...  .  ID=id-YP_009724389.1:4254..4392;Note=nsp10_Cys...\n",
              "15  NC_045512.2  RefSeq  ...  .  ID=id-YP_009724389.1:4393..5324;Note=nsp12%3B ...\n",
              "16  NC_045512.2  RefSeq  ...  .  ID=id-YP_009724389.1:4393..5324;Note=nsp12%3B ...\n",
              "17  NC_045512.2  RefSeq  ...  .  ID=id-YP_009724389.1:5325..5925;Note=nsp13_ZBD...\n",
              "18  NC_045512.2  RefSeq  ...  .  ID=id-YP_009724389.1:5926..6452;Note=nsp14A2_E...\n",
              "19  NC_045512.2  RefSeq  ...  .  ID=id-YP_009724389.1:6453..6798;Note=nsp15-A1 ...\n",
              "20  NC_045512.2  RefSeq  ...  .  ID=id-YP_009724389.1:6799..7096;Note=nsp16_OMT...\n",
              "21  NC_045512.2  RefSeq  ...  0  ID=cds-YP_009725295.1;Parent=gene-GU280_gp01;D...\n",
              "22  NC_045512.2  RefSeq  ...  .  ID=id-YP_009725295.1:1..180;Note=nsp1%3B produ...\n",
              "23  NC_045512.2  RefSeq  ...  .  ID=id-YP_009725295.1:181..818;Note=produced by...\n",
              "24  NC_045512.2  RefSeq  ...  .  ID=id-YP_009725295.1:819..2763;Note=former nsp...\n",
              "25  NC_045512.2  RefSeq  ...  .  ID=id-YP_009725295.1:2764..3263;Note=nsp4B_TM%...\n",
              "26  NC_045512.2  RefSeq  ...  .  ID=id-YP_009725295.1:3264..3569;Note=nsp5A_3CL...\n",
              "27  NC_045512.2  RefSeq  ...  .  ID=id-YP_009725295.1:3570..3859;Note=nsp6_TM%3...\n",
              "28  NC_045512.2  RefSeq  ...  .  ID=id-YP_009725295.1:3860..3942;Note=produced ...\n",
              "29  NC_045512.2  RefSeq  ...  .  ID=id-YP_009725295.1:3943..4140;Note=produced ...\n",
              "30  NC_045512.2  RefSeq  ...  .  ID=id-YP_009725295.1:4141..4253;Note=ssRNA-bin...\n",
              "31  NC_045512.2  RefSeq  ...  .  ID=id-YP_009725295.1:4254..4392;Note=nsp10_Cys...\n",
              "32  NC_045512.2  RefSeq  ...  .  ID=id-YP_009725295.1:4393..4405;Note=produced ...\n",
              "33  NC_045512.2  RefSeq  ...  .  ID=id-GU280_gp01;Dbxref=GeneID:43740578;functi...\n",
              "34  NC_045512.2  RefSeq  ...  .  ID=id-GU280_gp01-2;Dbxref=GeneID:43740578;func...\n",
              "35  NC_045512.2  RefSeq  ...  .  ID=gene-GU280_gp02;Dbxref=GeneID:43740568;Name...\n",
              "36  NC_045512.2  RefSeq  ...  0  ID=cds-YP_009724390.1;Parent=gene-GU280_gp02;D...\n",
              "37  NC_045512.2  RefSeq  ...  .  ID=gene-GU280_gp03;Dbxref=GeneID:43740569;Name...\n",
              "38  NC_045512.2  RefSeq  ...  0  ID=cds-YP_009724391.1;Parent=gene-GU280_gp03;D...\n",
              "39  NC_045512.2  RefSeq  ...  .  ID=gene-GU280_gp04;Dbxref=GeneID:43740570;Name...\n",
              "40  NC_045512.2  RefSeq  ...  0  ID=cds-YP_009724392.1;Parent=gene-GU280_gp04;D...\n",
              "41  NC_045512.2  RefSeq  ...  .  ID=gene-GU280_gp05;Dbxref=GeneID:43740571;Name...\n",
              "42  NC_045512.2  RefSeq  ...  0  ID=cds-YP_009724393.1;Parent=gene-GU280_gp05;D...\n",
              "43  NC_045512.2  RefSeq  ...  .  ID=gene-GU280_gp06;Dbxref=GeneID:43740572;Name...\n",
              "44  NC_045512.2  RefSeq  ...  0  ID=cds-YP_009724394.1;Parent=gene-GU280_gp06;D...\n",
              "45  NC_045512.2  RefSeq  ...  .  ID=gene-GU280_gp07;Dbxref=GeneID:43740573;Name...\n",
              "46  NC_045512.2  RefSeq  ...  0  ID=cds-YP_009724395.1;Parent=gene-GU280_gp07;D...\n",
              "47  NC_045512.2  RefSeq  ...  .  ID=gene-GU280_gp08;Dbxref=GeneID:43740574;Name...\n",
              "48  NC_045512.2  RefSeq  ...  0  ID=cds-YP_009725318.1;Parent=gene-GU280_gp08;D...\n",
              "49  NC_045512.2  RefSeq  ...  .  ID=gene-GU280_gp09;Dbxref=GeneID:43740577;Name...\n",
              "50  NC_045512.2  RefSeq  ...  0  ID=cds-YP_009724396.1;Parent=gene-GU280_gp09;D...\n",
              "51  NC_045512.2  RefSeq  ...  .  ID=gene-GU280_gp10;Dbxref=GeneID:43740575;Name...\n",
              "52  NC_045512.2  RefSeq  ...  0  ID=cds-YP_009724397.2;Parent=gene-GU280_gp10;D...\n",
              "53  NC_045512.2  RefSeq  ...  .  ID=gene-GU280_gp11;Dbxref=GeneID:43740576;Name...\n",
              "54  NC_045512.2  RefSeq  ...  0  ID=cds-YP_009725255.1;Parent=gene-GU280_gp11;D...\n",
              "55  NC_045512.2  RefSeq  ...  .  ID=id-GU280_gp11;Dbxref=GeneID:43740576;functi...\n",
              "56  NC_045512.2  RefSeq  ...  .  ID=id-GU280_gp11-2;Dbxref=GeneID:43740576;func...\n",
              "57  NC_045512.2  RefSeq  ...  .         ID=id-NC_045512.2:29675..29903;gbkey=3'UTR\n",
              "58  NC_045512.2  RefSeq  ...  .  ID=id-NC_045512.2:29728..29768;Note=basepair e...\n",
              "\n",
              "[59 rows x 9 columns]"
            ]
          },
          "metadata": {
            "tags": []
          },
          "execution_count": 43
        }
      ]
    }
  ]
}