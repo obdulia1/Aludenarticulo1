{
  "nbformat": 4,
  "nbformat_minor": 0,
  "metadata": {
    "colab": {
      "name": "01 Introducción  a Python",
      "provenance": [],
      "toc_visible": true,
      "include_colab_link": true
    },
    "kernelspec": {
      "name": "python3",
      "display_name": "Python 3"
    }
  },
  "cells": [
    {
      "cell_type": "markdown",
      "metadata": {
        "id": "view-in-github",
        "colab_type": "text"
      },
      "source": [
        "<a href=\"https://colab.research.google.com/github/obdulia1/Aludenarticulo1/blob/master/01_Introducci%C3%B3n_a_Python.ipynb\" target=\"_parent\"><img src=\"https://colab.research.google.com/assets/colab-badge.svg\" alt=\"Open In Colab\"/></a>"
      ]
    },
    {
      "cell_type": "markdown",
      "metadata": {
        "id": "iqW1Ev85fhKW"
      },
      "source": [
        "<img src=\"https://solariabiodata.com.mx/images/solaria_banner.png\" width=\"400\">\r\n",
        "\r\n",
        "# Biodata Camp: Python\r\n",
        "Bienvenidos al material que hemos preparado para el Biodata Camp: Python 🐍"
      ]
    },
    {
      "cell_type": "markdown",
      "metadata": {
        "id": "wvZqeIZXw4eS"
      },
      "source": [
        "# Introducción: Uso en Jupyter\r\n",
        "\r\n",
        "Esta es la interfaz de Jupyter en línea, desde https://colab.research.google.com\r\n",
        "\r\n",
        "O para los cuates, **Google Colab**"
      ]
    },
    {
      "cell_type": "markdown",
      "metadata": {
        "id": "y_Fsqkj7xPr5"
      },
      "source": [
        "## 01 Secciones\r\n",
        "\r\n",
        "Este espacio de trabajo, se conoce como bloc de notas, o notebook. En la computadora, se puede ver que el formato de archivo es *.ipynb*\r\n",
        "\r\n",
        "Cuando trabajamos sobre un bloc de jupyter, podemos separar diferentes instrucciones y líneas de Texto en secciones. Como ejemplo, si damos clic en la pestaña al lado de \"Secciones\", se puede ocultar o mostrar el contenido de cada sección.\r\n",
        "\r\n"
      ]
    },
    {
      "cell_type": "markdown",
      "metadata": {
        "id": "6PEs5Uxim9C-"
      },
      "source": [
        "# Este es un texto adicional\r\n",
        "\r\n",
        "## Este es otro texto\r\n",
        "\r\n",
        "### Este uno más"
      ]
    },
    {
      "cell_type": "code",
      "metadata": {
        "colab": {
          "base_uri": "https://localhost:8080/"
        },
        "id": "XT3vzELLnC0k",
        "outputId": "bc99404f-7c49-4162-8c1a-aaf3e6b7cefb"
      },
      "source": [
        "print(\"Hola mundo\")"
      ],
      "execution_count": null,
      "outputs": [
        {
          "output_type": "stream",
          "text": [
            "Hola mundo\n"
          ],
          "name": "stdout"
        }
      ]
    },
    {
      "cell_type": "code",
      "metadata": {
        "id": "SdgbdSEQxNRq"
      },
      "source": [
        "string_1 = \"Hola\""
      ],
      "execution_count": null,
      "outputs": []
    },
    {
      "cell_type": "code",
      "metadata": {
        "id": "mEhqr89jy9zo"
      },
      "source": [
        "string_2 = \"Participante\""
      ],
      "execution_count": null,
      "outputs": []
    },
    {
      "cell_type": "code",
      "metadata": {
        "colab": {
          "base_uri": "https://localhost:8080/"
        },
        "id": "Npmmyyt6y96X",
        "outputId": "84f00e6b-17fd-42f1-dcf0-932275086ce4"
      },
      "source": [
        "print(string_1 + \" \" + string_2)"
      ],
      "execution_count": null,
      "outputs": [
        {
          "output_type": "stream",
          "text": [
            "Hola Participante\n"
          ],
          "name": "stdout"
        }
      ]
    },
    {
      "cell_type": "code",
      "metadata": {
        "id": "5uEFvVSSy-Be"
      },
      "source": [
        "1 + 2 + 3"
      ],
      "execution_count": null,
      "outputs": []
    },
    {
      "cell_type": "markdown",
      "metadata": {
        "id": "YtFx_JClzMiB"
      },
      "source": [
        "## 02 Interfaz\r\n",
        "\r\n",
        "Jupyter es una GUI especial conocida como _Rich Internet Application_ (RIA), que utiliza dos componentes:\r\n",
        "1. Una aplicación Web\r\n",
        "2. Un lenguaje interno\r\n",
        "\r\n",
        "A continuación ennumeramos algunos componentes esenciales de esta interfaz:\r\n",
        "\r\n",
        "### Uso de Disco\r\n",
        "\r\n",
        "Localicemos esta pestaña del lado superior derecho:\r\n",
        "\r\n",
        "![Captura de pantalla 2021-03-10 190402.png](data:image/png;base64,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)\r\n",
        "\r\n",
        "Este segmento corresponde a la capacidad computacional del entorno en la nube, que corre internamente Jupyter.\r\n",
        "\r\n",
        "### Agregar Celdas al notebook\r\n",
        "\r\n",
        "Con esta sección, del lado superior izquierdo, se pueden agregar elementos de texto y código sobre el bloc de notas:\r\n",
        "\r\n",
        "![Captura de pantalla 2021-03-10 190600.png](data:image/png;base64,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)\r\n",
        "\r\n",
        "### Menú Vertical izquierdo\r\n",
        "\r\n",
        "Sobre la seccion superior izquierda veremos algunos elementos de interés para subir archivos, agregar segmentos cortos de código, buscar/reemplazar cadenas de texto y un indice ordenado de todo el bloc de notas:\r\n",
        "\r\n",
        "![Captura de pantalla 2021-03-10 190841.png](data:image/png;base64,iVBORw0KGgoAAAANSUhEUgAAAC0AAACqCAYAAAA5r8b6AAAAAXNSR0IArs4c6QAAAARnQU1BAACxjwv8YQUAAAAJcEhZcwAADsMAAA7DAcdvqGQAAARHSURBVHhe7Z2/LzRBHMbn7iJRuASRUGkoJBIkSpWGP0ApobtCSUKrlhAFEjoSf4BSRaPS0KCgP5WGhuJ9PZOZe9e+t/vuzX7vudu8308y2R934rNjduZyz+wo9ff3/zLfTExMYNNVvL6+muHhYXf0h7LbFgqVZqHSLFSaRSGlgweXra0tMzU1ZTY2NszIyIjdzwIGjMvLS3eUTtLgEix9cXFh+vr6rPT09LRZWVlxr6Rzf39v1tfX3VE64tJjY2NmfHw8c62FIC7NQPyzB5oG2nInCK7pk5MT20RqtZptJgsLC+6VdF5eXszR0ZE7Ske8puOUSqVMRYLgmkbzQKnX6+6MPOI1/f7+3lbhNIKl0Z6ztmNp/q/BBcM4ZCGArg/7WUCT6tgwzgDSzej6T3nfldooAwMDtnS9dLlcbhTf13e9dEM0Il+YmvbyhahpEBUuhDQk/bYw0sCLewohHacwzSOK1jQLlWah0ixUmoVKs1BpFirNQqVZqDQLlWah0iwKKZ37S3WkAGtra2Zubs6dMebm5sacnp7azDAPSUlApbe3dxs7Q0ND9kQrICw6ODiw4SdEr6+vbeqFC5ifnzdPT0+5ErCPjw+b68TJlSMeHx/bLXKXaK3iYvb29uz+8vKyvZAQxHNE1CaaBiLjeDPA8c7Ojr2gaLORIljah/loFs3w51Hr0rS996hWq25PjmBpf4Ml/fn9+efnZ7uVJFgaf37cYOju4k3Ad4N4vR0zb4K7vM/PT9uloWtbXFw0o6OjVh77EB4cHDQPDw/m8fHRvL29uZ9qDfEuzwPR1dXVH80E+ffh4WGj24t3iVmhxMwzMzPm7u7OHf3sr0PExfvpZkSFAST9jAPIS3V/be/y4uLN2mir5PrskRXciLe3t/YCcGNmpW03YjuhtGkWKs1CpVmoNAuVZqHSLFSahUqzUGkWKs1CpVmoNAuVZqHSLFSahUqzUGkWItKIGJIeV0VcJ5GzRMktDSEEQJBDJBcFx7gYqYDIk0vaCyNqw1SJeCSHY5z3eaKUeLB0XDgpA8d5afEg6azCHmlxkRuRTZA0pkT4rHtzc9POPEgDr+N9Pr0NndPkCa7prOLSwiBX84iLN+vypIVBZXJychsTSiqVijvVGpiscnV1Zb6+vv66ITFlCA9B7u/vBwknZuOzs7M2G+/p6bEnugnNxjuNSrNQaRYqzUKlWag0C5VmodIsVJqFSrNQaRYqzUKlWag0C5VmodIsCikdnATg4d9m39IjX5HKVhIfVw2RhvD5+bk7+olkKCQqjfA+bZFsBERJCzfgojq6ej0E8ORyvOCX+dVeowVP6y8tLeVeHyFXTWNp8vjMgzSQK+7u7pqzszO7/se/0HSr06g0C5VmUUZfixICpvfgnxpkLXi/BEFP6KcN41nAikFZljpKHMZDlxWAOEqrpA3xccSlGeiI2GlUmoVKs1BpFgWUNuY3zCEICGmyMEAAAAAASUVORK5CYII=)\r\n",
        "\r\n",
        "#### Indice\r\n",
        "\r\n",
        "Conforme vayamos realizando operaciones, el tamaño del bloc de notas irá en aumento. Para poder separar los datos y navegar fácilmente por todo el código, podemos ubicar cada sección en este índice.\r\n",
        "\r\n",
        "#### Buscar/Reemplazar\r\n",
        "\r\n",
        "Mientras trabajamos, es posible que necesitemos ubicar cadenas de texto, código o un elemento. Esta operación también puede reemplazar dicha cadena.\r\n",
        "\r\n",
        "#### Snippets\r\n",
        "\r\n",
        "Si constantemente se está usando una función a lo largo de un proyecto, se puede importar el código (denominado como fragmento o snippet).\r\n",
        "\r\n",
        "#### Espacio de Trabajo\r\n",
        "\r\n",
        "El espacio de trabajo es una ruta en la nube de procesamiento en Google Colab. Desde este espacio de trabajo se puede agregar cierta cantidad de archivos para procesar desde python.\r\n",
        "\r\n",
        "### Interfaz Colaborativa\r\n",
        "\r\n",
        "En la parte más alta superior derecha, tenemos los elementos para comentar y compartir con otros usuarios de Google y Gmail.\r\n",
        "\r\n",
        "![Captura de pantalla 2021-03-10 191527.png](data:image/png;base64,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)\r\n"
      ]
    },
    {
      "cell_type": "markdown",
      "metadata": {
        "id": "v8r0dLy33KJC"
      },
      "source": [
        "# Markdown\r\n",
        "\r\n",
        "Markdown es un formato de texto que equipara texto plano con texto enriquecido, de una manera que es clara en una interfaz de terminal y una interfaz gráfica.\r\n",
        "\r\n",
        "## Este es un Título\r\n",
        "### Este es un Subtítulo\r\n",
        "\r\n",
        "Este es un ejemplo de texto que da entrada a una lista genérica de elementos:\r\n",
        "\r\n",
        "- Elemento 1\r\n",
        "- Elemento 2\r\n",
        "- Elemento 3\r\n",
        "\r\n",
        "Este es un ejemplo de texto que da entrada a una lista numerada:\r\n",
        "\r\n",
        "1. Elemento 1\r\n",
        "2. Elemento 2\r\n",
        "3. Elemento 3\r\n",
        "\r\n",
        "Al texto en Markdown puedes añadirle formato como **negrita** o _cursiva_, ~tachado~, `monoespaciado` de una manera muy sencilla.\r\n",
        "\r\n",
        "Podemos agregar un hipervínculo web, como la de [Solaria Biodata.](https://solariabiodata.com.mx)\r\n",
        "\r\n",
        "O a nuestro canal de youtube con la liga https://youtube.com/c/solariabiodata\r\n",
        "\r\n",
        "Los hipervínculos también sirven para elementos locales ./content/sample_data/README.md\r\n",
        "\r\n",
        "> Tambien podemos citar una línea de texto o un párrafo entero\r\n",
        "\r\n",
        "    Y podemos  escribir código, aunque en este caso esta línea no se ejecuta\r\n",
        "    \r\n",
        "    import os\r\n",
        "    print(\"Hola Participante\")\r\n",
        "    print(os.listdir())\r\n",
        "\r\n",
        "\r\n",
        "    Una linea de codigo\r\n"
      ]
    }
  ]
}