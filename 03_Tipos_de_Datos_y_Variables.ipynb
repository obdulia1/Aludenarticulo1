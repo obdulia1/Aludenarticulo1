{
  "nbformat": 4,
  "nbformat_minor": 0,
  "metadata": {
    "colab": {
      "name": "03 Tipos de Datos y Variables",
      "provenance": [],
      "collapsed_sections": [
        "n0qYgaWLnuyv",
        "KGU-K9Q01IKP",
        "73GXAZU4pN03",
        "ZMZOjp9-3Jgj",
        "oKO1KZFA3Nht",
        "Tx9UdTQ53RgM",
        "TLFhuixCpOmi",
        "nFfQER4c9ZdP",
        "XSc5TgcJ9Zza",
        "CzcZh4mJ9aDU",
        "rClSh_5-9aQs",
        "XtCaPadE-7xL"
      ],
      "toc_visible": true,
      "include_colab_link": true
    },
    "kernelspec": {
      "name": "python3",
      "display_name": "Python 3"
    }
  },
  "cells": [
    {
      "cell_type": "markdown",
      "metadata": {
        "id": "view-in-github",
        "colab_type": "text"
      },
      "source": [
        "<a href=\"https://colab.research.google.com/github/obdulia1/Aludenarticulo1/blob/master/03_Tipos_de_Datos_y_Variables.ipynb\" target=\"_parent\"><img src=\"https://colab.research.google.com/assets/colab-badge.svg\" alt=\"Open In Colab\"/></a>"
      ]
    },
    {
      "cell_type": "markdown",
      "metadata": {
        "id": "n0qYgaWLnuyv"
      },
      "source": [
        "<img src=\"https://solariabiodata.com.mx/images/solaria_banner.png\" width=\"400\">\r\n",
        "\r\n",
        "# Biodata Camp: Python\r\n",
        "Bienvenidos al material que hemos preparado para el Biodata Camp: Python 🐍"
      ]
    },
    {
      "cell_type": "markdown",
      "metadata": {
        "id": "t6EtzOMnnwzK"
      },
      "source": [
        "# 03 Tipos de Datos y Variables"
      ]
    },
    {
      "cell_type": "markdown",
      "metadata": {
        "id": "KGU-K9Q01IKP"
      },
      "source": [
        "\r\n",
        "## Impresión de Valores\r\n",
        "\r\n",
        "El comando print es de gran utilidad para que el programa pueda comunicarse con nosotros.\r\n"
      ]
    },
    {
      "cell_type": "markdown",
      "metadata": {
        "id": "EwY4vsd16TCu"
      },
      "source": [
        "Este comando muestra el texto que pongamos, o incluso el valor que hay dentro de una variable.\r\n",
        "\r\n",
        "    print(EXPRESION O VARIABLE)"
      ]
    },
    {
      "cell_type": "code",
      "metadata": {
        "colab": {
          "base_uri": "https://localhost:8080/"
        },
        "id": "OjmFOBB4ntmS",
        "outputId": "70bb05f0-de3e-463f-c618-c3e117d9932b"
      },
      "source": [
        "print(\"Hola Mundo\")"
      ],
      "execution_count": null,
      "outputs": [
        {
          "output_type": "stream",
          "text": [
            "Hola Mundo\n"
          ],
          "name": "stdout"
        }
      ]
    },
    {
      "cell_type": "code",
      "metadata": {
        "colab": {
          "base_uri": "https://localhost:8080/"
        },
        "id": "fPIWSsG61pmm",
        "outputId": "d8f9fa04-1416-4031-e485-5333eefc0a24"
      },
      "source": [
        "print(999)"
      ],
      "execution_count": null,
      "outputs": [
        {
          "output_type": "stream",
          "text": [
            "999\n"
          ],
          "name": "stdout"
        }
      ]
    },
    {
      "cell_type": "markdown",
      "metadata": {
        "id": "73GXAZU4pN03"
      },
      "source": [
        "## Definición de Variables\r\n",
        "\r\n",
        "Una variable es un sitio donde guardamos una determinada información. En función del tipo de información que guardemos (texto, números, booleanas, etc.), la variable será de uno u otro tipo. Por simplicidad sólo vamos a ver las variables de texto y numéricas, ya que son las que se usan en más del 80% de las ocasiones."
      ]
    },
    {
      "cell_type": "markdown",
      "metadata": {
        "id": "ZMZOjp9-3Jgj"
      },
      "source": [
        "### Números"
      ]
    },
    {
      "cell_type": "code",
      "metadata": {
        "id": "kjDulq28s4QS"
      },
      "source": [
        "# Definimos dos variables llamadas numero1 y\r\n",
        "# numero2, y asociaremos un número a cada una\r\n",
        "numero1 = int(2)\r\n",
        "numero2 = float(2.5)\r\n"
      ],
      "execution_count": null,
      "outputs": []
    },
    {
      "cell_type": "code",
      "metadata": {
        "id": "rZSssoqMBA3K"
      },
      "source": [
        ""
      ],
      "execution_count": null,
      "outputs": []
    },
    {
      "cell_type": "code",
      "metadata": {
        "id": "-GjNz2mHs4dt",
        "colab": {
          "base_uri": "https://localhost:8080/"
        },
        "outputId": "f23b3029-5fbd-462c-ad24-a1d57be0c640"
      },
      "source": [
        "# Para imprimir el contenido de una variable, usamos print\r\n",
        "print(numero2)"
      ],
      "execution_count": null,
      "outputs": [
        {
          "output_type": "stream",
          "text": [
            "2.5\n"
          ],
          "name": "stdout"
        }
      ]
    },
    {
      "cell_type": "code",
      "metadata": {
        "id": "t17M0ALdzlSU"
      },
      "source": [
        "#definición implicita de un número\r\n",
        "\r\n",
        "numero3 = 2.3545\r\n",
        "numero4 = 1"
      ],
      "execution_count": null,
      "outputs": []
    },
    {
      "cell_type": "code",
      "metadata": {
        "colab": {
          "base_uri": "https://localhost:8080/"
        },
        "id": "29MxtWuJztzH",
        "outputId": "dcec9f22-cbcc-4618-fafb-437e3a27f3c7"
      },
      "source": [
        "type(numero4)"
      ],
      "execution_count": null,
      "outputs": [
        {
          "output_type": "execute_result",
          "data": {
            "text/plain": [
              "int"
            ]
          },
          "metadata": {
            "tags": []
          },
          "execution_count": 55
        }
      ]
    },
    {
      "cell_type": "markdown",
      "metadata": {
        "id": "oKO1KZFA3Nht"
      },
      "source": [
        "### Texto"
      ]
    },
    {
      "cell_type": "markdown",
      "metadata": {
        "id": "diaEYrOc0DJD"
      },
      "source": [
        "Las variables que almacenan texto se denominan strings (str). Tienen que estar entre comillas sencillas(‘) o dobles (\"), o si el texto ocupa varias líneas, entre triples comillas dobles (\"\"\") ."
      ]
    },
    {
      "cell_type": "code",
      "metadata": {
        "id": "JUjaHOaX0Ny4"
      },
      "source": [
        "texto1=\"Esto es un texto\"\r\n",
        "texto2='Esto es otro texto'\r\n",
        "texto3=\"\"\"Holi\r\n",
        "caracoli\"\"\""
      ],
      "execution_count": null,
      "outputs": []
    },
    {
      "cell_type": "code",
      "metadata": {
        "colab": {
          "base_uri": "https://localhost:8080/"
        },
        "id": "P0MaEp7s0N2J",
        "outputId": "11adbce7-da75-4499-ac14-e19c95f171b8"
      },
      "source": [
        "print(texto1)"
      ],
      "execution_count": null,
      "outputs": [
        {
          "output_type": "stream",
          "text": [
            "Esto es un texto\n"
          ],
          "name": "stdout"
        }
      ]
    },
    {
      "cell_type": "code",
      "metadata": {
        "colab": {
          "base_uri": "https://localhost:8080/"
        },
        "id": "pApeDMJG0N5N",
        "outputId": "1d41c22a-e243-49f1-cc19-641b95b97095"
      },
      "source": [
        "print(texto2)"
      ],
      "execution_count": null,
      "outputs": [
        {
          "output_type": "stream",
          "text": [
            "Esto es otro texto\n"
          ],
          "name": "stdout"
        }
      ]
    },
    {
      "cell_type": "code",
      "metadata": {
        "colab": {
          "base_uri": "https://localhost:8080/"
        },
        "id": "BW7SVe3c0N8Z",
        "outputId": "85deedff-ff54-49a3-e02d-91388bf3b293"
      },
      "source": [
        "print(texto3)"
      ],
      "execution_count": null,
      "outputs": [
        {
          "output_type": "stream",
          "text": [
            "Holi\n",
            "caracoli\n"
          ],
          "name": "stdout"
        }
      ]
    },
    {
      "cell_type": "markdown",
      "metadata": {
        "id": "yrPeZhtl0n_A"
      },
      "source": [
        "Al igual que sucedía con los números, Python supone que lo que introducimos es un texto al estar entre comillas, aunque siempre podemos forzarle a interpretarlo como texto usando el comando str."
      ]
    },
    {
      "cell_type": "code",
      "metadata": {
        "id": "ZxgTVgzR0qfi"
      },
      "source": [
        "texto4=str(54)"
      ],
      "execution_count": null,
      "outputs": []
    },
    {
      "cell_type": "code",
      "metadata": {
        "colab": {
          "base_uri": "https://localhost:8080/"
        },
        "id": "_ihVWmFb0qia",
        "outputId": "89c62fe2-2fd1-4779-bb56-9e00609f3591"
      },
      "source": [
        "print(texto4)"
      ],
      "execution_count": null,
      "outputs": [
        {
          "output_type": "stream",
          "text": [
            "54\n"
          ],
          "name": "stdout"
        }
      ]
    },
    {
      "cell_type": "markdown",
      "metadata": {
        "id": "CBtv0Fr80ydB"
      },
      "source": [
        "Para saber de qué tipo es una determinada variable, basta con preguntarle a Python ```type()```."
      ]
    },
    {
      "cell_type": "code",
      "metadata": {
        "colab": {
          "base_uri": "https://localhost:8080/"
        },
        "id": "cBNn8zHG01w8",
        "outputId": "1b031821-f379-43e9-d220-09b1b7203443"
      },
      "source": [
        "type(texto4)"
      ],
      "execution_count": null,
      "outputs": [
        {
          "output_type": "execute_result",
          "data": {
            "text/plain": [
              "str"
            ]
          },
          "metadata": {
            "tags": []
          },
          "execution_count": 29
        }
      ]
    },
    {
      "cell_type": "markdown",
      "metadata": {
        "id": "Tx9UdTQ53RgM"
      },
      "source": [
        "### Lógico"
      ]
    },
    {
      "cell_type": "markdown",
      "metadata": {
        "id": "0Uno0xSP3URq"
      },
      "source": [
        "El último tipo de variable que definiremos, se conoce como booleano o lógico. Este tipo de variables toman la dicotomía VERDADERO o FALSO."
      ]
    },
    {
      "cell_type": "code",
      "metadata": {
        "id": "bg68PLG53gOI"
      },
      "source": [
        "logic1 = True\r\n",
        "logic2 = False"
      ],
      "execution_count": null,
      "outputs": []
    },
    {
      "cell_type": "code",
      "metadata": {
        "colab": {
          "base_uri": "https://localhost:8080/"
        },
        "id": "A1J3coy93gaA",
        "outputId": "f5d09de7-30c0-421d-c44b-bf9d1befb887"
      },
      "source": [
        "print(logic1)"
      ],
      "execution_count": null,
      "outputs": [
        {
          "output_type": "stream",
          "text": [
            "True\n"
          ],
          "name": "stdout"
        }
      ]
    },
    {
      "cell_type": "code",
      "metadata": {
        "colab": {
          "base_uri": "https://localhost:8080/"
        },
        "id": "9CAhCaCg3m84",
        "outputId": "fcf0b303-0c9d-4005-b9a8-aab7831ffdc1"
      },
      "source": [
        "print(logic2)"
      ],
      "execution_count": null,
      "outputs": [
        {
          "output_type": "stream",
          "text": [
            "False\n"
          ],
          "name": "stdout"
        }
      ]
    },
    {
      "cell_type": "markdown",
      "metadata": {
        "id": "TLFhuixCpOmi"
      },
      "source": [
        "## Definición de Funciones nominadas\r\n",
        "\r\n",
        "Una función es un bloque de código con un nombre asociado, que recibe cero o más argumentos como entrada, sigue una secuencia de sentencias, la cuales ejecuta una operación deseada y devuelve un valor y/o realiza una tarea, este bloque puede ser llamados cuando se necesite."
      ]
    },
    {
      "cell_type": "code",
      "metadata": {
        "id": "vomFvd5Is5ET"
      },
      "source": [
        "# Función para definir funciones:\r\n",
        "\r\n",
        "def my_fun():\r\n",
        "  print(\"Hola Mundo\")"
      ],
      "execution_count": null,
      "outputs": []
    },
    {
      "cell_type": "code",
      "metadata": {
        "colab": {
          "base_uri": "https://localhost:8080/"
        },
        "id": "7sgpba7es5Nd",
        "outputId": "f1d1f574-3dc3-4076-82d6-058b4211f67a"
      },
      "source": [
        "# Una vez definida, se puede usar como:\r\n",
        "my_fun()"
      ],
      "execution_count": null,
      "outputs": [
        {
          "output_type": "stream",
          "text": [
            "Hola Mundo\n"
          ],
          "name": "stdout"
        }
      ]
    },
    {
      "cell_type": "markdown",
      "metadata": {
        "id": "9cjYKb4RtX2O"
      },
      "source": [
        "La sintaxis para una definición de función en Python es:\r\n",
        "\r\n",
        "    def NOMBRE(PARAMETROS):\r\n",
        "        \"\"\"DOCSTRING_DE_FUNCION\"\"\"\r\n",
        "        PROCESOS\r\n",
        "        RETURN [EXPRESION]\r\n",
        "\r\n"
      ]
    },
    {
      "cell_type": "code",
      "metadata": {
        "id": "LpOHHrDjtqbg"
      },
      "source": [
        "# Función que toma un argumento\r\n",
        "def my_fun_2(nombre):\r\n",
        "  print(\"Hola \" + nombre)"
      ],
      "execution_count": null,
      "outputs": []
    },
    {
      "cell_type": "code",
      "metadata": {
        "colab": {
          "base_uri": "https://localhost:8080/"
        },
        "id": "8rv7ZyEFtqer",
        "outputId": "48f95842-6dea-41c5-f9b4-47f3f690b38f"
      },
      "source": [
        "my_fun_2(\"Robert\")"
      ],
      "execution_count": null,
      "outputs": [
        {
          "output_type": "stream",
          "text": [
            "Hola Robert\n"
          ],
          "name": "stdout"
        }
      ]
    },
    {
      "cell_type": "code",
      "metadata": {
        "id": "tqqwvQ3ltqoF"
      },
      "source": [
        "# Función que devuelve un resultado\r\n",
        "def my_fun_3(nombre):\r\n",
        "  texto = \"Hola \" + nombre\r\n",
        "  return(texto)"
      ],
      "execution_count": null,
      "outputs": []
    },
    {
      "cell_type": "code",
      "metadata": {
        "colab": {
          "base_uri": "https://localhost:8080/",
          "height": 36
        },
        "id": "3FLxLup2uKCV",
        "outputId": "a53cc8ca-d19f-4464-dc9f-4e530e7d08ae"
      },
      "source": [
        "my_fun_3(\"Robert\")"
      ],
      "execution_count": null,
      "outputs": [
        {
          "output_type": "execute_result",
          "data": {
            "application/vnd.google.colaboratory.intrinsic+json": {
              "type": "string"
            },
            "text/plain": [
              "'Hola Robert'"
            ]
          },
          "metadata": {
            "tags": []
          },
          "execution_count": 38
        }
      ]
    },
    {
      "cell_type": "code",
      "metadata": {
        "colab": {
          "base_uri": "https://localhost:8080/"
        },
        "id": "7CX3EI_7FVPO",
        "outputId": "7475e1f0-6641-43dd-dcba-7886207dc4c2"
      },
      "source": [
        "nombre2 = my_fun_2(\"Robert\")"
      ],
      "execution_count": null,
      "outputs": [
        {
          "output_type": "stream",
          "text": [
            "Hola Robert\n"
          ],
          "name": "stdout"
        }
      ]
    },
    {
      "cell_type": "code",
      "metadata": {
        "id": "MgTfQ67uFxLc"
      },
      "source": [
        "nombre2"
      ],
      "execution_count": null,
      "outputs": []
    },
    {
      "cell_type": "code",
      "metadata": {
        "id": "_FkDZ-q8F2eB"
      },
      "source": [
        "nombre1 = my_fun_3(\"Robert\")"
      ],
      "execution_count": null,
      "outputs": []
    },
    {
      "cell_type": "code",
      "metadata": {
        "colab": {
          "base_uri": "https://localhost:8080/",
          "height": 36
        },
        "id": "5z6C8h6qF6tk",
        "outputId": "529bf257-dca0-460b-93b8-98165b79a37e"
      },
      "source": [
        "nombre1"
      ],
      "execution_count": null,
      "outputs": [
        {
          "output_type": "execute_result",
          "data": {
            "application/vnd.google.colaboratory.intrinsic+json": {
              "type": "string"
            },
            "text/plain": [
              "'Hola Robert'"
            ]
          },
          "metadata": {
            "tags": []
          },
          "execution_count": 48
        }
      ]
    },
    {
      "cell_type": "markdown",
      "metadata": {
        "id": "6gs295H_vjyQ"
      },
      "source": [
        "En Python todos los objetos cuentan con una variable especial llamada doc gracias a la que podemos describir para qué sirven los y cómo se usan los objetos. Estas variables reciben el nombre de docstrings, cadenas de documentación."
      ]
    },
    {
      "cell_type": "code",
      "metadata": {
        "id": "i3CQvaYQvk--"
      },
      "source": [
        "# Poniendo un DOCSTRING en nuestra función anterior\r\n",
        "def my_fun_4(nombre,apellido):\r\n",
        "  \"\"\" En esta función, se toman dos variables, nombre y apellido\"\"\"\r\n",
        "  texto = 'Hola ' + nombre + ' ' + apellido\r\n",
        "  return(texto)"
      ],
      "execution_count": null,
      "outputs": []
    },
    {
      "cell_type": "code",
      "metadata": {
        "colab": {
          "base_uri": "https://localhost:8080/",
          "height": 36
        },
        "id": "AijgYRGnvlCQ",
        "outputId": "29541c6d-ed9d-4fd7-f4fb-331e40adeac5"
      },
      "source": [
        "my_fun_4(\"Lalo\",\"Jaramillo\")"
      ],
      "execution_count": null,
      "outputs": [
        {
          "output_type": "execute_result",
          "data": {
            "application/vnd.google.colaboratory.intrinsic+json": {
              "type": "string"
            },
            "text/plain": [
              "'Hola Lalo Jaramillo'"
            ]
          },
          "metadata": {
            "tags": []
          },
          "execution_count": 50
        }
      ]
    },
    {
      "cell_type": "code",
      "metadata": {
        "colab": {
          "base_uri": "https://localhost:8080/"
        },
        "id": "6FRKu2ikyccr",
        "outputId": "c8e19288-ad63-4f5b-a901-2e96b4a4e194"
      },
      "source": [
        "help(my_fun_4)"
      ],
      "execution_count": null,
      "outputs": [
        {
          "output_type": "stream",
          "text": [
            "Help on function my_fun_4 in module __main__:\n",
            "\n",
            "my_fun_4(nombre, apellido)\n",
            "    En esta función, se toman dos variables, nombre y apellido\n",
            "\n"
          ],
          "name": "stdout"
        }
      ]
    },
    {
      "cell_type": "markdown",
      "metadata": {
        "id": "8JzcDXHSpXM1"
      },
      "source": [
        "## Datos de Uso en Biología : Biodatos\r\n",
        "\r\n",
        "Los Biodatos son expresiones generales que describen características de sistemas biológicos sobre las que operan algoritmos. Estas expresiones deben presentarse de una cierta manera para que puedan ser tratadas por una computadora."
      ]
    },
    {
      "cell_type": "markdown",
      "metadata": {
        "id": "vOTuOpQK9GCX"
      },
      "source": [
        "A continuación, se presenta un esquema para definir estructuras generales de datos (y biodatos)"
      ]
    },
    {
      "cell_type": "markdown",
      "metadata": {
        "id": "ccSsBG5-7uCn"
      },
      "source": [
        "![Captura de pantalla 2021-03-11 001720.png](data:image/png;base64,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)"
      ]
    },
    {
      "cell_type": "markdown",
      "metadata": {
        "id": "XS1mj4tx_WyO"
      },
      "source": [
        "\r\n",
        "Como primer acercamiento, podemos ver que ya hemos trabajado con datos de un solo valor. Técnicamente ya hemos definido variables de dimensión-cero.\r\n"
      ]
    },
    {
      "cell_type": "code",
      "metadata": {
        "id": "uZDUQXr_8ee7"
      },
      "source": [
        "var1 = \"uno\"\r\n",
        "var2 = 2\r\n",
        "var3 = True"
      ],
      "execution_count": null,
      "outputs": []
    },
    {
      "cell_type": "markdown",
      "metadata": {
        "id": "9Hj9x9PK_xMp"
      },
      "source": [
        "A continuación, veremos las estructuras de datos especiales"
      ]
    },
    {
      "cell_type": "markdown",
      "metadata": {
        "id": "nFfQER4c9ZdP"
      },
      "source": [
        "### Datos unidimensionales"
      ]
    },
    {
      "cell_type": "markdown",
      "metadata": {
        "id": "-sjgIV-5AVhd"
      },
      "source": [
        "Son estructuras en donde podemos almacenar información que es interpreatada como elementos individuales de un índice."
      ]
    },
    {
      "cell_type": "markdown",
      "metadata": {
        "id": "XSc5TgcJ9Zza"
      },
      "source": [
        "#### Listas"
      ]
    },
    {
      "cell_type": "markdown",
      "metadata": {
        "id": "yGQOnJGBAWmG"
      },
      "source": [
        "\r\n",
        "Una lista en Python es una estructura de datos formada por una secuencia ordenada de objetos. Lo especial de las listas en Python es que nos permiten almacenar cualquier tipo de valor como enteros, cadenas y hasta otras funciones.\r\n",
        "\r\n",
        "En el caso de R estos son denominados vectores.\r\n",
        "\r\n",
        "    c(1,2,3)"
      ]
    },
    {
      "cell_type": "code",
      "metadata": {
        "id": "KTnZVCIt9Z8m"
      },
      "source": [
        "# Una lista puede estar compuesta por valores numéricos\r\n",
        "list1 = [1, 2, 3, 4, 5, 6]"
      ],
      "execution_count": null,
      "outputs": []
    },
    {
      "cell_type": "code",
      "metadata": {
        "colab": {
          "base_uri": "https://localhost:8080/"
        },
        "id": "iVuK7dkQJf8W",
        "outputId": "af455914-0f74-463e-ff8b-c6581a0d9372"
      },
      "source": [
        "list1"
      ],
      "execution_count": null,
      "outputs": [
        {
          "output_type": "execute_result",
          "data": {
            "text/plain": [
              "[1, 2, 3, 4, 5, 6]"
            ]
          },
          "metadata": {
            "tags": []
          },
          "execution_count": 63
        }
      ]
    },
    {
      "cell_type": "code",
      "metadata": {
        "id": "YEGwzXZmgXU5"
      },
      "source": [
        "# Tambien por caracteres\r\n",
        "list2 = ['uno', 'dos', 'tres']"
      ],
      "execution_count": null,
      "outputs": []
    },
    {
      "cell_type": "code",
      "metadata": {
        "colab": {
          "base_uri": "https://localhost:8080/"
        },
        "id": "R8Jf3wimJjqr",
        "outputId": "1d09e98d-fe2a-45a4-91d6-3bf0ca2a5d9e"
      },
      "source": [
        "list2"
      ],
      "execution_count": null,
      "outputs": [
        {
          "output_type": "execute_result",
          "data": {
            "text/plain": [
              "['uno', 'dos', 'tres']"
            ]
          },
          "metadata": {
            "tags": []
          },
          "execution_count": 65
        }
      ]
    },
    {
      "cell_type": "markdown",
      "metadata": {
        "id": "HT9SxFzzglpe"
      },
      "source": [
        "Por defecto, las listas aceptan tipos de datos heterogéneos"
      ]
    },
    {
      "cell_type": "code",
      "metadata": {
        "id": "t1HifqDrgXca"
      },
      "source": [
        "# Combinación de caracteres, numeros y booleanos\r\n",
        "list3 = ['uno', 1, 'dos punto cinco', 2.5, True]"
      ],
      "execution_count": null,
      "outputs": []
    },
    {
      "cell_type": "code",
      "metadata": {
        "colab": {
          "base_uri": "https://localhost:8080/"
        },
        "id": "SfwIcXzUJtck",
        "outputId": "5b9b81e5-2e8f-4c05-d236-2059ed094e04"
      },
      "source": [
        "list3"
      ],
      "execution_count": null,
      "outputs": [
        {
          "output_type": "execute_result",
          "data": {
            "text/plain": [
              "['uno', 1, 'dos punto cinco', 2.5, True]"
            ]
          },
          "metadata": {
            "tags": []
          },
          "execution_count": 67
        }
      ]
    },
    {
      "cell_type": "markdown",
      "metadata": {
        "id": "YZD8voLsg9AN"
      },
      "source": [
        "E incluso tenemos listas de listas"
      ]
    },
    {
      "cell_type": "code",
      "metadata": {
        "id": "DfC05gr8gXmS"
      },
      "source": [
        "# Lista de Listas\r\n",
        "list5 = [[1,2,3],[4,5,6],[7,8,9]]"
      ],
      "execution_count": null,
      "outputs": []
    },
    {
      "cell_type": "code",
      "metadata": {
        "colab": {
          "base_uri": "https://localhost:8080/"
        },
        "id": "mqzyVCVbhOSj",
        "outputId": "17d609ba-e60c-4d0a-9ec4-6bb909784c89"
      },
      "source": [
        "list5"
      ],
      "execution_count": null,
      "outputs": [
        {
          "output_type": "execute_result",
          "data": {
            "text/plain": [
              "[[1, 2, 3], [4, 5, 6], [7, 8, 9]]"
            ]
          },
          "metadata": {
            "tags": []
          },
          "execution_count": 60
        }
      ]
    },
    {
      "cell_type": "markdown",
      "metadata": {
        "id": "8gi0gkqJhNpl"
      },
      "source": [
        "Y por último, podemos definir listas vacías"
      ]
    },
    {
      "cell_type": "code",
      "metadata": {
        "id": "w_7zLFkuhV1i"
      },
      "source": [
        "list6 = []"
      ],
      "execution_count": null,
      "outputs": []
    },
    {
      "cell_type": "code",
      "metadata": {
        "colab": {
          "base_uri": "https://localhost:8080/"
        },
        "id": "tYKPMYpZhXfO",
        "outputId": "1dd8f9c3-4891-4419-e4f6-455a4dffc348"
      },
      "source": [
        "list6"
      ],
      "execution_count": null,
      "outputs": [
        {
          "output_type": "execute_result",
          "data": {
            "text/plain": [
              "[]"
            ]
          },
          "metadata": {
            "tags": []
          },
          "execution_count": 70
        }
      ]
    },
    {
      "cell_type": "markdown",
      "metadata": {
        "id": "CzcZh4mJ9aDU"
      },
      "source": [
        "#### Arrays"
      ]
    },
    {
      "cell_type": "markdown",
      "metadata": {
        "id": "WJT8lH0gAXYy"
      },
      "source": [
        "Python tiene listas, enteros, punto flotante, etc. Para cálculo numérico necesitamos más... allí aparece Numpy. \r\n",
        "\r\n",
        "Numpy es un paquete que provee a Python con arreglos multidimensionales de alta eficiencia y diseñados para cálculo científico.\r\n",
        "\r\n",
        "Un array puede contener:\r\n",
        "\r\n",
        "- tiempos discretos de un experimento o simulación.\r\n",
        "- señales grabadas por un instrumento de medida.\r\n",
        "- pixeles de una imagen, etc.\r\n"
      ]
    },
    {
      "cell_type": "code",
      "metadata": {
        "id": "llzeb0kx9aKp"
      },
      "source": [
        "# Numpy es un paquete fuera del entorno base de ejecución de Python.\r\n",
        "# Es necesario cargar Numpy antes de poder usar los métodos de este paquete.\r\n",
        "\r\n",
        "import numpy"
      ],
      "execution_count": null,
      "outputs": []
    },
    {
      "cell_type": "code",
      "metadata": {
        "id": "NDMfc9wW036m"
      },
      "source": [
        "# También se pueden cargar los paquetes como alias\r\n",
        "\r\n",
        "import numpy as np"
      ],
      "execution_count": null,
      "outputs": []
    },
    {
      "cell_type": "code",
      "metadata": {
        "colab": {
          "base_uri": "https://localhost:8080/"
        },
        "id": "lOY86-Pa1AT4",
        "outputId": "2aa61b45-bd32-4fb2-da67-3d361ceadbc5"
      },
      "source": [
        "# Una vez cargado el paquete, podemos definir un arreglo\r\n",
        "\r\n",
        "np.array([1,2,3,4])"
      ],
      "execution_count": null,
      "outputs": [
        {
          "output_type": "execute_result",
          "data": {
            "text/plain": [
              "array([1, 2, 3, 4])"
            ]
          },
          "metadata": {
            "tags": []
          },
          "execution_count": 73
        }
      ]
    },
    {
      "cell_type": "markdown",
      "metadata": {
        "id": "Dk9ze20mFfwa"
      },
      "source": [
        "Una pregunta que necesitamos hacernos es ...\r\n",
        "\r\n",
        "¿Cuál es la diferencia entre la lista y el arreglo de numpy?"
      ]
    },
    {
      "cell_type": "markdown",
      "metadata": {
        "id": "rClSh_5-9aQs"
      },
      "source": [
        "#### Diccionarios"
      ]
    },
    {
      "cell_type": "markdown",
      "metadata": {
        "id": "_M3rWZH9AXyy"
      },
      "source": [
        "Un Diccionario es una estructura de datos y un tipo de dato en Python con características especiales que nos permite almacenar cualquier tipo de valor como enteros, cadenas, listas e incluso otras funciones. Estos diccionarios nos permiten además identificar cada elemento por una clave (Key)"
      ]
    },
    {
      "cell_type": "code",
      "metadata": {
        "id": "ulQo2tC19aX2"
      },
      "source": [
        "diccionario = {'nombre' : 'Carlos', 'edad' : 22, 'cursos': ['Python','Django','JavaScript'] }"
      ],
      "execution_count": null,
      "outputs": []
    },
    {
      "cell_type": "markdown",
      "metadata": {
        "id": "CjpAJn0GGH3Z"
      },
      "source": [
        "Podemos acceder al elemento de un Diccionario mediante la clave de este elemento, como veremos a continuación:"
      ]
    },
    {
      "cell_type": "code",
      "metadata": {
        "colab": {
          "base_uri": "https://localhost:8080/"
        },
        "id": "ZH_mobuPGLiO",
        "outputId": "25f0c25c-d2ee-4077-bc0e-d2280ba46137"
      },
      "source": [
        "print(diccionario['nombre'])\r\n",
        "print(diccionario['edad'])\r\n",
        "print(diccionario['cursos'])"
      ],
      "execution_count": null,
      "outputs": [
        {
          "output_type": "stream",
          "text": [
            "Carlos\n",
            "22\n",
            "['Python', 'Django', 'JavaScript']\n"
          ],
          "name": "stdout"
        }
      ]
    },
    {
      "cell_type": "code",
      "metadata": {
        "colab": {
          "base_uri": "https://localhost:8080/"
        },
        "id": "kObQkGnsM_Vr",
        "outputId": "603c253e-2352-4e56-f80e-5a02804ab55e"
      },
      "source": [
        "diccionario['edad']"
      ],
      "execution_count": null,
      "outputs": [
        {
          "output_type": "execute_result",
          "data": {
            "text/plain": [
              "22"
            ]
          },
          "metadata": {
            "tags": []
          },
          "execution_count": 76
        }
      ]
    },
    {
      "cell_type": "markdown",
      "metadata": {
        "id": "El2GTEFkGd0s"
      },
      "source": [
        "También es posible insertar una lista dentro de un diccionario. Para acceder a cada uno de los cursos usamos los índices:"
      ]
    },
    {
      "cell_type": "code",
      "metadata": {
        "id": "ba7I4aBzGe2i"
      },
      "source": [
        "print(diccionario['cursos'][0])\r\n",
        "print(diccionario['cursos'][1])\r\n",
        "print(diccionario['cursos'][2])"
      ],
      "execution_count": null,
      "outputs": []
    },
    {
      "cell_type": "code",
      "metadata": {
        "colab": {
          "base_uri": "https://localhost:8080/",
          "height": 36
        },
        "id": "GoDViXqLNL2H",
        "outputId": "c9df3ac4-cd7b-46c3-fe90-b8d459d69280"
      },
      "source": [
        "diccionario['cursos'][0]"
      ],
      "execution_count": null,
      "outputs": [
        {
          "output_type": "execute_result",
          "data": {
            "application/vnd.google.colaboratory.intrinsic+json": {
              "type": "string"
            },
            "text/plain": [
              "'Python'"
            ]
          },
          "metadata": {
            "tags": []
          },
          "execution_count": 78
        }
      ]
    },
    {
      "cell_type": "markdown",
      "metadata": {
        "id": "lyXRFNBZ-Z1r"
      },
      "source": [
        "### Datos multidimensionales"
      ]
    },
    {
      "cell_type": "markdown",
      "metadata": {
        "id": "95e5WkkLAYJ1"
      },
      "source": [
        ""
      ]
    },
    {
      "cell_type": "markdown",
      "metadata": {
        "id": "XtCaPadE-7xL"
      },
      "source": [
        "#### Matrices"
      ]
    },
    {
      "cell_type": "markdown",
      "metadata": {
        "id": "yyuND5yPAYhl"
      },
      "source": [
        "Las matrices son una estructura de datos bidimencional donde los elementos se organizan en filas y columnas. Ejemplo de esto: \r\n",
        "\r\n",
        "![matriz.png.webp](data:image/webp;base64,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)\r\n",
        "\r\n",
        "Python no tiene un tipo de dato incorporado para trabajar con matrices, sin embargo podemos tratar la matriz como una lista de listas, por ejemplo:"
      ]
    },
    {
      "cell_type": "code",
      "metadata": {
        "id": "9mMRNhuQrzNt"
      },
      "source": [
        "A = [[1,2,3],\r\n",
        "     [4,5,6]]"
      ],
      "execution_count": null,
      "outputs": []
    },
    {
      "cell_type": "code",
      "metadata": {
        "colab": {
          "base_uri": "https://localhost:8080/"
        },
        "id": "CpDU0VGZr6j-",
        "outputId": "f1089e3d-15a0-42f1-9585-b3424776ebd5"
      },
      "source": [
        "print(A)"
      ],
      "execution_count": null,
      "outputs": [
        {
          "output_type": "stream",
          "text": [
            "[[1, 2, 3], [4, 5, 6]]\n"
          ],
          "name": "stdout"
        }
      ]
    },
    {
      "cell_type": "markdown",
      "metadata": {
        "id": "kJZLN5Civ9za"
      },
      "source": [
        " El uso de las listas anidadas para trabajar como una matriz funciona para tareas simples, sin embargo, a la hora de trabajar con matrices complejas podremos usar el paquete Numpy."
      ]
    },
    {
      "cell_type": "markdown",
      "metadata": {
        "id": "msTm0YDHwE6l"
      },
      "source": [
        "Hay varias formas de crear una array en NumPy, veamos un ejemplo con Integers, Floats y números complejos:"
      ]
    },
    {
      "cell_type": "code",
      "metadata": {
        "id": "Agd1Q9w8s5of"
      },
      "source": [
        "B = np.array( [[1,2,3],\r\n",
        "     [4,5,6],\r\n",
        "     [7,8,9],\r\n",
        "     [10,11,12]])\r\n"
      ],
      "execution_count": null,
      "outputs": []
    },
    {
      "cell_type": "code",
      "metadata": {
        "colab": {
          "base_uri": "https://localhost:8080/"
        },
        "id": "PDxE-okushlh",
        "outputId": "ac3616ad-fc1f-4992-c281-920f69607638"
      },
      "source": [
        "print(B)"
      ],
      "execution_count": null,
      "outputs": [
        {
          "output_type": "stream",
          "text": [
            "[[ 1  2  3]\n",
            " [ 4  5  6]\n",
            " [ 7  8  9]\n",
            " [10 11 12]]\n"
          ],
          "name": "stdout"
        }
      ]
    },
    {
      "cell_type": "code",
      "metadata": {
        "colab": {
          "base_uri": "https://localhost:8080/"
        },
        "id": "dPjsZBl4tDdR",
        "outputId": "d991d918-eb1c-430a-e96f-00d12711be16"
      },
      "source": [
        "# Array de ceros de la forma m x n\r\n",
        "C = np.zeros((2,3))\r\n",
        "C"
      ],
      "execution_count": null,
      "outputs": [
        {
          "output_type": "execute_result",
          "data": {
            "text/plain": [
              "array([[0., 0., 0.],\n",
              "       [0., 0., 0.]])"
            ]
          },
          "metadata": {
            "tags": []
          },
          "execution_count": 33
        }
      ]
    },
    {
      "cell_type": "code",
      "metadata": {
        "id": "CawkW8LXwkS9",
        "colab": {
          "base_uri": "https://localhost:8080/"
        },
        "outputId": "c454dd1d-6374-47d4-cea3-6aa9659a3721"
      },
      "source": [
        "# Array de unos de la forma m x n\r\n",
        "D = np.ones((2,3))\r\n",
        "D"
      ],
      "execution_count": null,
      "outputs": [
        {
          "output_type": "execute_result",
          "data": {
            "text/plain": [
              "array([[1., 1., 1.],\n",
              "       [1., 1., 1.]])"
            ]
          },
          "metadata": {
            "tags": []
          },
          "execution_count": 83
        }
      ]
    },
    {
      "cell_type": "code",
      "metadata": {
        "id": "s0DCTQHewt1s"
      },
      "source": [
        "# Podemos crear desde enteros numerados\r\n",
        "array1= np.arange(10)\r\n",
        "E = array1.reshape(2,5)\r\n",
        "\r\n",
        "# O de una lista nativa de Python\r\n",
        "\r\n",
        "list1 = [1,2,3,4,5,6,7,8,9,10]\r\n",
        "F = np.array(list1).reshape(2,5)"
      ],
      "execution_count": null,
      "outputs": []
    },
    {
      "cell_type": "code",
      "metadata": {
        "colab": {
          "base_uri": "https://localhost:8080/"
        },
        "id": "SFXIcsj0xehZ",
        "outputId": "fbe51ceb-cae2-424f-d745-55e24411062a"
      },
      "source": [
        "#Objeto E\r\n",
        "print('Objeto E:')\r\n",
        "print(E)\r\n",
        "print('Objeto F:')\r\n",
        "print(F)"
      ],
      "execution_count": null,
      "outputs": [
        {
          "output_type": "stream",
          "text": [
            "Objeto E:\n",
            "[[0 1 2 3 4]\n",
            " [5 6 7 8 9]]\n",
            "Objeto F:\n",
            "[[ 1  2  3  4  5]\n",
            " [ 6  7  8  9 10]]\n"
          ],
          "name": "stdout"
        }
      ]
    },
    {
      "cell_type": "code",
      "metadata": {
        "colab": {
          "base_uri": "https://localhost:8080/"
        },
        "id": "3C7An4aTxobO",
        "outputId": "bce29453-43ed-4895-f34d-7ea84d875b4a"
      },
      "source": [
        "F"
      ],
      "execution_count": null,
      "outputs": [
        {
          "output_type": "execute_result",
          "data": {
            "text/plain": [
              "array([[ 1,  2,  3,  4,  5],\n",
              "       [ 6,  7,  8,  9, 10]])"
            ]
          },
          "metadata": {
            "tags": []
          },
          "execution_count": 46
        }
      ]
    },
    {
      "cell_type": "markdown",
      "metadata": {
        "id": "Ux-Z7tLBx3a1"
      },
      "source": [
        ""
      ]
    },
    {
      "cell_type": "markdown",
      "metadata": {
        "id": "sVYnyEpp_Bt1"
      },
      "source": [
        "#### DataFrames"
      ]
    },
    {
      "cell_type": "markdown",
      "metadata": {
        "id": "PcCYRj_KAY5B"
      },
      "source": [
        "El DataFrame es una estructura de 2 dimensiones etiquetada donde podemos almacenar datos de diferentes tipos. DataFrame es similar a una tabla SQL, una hoja de cálculo de Excel, una matriz de tipo heterogénea o simplemente una tabla.\r\n",
        "\r\n",
        "Pandas es una biblioteca de código abierto de Python que proporciona análisis y manipulación de datos en la programación en Python.\r\n"
      ]
    },
    {
      "cell_type": "markdown",
      "metadata": {
        "id": "AhYnHX9Az6T3"
      },
      "source": [
        "Para empezar a trabajar con el paquete de pandas, hay que importarlo"
      ]
    },
    {
      "cell_type": "code",
      "metadata": {
        "id": "GZ1wFUg-s5rW"
      },
      "source": [
        "import pandas"
      ],
      "execution_count": null,
      "outputs": []
    },
    {
      "cell_type": "markdown",
      "metadata": {
        "id": "oPNXcK0t_FQg"
      },
      "source": [
        "En la mayor parte de los casos, nosotros no vamos a definir un dataframe desde cero, sino que vamos a cargar información o tablas previamente generada en otros pasos. Ejemplos:\r\n",
        "- Una Tabla de Abundancia Taxonómica\r\n",
        "- Resultados de BLAST\r\n",
        "- Grafos Acíclicos\r\n",
        "- Relaciones Padre / Hijo\r\n",
        "- Mapas Genéticos"
      ]
    },
    {
      "cell_type": "code",
      "metadata": {
        "id": "bWhuZFwd0MaS"
      },
      "source": [
        "# Para cargar un archivo de Excel:\r\n",
        "pandas.read_excel('datos.xlsx', 'Sheet1')"
      ],
      "execution_count": null,
      "outputs": []
    },
    {
      "cell_type": "markdown",
      "metadata": {
        "id": "W9sLYyoD0vIg"
      },
      "source": [
        "Para leer un archivo CSV, puedes usar el método read_csv () de pandas."
      ]
    },
    {
      "cell_type": "code",
      "metadata": {
        "id": "KMzXB7Ct0q4f"
      },
      "source": [
        "# un CSV es un formato de tablas separado por comas\r\n",
        "pandas.read_csv('datos.csv')"
      ],
      "execution_count": null,
      "outputs": []
    },
    {
      "cell_type": "code",
      "metadata": {
        "colab": {
          "base_uri": "https://localhost:8080/",
          "height": 425
        },
        "id": "zHf0JhZCRlAI",
        "outputId": "214be344-9486-407b-e7de-d5340d79ef17"
      },
      "source": [
        "pandas.read_csv('pheno.csv')"
      ],
      "execution_count": null,
      "outputs": [
        {
          "output_type": "execute_result",
          "data": {
            "text/html": [
              "<div>\n",
              "<style scoped>\n",
              "    .dataframe tbody tr th:only-of-type {\n",
              "        vertical-align: middle;\n",
              "    }\n",
              "\n",
              "    .dataframe tbody tr th {\n",
              "        vertical-align: top;\n",
              "    }\n",
              "\n",
              "    .dataframe thead th {\n",
              "        text-align: right;\n",
              "    }\n",
              "</style>\n",
              "<table border=\"1\" class=\"dataframe\">\n",
              "  <thead>\n",
              "    <tr style=\"text-align: right;\">\n",
              "      <th></th>\n",
              "      <th>ids</th>\n",
              "      <th>sample</th>\n",
              "      <th>experiment</th>\n",
              "    </tr>\n",
              "  </thead>\n",
              "  <tbody>\n",
              "    <tr>\n",
              "      <th>0</th>\n",
              "      <td>Sample1_S7_L001</td>\n",
              "      <td>Sample1</td>\n",
              "      <td>control</td>\n",
              "    </tr>\n",
              "    <tr>\n",
              "      <th>1</th>\n",
              "      <td>Sample1_S7_L002</td>\n",
              "      <td>Sample1</td>\n",
              "      <td>control</td>\n",
              "    </tr>\n",
              "    <tr>\n",
              "      <th>2</th>\n",
              "      <td>Sample1_S7_L003</td>\n",
              "      <td>Sample1</td>\n",
              "      <td>control</td>\n",
              "    </tr>\n",
              "    <tr>\n",
              "      <th>3</th>\n",
              "      <td>Sample1_S7_L004</td>\n",
              "      <td>Sample1</td>\n",
              "      <td>control</td>\n",
              "    </tr>\n",
              "    <tr>\n",
              "      <th>4</th>\n",
              "      <td>Sample2_S8_L001</td>\n",
              "      <td>Sample2</td>\n",
              "      <td>initial</td>\n",
              "    </tr>\n",
              "    <tr>\n",
              "      <th>5</th>\n",
              "      <td>Sample2_S8_L002</td>\n",
              "      <td>Sample2</td>\n",
              "      <td>initial</td>\n",
              "    </tr>\n",
              "    <tr>\n",
              "      <th>6</th>\n",
              "      <td>Sample2_S8_L003</td>\n",
              "      <td>Sample2</td>\n",
              "      <td>initial</td>\n",
              "    </tr>\n",
              "    <tr>\n",
              "      <th>7</th>\n",
              "      <td>Sample2_S8_L004</td>\n",
              "      <td>Sample2</td>\n",
              "      <td>initial</td>\n",
              "    </tr>\n",
              "    <tr>\n",
              "      <th>8</th>\n",
              "      <td>Sample3_S12_L001</td>\n",
              "      <td>Sample3</td>\n",
              "      <td>experimental</td>\n",
              "    </tr>\n",
              "    <tr>\n",
              "      <th>9</th>\n",
              "      <td>Sample3_S12_L002</td>\n",
              "      <td>Sample3</td>\n",
              "      <td>experimental</td>\n",
              "    </tr>\n",
              "    <tr>\n",
              "      <th>10</th>\n",
              "      <td>Sample3_S12_L003</td>\n",
              "      <td>Sample3</td>\n",
              "      <td>experimental</td>\n",
              "    </tr>\n",
              "    <tr>\n",
              "      <th>11</th>\n",
              "      <td>Sample3_S12_L004</td>\n",
              "      <td>Sample3</td>\n",
              "      <td>experimental</td>\n",
              "    </tr>\n",
              "  </tbody>\n",
              "</table>\n",
              "</div>"
            ],
            "text/plain": [
              "                 ids   sample    experiment\n",
              "0    Sample1_S7_L001  Sample1       control\n",
              "1    Sample1_S7_L002  Sample1       control\n",
              "2    Sample1_S7_L003  Sample1       control\n",
              "3    Sample1_S7_L004  Sample1       control\n",
              "4    Sample2_S8_L001  Sample2       initial\n",
              "5    Sample2_S8_L002  Sample2       initial\n",
              "6    Sample2_S8_L003  Sample2       initial\n",
              "7    Sample2_S8_L004  Sample2       initial\n",
              "8   Sample3_S12_L001  Sample3  experimental\n",
              "9   Sample3_S12_L002  Sample3  experimental\n",
              "10  Sample3_S12_L003  Sample3  experimental\n",
              "11  Sample3_S12_L004  Sample3  experimental"
            ]
          },
          "metadata": {
            "tags": []
          },
          "execution_count": 86
        }
      ]
    },
    {
      "cell_type": "markdown",
      "metadata": {
        "id": "oZDuWPvR09W5"
      },
      "source": [
        "Cuando el delimitador es una un tabulador ``` \\t ```, como pandas no tiene idea del delimitador, asume que será una coma ``` , ``` y es probable que no se cargue de la forma que deseamos.\r\n",
        "\r\n",
        "Para leer archivos separados por tabuladores\r\n",
        "\r\n",
        "    pandas.read_csv('archivo.txt', sep = '\\t')\r\n",
        "\r\n",
        "Para leer archivos separados por espacios\r\n",
        "\r\n",
        "    pandas.read_csv('archivo.txt', sep = ' ')\r\n",
        "\r\n",
        "Para leer archivos separados por punto y coma\r\n",
        "\r\n",
        "    pandas.read_csv('archivo.txt', sep = ';')\r\n",
        "\r\n",
        "Para leer archivos separados por guiones bajos\r\n",
        "\r\n",
        "    pandas.read_csv('archivo.txt', sep = '_')\r\n",
        "\r\n",
        "\r\n",
        "Para definir el carácter de tabulación como un separador de columnas, pasemos el argumento delimiter de esta manera:\r\n",
        "\r\n"
      ]
    },
    {
      "cell_type": "code",
      "metadata": {
        "id": "2uGMWg5009e_"
      },
      "source": [
        "pandas.read_csv('datos.txt', sep='\\t')"
      ],
      "execution_count": null,
      "outputs": []
    },
    {
      "cell_type": "code",
      "metadata": {
        "colab": {
          "base_uri": "https://localhost:8080/",
          "height": 423
        },
        "id": "7sqX91ZeRP9m",
        "outputId": "58e63049-bc83-412b-abce-a3552fcf52f2"
      },
      "source": [
        "pandas.read_csv('result_diff.txt',sep='\\t')"
      ],
      "execution_count": null,
      "outputs": [
        {
          "output_type": "execute_result",
          "data": {
            "text/html": [
              "<div>\n",
              "<style scoped>\n",
              "    .dataframe tbody tr th:only-of-type {\n",
              "        vertical-align: middle;\n",
              "    }\n",
              "\n",
              "    .dataframe tbody tr th {\n",
              "        vertical-align: top;\n",
              "    }\n",
              "\n",
              "    .dataframe thead th {\n",
              "        text-align: right;\n",
              "    }\n",
              "</style>\n",
              "<table border=\"1\" class=\"dataframe\">\n",
              "  <thead>\n",
              "    <tr style=\"text-align: right;\">\n",
              "      <th></th>\n",
              "      <th>feature</th>\n",
              "      <th>id</th>\n",
              "      <th>fc</th>\n",
              "      <th>pval</th>\n",
              "      <th>qval</th>\n",
              "      <th>stat</th>\n",
              "      <th>log2fc</th>\n",
              "      <th>log10qvalue</th>\n",
              "    </tr>\n",
              "  </thead>\n",
              "  <tbody>\n",
              "    <tr>\n",
              "      <th>0</th>\n",
              "      <td>gene</td>\n",
              "      <td>MSTRG.1</td>\n",
              "      <td>11.331181</td>\n",
              "      <td>0.012472</td>\n",
              "      <td>0.019076</td>\n",
              "      <td>False</td>\n",
              "      <td>3.502226</td>\n",
              "      <td>1.719502</td>\n",
              "    </tr>\n",
              "    <tr>\n",
              "      <th>1</th>\n",
              "      <td>gene</td>\n",
              "      <td>MSTRG.10</td>\n",
              "      <td>47.491986</td>\n",
              "      <td>0.000159</td>\n",
              "      <td>0.000405</td>\n",
              "      <td>True</td>\n",
              "      <td>5.569612</td>\n",
              "      <td>3.392031</td>\n",
              "    </tr>\n",
              "    <tr>\n",
              "      <th>2</th>\n",
              "      <td>gene</td>\n",
              "      <td>MSTRG.100</td>\n",
              "      <td>0.333927</td>\n",
              "      <td>0.518996</td>\n",
              "      <td>0.549788</td>\n",
              "      <td>False</td>\n",
              "      <td>-1.582395</td>\n",
              "      <td>0.259804</td>\n",
              "    </tr>\n",
              "    <tr>\n",
              "      <th>3</th>\n",
              "      <td>gene</td>\n",
              "      <td>MSTRG.101</td>\n",
              "      <td>0.001544</td>\n",
              "      <td>0.000573</td>\n",
              "      <td>0.001304</td>\n",
              "      <td>True</td>\n",
              "      <td>-9.338667</td>\n",
              "      <td>2.884757</td>\n",
              "    </tr>\n",
              "    <tr>\n",
              "      <th>4</th>\n",
              "      <td>gene</td>\n",
              "      <td>MSTRG.102</td>\n",
              "      <td>0.000843</td>\n",
              "      <td>0.000061</td>\n",
              "      <td>0.000176</td>\n",
              "      <td>True</td>\n",
              "      <td>-10.212815</td>\n",
              "      <td>3.754777</td>\n",
              "    </tr>\n",
              "    <tr>\n",
              "      <th>...</th>\n",
              "      <td>...</td>\n",
              "      <td>...</td>\n",
              "      <td>...</td>\n",
              "      <td>...</td>\n",
              "      <td>...</td>\n",
              "      <td>...</td>\n",
              "      <td>...</td>\n",
              "      <td>...</td>\n",
              "    </tr>\n",
              "    <tr>\n",
              "      <th>977</th>\n",
              "      <td>gene</td>\n",
              "      <td>MSTRG.98</td>\n",
              "      <td>20.236941</td>\n",
              "      <td>0.069007</td>\n",
              "      <td>0.089164</td>\n",
              "      <td>False</td>\n",
              "      <td>4.338919</td>\n",
              "      <td>1.049811</td>\n",
              "    </tr>\n",
              "    <tr>\n",
              "      <th>978</th>\n",
              "      <td>gene</td>\n",
              "      <td>MSTRG.980</td>\n",
              "      <td>5.755419</td>\n",
              "      <td>0.245518</td>\n",
              "      <td>0.279372</td>\n",
              "      <td>False</td>\n",
              "      <td>2.524921</td>\n",
              "      <td>0.553816</td>\n",
              "    </tr>\n",
              "    <tr>\n",
              "      <th>979</th>\n",
              "      <td>gene</td>\n",
              "      <td>MSTRG.981</td>\n",
              "      <td>19.113703</td>\n",
              "      <td>0.000019</td>\n",
              "      <td>0.000061</td>\n",
              "      <td>True</td>\n",
              "      <td>4.256535</td>\n",
              "      <td>4.213357</td>\n",
              "    </tr>\n",
              "    <tr>\n",
              "      <th>980</th>\n",
              "      <td>gene</td>\n",
              "      <td>MSTRG.982</td>\n",
              "      <td>10.988142</td>\n",
              "      <td>0.000033</td>\n",
              "      <td>0.000100</td>\n",
              "      <td>True</td>\n",
              "      <td>3.457876</td>\n",
              "      <td>3.999295</td>\n",
              "    </tr>\n",
              "    <tr>\n",
              "      <th>981</th>\n",
              "      <td>gene</td>\n",
              "      <td>MSTRG.99</td>\n",
              "      <td>30.406467</td>\n",
              "      <td>0.000012</td>\n",
              "      <td>0.000040</td>\n",
              "      <td>True</td>\n",
              "      <td>4.926306</td>\n",
              "      <td>4.394471</td>\n",
              "    </tr>\n",
              "  </tbody>\n",
              "</table>\n",
              "<p>982 rows × 8 columns</p>\n",
              "</div>"
            ],
            "text/plain": [
              "    feature         id         fc  ...   stat     log2fc  log10qvalue\n",
              "0      gene    MSTRG.1  11.331181  ...  False   3.502226     1.719502\n",
              "1      gene   MSTRG.10  47.491986  ...   True   5.569612     3.392031\n",
              "2      gene  MSTRG.100   0.333927  ...  False  -1.582395     0.259804\n",
              "3      gene  MSTRG.101   0.001544  ...   True  -9.338667     2.884757\n",
              "4      gene  MSTRG.102   0.000843  ...   True -10.212815     3.754777\n",
              "..      ...        ...        ...  ...    ...        ...          ...\n",
              "977    gene   MSTRG.98  20.236941  ...  False   4.338919     1.049811\n",
              "978    gene  MSTRG.980   5.755419  ...  False   2.524921     0.553816\n",
              "979    gene  MSTRG.981  19.113703  ...   True   4.256535     4.213357\n",
              "980    gene  MSTRG.982  10.988142  ...   True   3.457876     3.999295\n",
              "981    gene   MSTRG.99  30.406467  ...   True   4.926306     4.394471\n",
              "\n",
              "[982 rows x 8 columns]"
            ]
          },
          "metadata": {
            "tags": []
          },
          "execution_count": 88
        }
      ]
    },
    {
      "cell_type": "markdown",
      "metadata": {
        "id": "dnEbPAiM1ta7"
      },
      "source": [
        "\r\n",
        "Por último, es de interés en ocasiones generar un DataFrame desde objetos hechos durante el procesamiento.\r\n",
        "\r\n",
        "\r\n",
        "En este código, creamos un DataFrame con tres columnas y tres filas usando el método ```DataFrame()``` de pandas. El resultado será el siguiente:\r\n"
      ]
    },
    {
      "cell_type": "code",
      "metadata": {
        "colab": {
          "base_uri": "https://localhost:8080/",
          "height": 143
        },
        "id": "kb9EKfO71tjd",
        "outputId": "d321abb1-d14a-4711-c211-01b44916b4dd"
      },
      "source": [
        "#Primero haremos un Diccionario\r\n",
        "frame = {'Nombre': ['Ana', 'Mia', 'Kat'], 'Edad': [18, 20, 22], 'Carrera': ['Ingeniería', 'Piloto', 'Chef']}\r\n",
        "pandas.DataFrame(frame)"
      ],
      "execution_count": null,
      "outputs": [
        {
          "output_type": "execute_result",
          "data": {
            "text/html": [
              "<div>\n",
              "<style scoped>\n",
              "    .dataframe tbody tr th:only-of-type {\n",
              "        vertical-align: middle;\n",
              "    }\n",
              "\n",
              "    .dataframe tbody tr th {\n",
              "        vertical-align: top;\n",
              "    }\n",
              "\n",
              "    .dataframe thead th {\n",
              "        text-align: right;\n",
              "    }\n",
              "</style>\n",
              "<table border=\"1\" class=\"dataframe\">\n",
              "  <thead>\n",
              "    <tr style=\"text-align: right;\">\n",
              "      <th></th>\n",
              "      <th>Nombre</th>\n",
              "      <th>Edad</th>\n",
              "      <th>Carrera</th>\n",
              "    </tr>\n",
              "  </thead>\n",
              "  <tbody>\n",
              "    <tr>\n",
              "      <th>0</th>\n",
              "      <td>Ana</td>\n",
              "      <td>18</td>\n",
              "      <td>Ingeniería</td>\n",
              "    </tr>\n",
              "    <tr>\n",
              "      <th>1</th>\n",
              "      <td>Mia</td>\n",
              "      <td>20</td>\n",
              "      <td>Piloto</td>\n",
              "    </tr>\n",
              "    <tr>\n",
              "      <th>2</th>\n",
              "      <td>Kat</td>\n",
              "      <td>22</td>\n",
              "      <td>Chef</td>\n",
              "    </tr>\n",
              "  </tbody>\n",
              "</table>\n",
              "</div>"
            ],
            "text/plain": [
              "  Nombre  Edad     Carrera\n",
              "0    Ana    18  Ingeniería\n",
              "1    Mia    20      Piloto\n",
              "2    Kat    22        Chef"
            ]
          },
          "metadata": {
            "tags": []
          },
          "execution_count": 51
        }
      ]
    }
  ]
}